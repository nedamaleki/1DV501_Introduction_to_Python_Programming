{
 "cells": [
  {
   "cell_type": "markdown",
   "id": "6e78bb31-0dc3-4c49-ac0a-9f58e8fcb546",
   "metadata": {},
   "source": [
    "# Task 1:\n",
    "Let's start with some math! Write a program that asks for two sides of a right-angled triangle and calculates the length of the third side (hypotenuse) using the Pythagorean theorem ($c² = a² + b²$). As we are supplying a and b, we need to calculate c as $c=\\sqrt{a²+b²}$​. Print, using f-strings, the result using two decimal."
   ]
  },
  {
   "cell_type": "code",
   "execution_count": 3,
   "id": "e5a01166-92c8-4051-807f-a4a00b524ee8",
   "metadata": {},
   "outputs": [
    {
     "name": "stdin",
     "output_type": "stream",
     "text": [
      "enter the first number: 5.6\n",
      "enter the second number: 7.9\n"
     ]
    },
    {
     "name": "stdout",
     "output_type": "stream",
     "text": [
      "9.683491106000975\n"
     ]
    }
   ],
   "source": [
    "import math\n",
    "a = float(input (\"enter the first number:\"))\n",
    "b = float(input (\"enter the second number:\"))\n",
    "\n",
    "c = math.sqrt (a **2 + b **2)\n",
    "\n",
    "print (c)"
   ]
  },
  {
   "cell_type": "markdown",
   "id": "cf31d19b-c48f-49ef-84ef-42ef5ca3baf7",
   "metadata": {},
   "source": [
    "# Task2: \n",
    "In this task, write a program that calculates if a given year is a leap year or not. The definition of a leap year is a year that is evenly divisible with 4 but not such years that are also divisible with 100. However, if the year is evenly divisible by 400, then it is a leap year. See below for several executions of the program."
   ]
  },
  {
   "cell_type": "code",
   "execution_count": 6,
   "id": "8f116336-5dd3-4e21-9be9-4548609893a1",
   "metadata": {},
   "outputs": [
    {
     "name": "stdin",
     "output_type": "stream",
     "text": [
      "Enter a year: 1800\n"
     ]
    },
    {
     "name": "stdout",
     "output_type": "stream",
     "text": [
      "This is not a leap year\n"
     ]
    }
   ],
   "source": [
    "year = int(input (\"Enter a year:\"))\n",
    "\n",
    "if (year%4 == 0 and year%100 != 0) or (year % 400 == 0):\n",
    "    print (\"This is a leap year\")\n",
    "else:\n",
    "    print (\"This is not a leap year\")"
   ]
  },
  {
   "cell_type": "markdown",
   "id": "7ed0a44a-13cd-4dde-b860-5ce71d31281d",
   "metadata": {},
   "source": [
    "# Task3: \n",
    "In this task, create a program where it is possible (does not have to be user input) to decide, based on temperature and the use of an umbrella, if a person will be wet or fine. The need for an umbrella is of course depending on if it rains or not, so make sure to ask about that. See below for a couple of examples of what it could look like when running."
   ]
  },
  {
   "cell_type": "code",
   "execution_count": 7,
   "id": "eead6e64-789b-4fd5-9af4-fb949502b300",
   "metadata": {},
   "outputs": [
    {
     "name": "stdin",
     "output_type": "stream",
     "text": [
      "What is the temperature?  18\n",
      "Is it rainy? y/n y\n",
      "Do you have umbrella? y/n n\n"
     ]
    },
    {
     "name": "stdout",
     "output_type": "stream",
     "text": [
      "Too bad, you will be wet!\n"
     ]
    }
   ],
   "source": [
    "temp = float (input (\"What is the temperature? \"))\n",
    "rain = input (\"Is it rainy? y/n\")\n",
    "umb = input (\"Do you have umbrella? y/n\")\n",
    "\n",
    "if rain == 'y':\n",
    "    raining = True\n",
    "else:\n",
    "    raining = False\n",
    "\n",
    "if umb == 'y':\n",
    "    umbrella = True\n",
    "else:\n",
    "    umbrella = False\n",
    "\n",
    "\n",
    "if temp >= 20 and not raining:\n",
    "    print (\"All is well\")\n",
    "elif temp < 20 and raining:\n",
    "    if umbrella:\n",
    "        print (\"It is raining but you have your umbrella!\")\n",
    "    else:\n",
    "        print (\"Too bad, you will be wet!\")\n",
    "\n",
    "else:\n",
    "    print (\"you seem to be fine\")\n",
    "\n"
   ]
  },
  {
   "cell_type": "markdown",
   "id": "32e1af93-e78f-443e-8594-feae0f2be96c",
   "metadata": {},
   "source": [
    "# Task 4: \n",
    "Write a program that prints the numbers 10 to 1 within brackets as shown below. Do it twice, first using while and then using for."
   ]
  },
  {
   "cell_type": "code",
   "execution_count": 17,
   "id": "11f914ce-d696-436b-963c-98157a4d73c7",
   "metadata": {},
   "outputs": [
    {
     "name": "stdout",
     "output_type": "stream",
     "text": [
      "[ 10 9 8 7 6 5 4 3 2 1 ]"
     ]
    }
   ],
   "source": [
    "number = 10\n",
    "\n",
    "print (\"[ \", end=\"\")\n",
    "\n",
    "while number > 0:\n",
    "    print(number, end =' ')\n",
    "    number = number- 1\n",
    "\n",
    "print (\"]\", end=\"\")"
   ]
  },
  {
   "cell_type": "code",
   "execution_count": 24,
   "id": "2fec0d35-e5d4-4ad6-944a-d0f384ab738d",
   "metadata": {},
   "outputs": [
    {
     "name": "stdout",
     "output_type": "stream",
     "text": [
      "[ 10 9 8 7 6 5 4 3 2 1 ]"
     ]
    }
   ],
   "source": [
    "#number = 10\n",
    "\n",
    "print (\"[ \", end=\"\")\n",
    "\n",
    "for i in range (10, 0, -1):\n",
    "     print(f'{i}', end =' ')\n",
    "\n",
    "print (\"]\", end=\"\")"
   ]
  },
  {
   "cell_type": "markdown",
   "id": "a81c5357-7423-413f-be5d-5af25c4f7ca8",
   "metadata": {},
   "source": [
    "# Task5:\n",
    "In this task, write a program that allows a user to repeatedly enter numbers until the number 0 is entered. When that happens, the program should end and the number of odd and even numbers should be printed."
   ]
  },
  {
   "cell_type": "code",
   "execution_count": 26,
   "id": "8389641c-1e9b-4ac2-833b-d3c9a6c36b75",
   "metadata": {},
   "outputs": [
    {
     "name": "stdin",
     "output_type": "stream",
     "text": [
      "Enter a number: 6\n",
      "Enter a number: 9\n",
      "Enter a number: 7\n",
      "Enter a number: 5\n",
      "Enter a number: 4\n",
      "Enter a number: 0\n"
     ]
    },
    {
     "name": "stdout",
     "output_type": "stream",
     "text": [
      "The number of even numbers is: 2\n",
      "The number of odd numbers is: 3\n"
     ]
    }
   ],
   "source": [
    "answer = -1\n",
    "even_count = 0\n",
    "odd_count = 0\n",
    "\n",
    "while answer!=0:\n",
    "    answer = int(input(\"Enter a number:\"))\n",
    "\n",
    "    if answer == 0:\n",
    "        pass\n",
    "    elif answer % 2 == 0:\n",
    "        even_count = even_count +1\n",
    "    elif answer % 2 != 0:\n",
    "        odd_count = odd_count +1\n",
    "        \n",
    "print(\"The number of even numbers is:\", even_count)\n",
    "print(\"The number of odd numbers is:\", odd_count)"
   ]
  },
  {
   "cell_type": "markdown",
   "id": "5a53e9d7-1414-46f1-8b83-b460dfdab4e6",
   "metadata": {},
   "source": [
    "# Task 6: \n",
    "Create a program that asks for a string and strips it of any whitespace before or after the text as well as making it all lowercase. The user should be able to input a string and see both the original and the stripped version of the string."
   ]
  },
  {
   "cell_type": "code",
   "execution_count": 30,
   "id": "78b540c2-6c8c-4faf-ad97-cc0b2f0344e7",
   "metadata": {},
   "outputs": [
    {
     "name": "stdin",
     "output_type": "stream",
     "text": [
      "Enter your string:          Hi Who Are You?\n"
     ]
    },
    {
     "name": "stdout",
     "output_type": "stream",
     "text": [
      "original string [         Hi Who Are You?]\n",
      "After applying methods [hi who are you?]\n"
     ]
    }
   ],
   "source": [
    "string = input (\"Enter your string:\")\n",
    "print (\"original string [\" + string + \"]\")\n",
    "string= string.strip()\n",
    "string= string.lower()\n",
    "print(\"After applying methods [\" + string + \"]\")"
   ]
  },
  {
   "cell_type": "markdown",
   "id": "51536a6f-8dee-49f6-a6c4-146047fb2829",
   "metadata": {},
   "source": [
    "# Task 7:\n",
    "Write a program that asks for a string and iterates through it to print only the smilies it finds in it. The smilies can be found at the following Unicode ranges:\n",
    "From U+1F600 to U+1F64F: This range includes many facial expressions, from happy to sad emojis.From U+1F300 to U+1F5FF: Contains various symbols, including some faces and figures.From U+2600 to U+26FF: Contains older symbols, including some smiley faces."
   ]
  },
  {
   "cell_type": "code",
   "execution_count": 34,
   "id": "68d73aee-4e0a-4369-9005-66b817bb5203",
   "metadata": {},
   "outputs": [
    {
     "name": "stdin",
     "output_type": "stream",
     "text": [
      "Please enter a string with smilies: Hello! 😀 This is a test 😎 with several emojis 🎉 and some text 🌞. How are you? 😂\n"
     ]
    },
    {
     "name": "stdout",
     "output_type": "stream",
     "text": [
      "The found emojis:\n",
      "😀😎🎉🌞😂"
     ]
    }
   ],
   "source": [
    "text = input (\"Please enter a string with smilies:\")\n",
    "\n",
    "print (\"The found emojis:\")\n",
    "\n",
    "for char in text:\n",
    "    if '\\U0001F600' <= char <= '\\U0001F64F' or '\\U0001F300' <= char <= '\\U0001F5FF' or '\\u2600' <= char <= '\\u26FF':\n",
    "        print(char, end = '')\n",
    "    "
   ]
  },
  {
   "cell_type": "markdown",
   "id": "4f87d2a8-88c8-4582-9787-211f5d55b425",
   "metadata": {},
   "source": [
    "# Task8: \n",
    "Write a program that checks if a given string contains two identical, consecutive words. For example, in the sentence \"I love love programming\", the word \"love\" appears twice in a row. The program should detect such instances and print the repeated word. If there are no consecutive repeated words, print a message saying so. Notice that the program only needs to find the first repeated word and end afterwards. Also, as we have not covered lists yet, we need to use several strings to find and hold words."
   ]
  },
  {
   "cell_type": "code",
   "execution_count": 37,
   "id": "c5c9bc0a-b7c9-47f3-b285-ffbd59eb02f5",
   "metadata": {},
   "outputs": [
    {
     "name": "stdin",
     "output_type": "stream",
     "text": [
      "Enter the string: I love love programming\n"
     ]
    },
    {
     "name": "stdout",
     "output_type": "stream",
     "text": [
      "Repeated word: love\n"
     ]
    }
   ],
   "source": [
    "input_string = input(\"Enter the string:\")\n",
    "\n",
    "previous_word = \"\"\n",
    "current_word = \"\"\n",
    "found_repeated = False\n",
    "\n",
    "\n",
    "for char in input_string:\n",
    "\n",
    "    if char == \" \":\n",
    "\n",
    "        if current_word:         \n",
    "            if current_word == previous_word:\n",
    "                print (f\"Repeated word: {current_word}\")\n",
    "                found_repeated = True\n",
    "    \n",
    "            previous_word = current_word # set the previous word\n",
    "            current_word = \"\"  # reset current word for the next word\n",
    "\n",
    "    else:\n",
    "        current_word = current_word + char\n",
    "\n",
    "# handle the last word of the sentence\n",
    "\n",
    "if current_word == previous_word and current_word != \"\":\n",
    "    print (f\"Repeated word: {current_word}\")\n",
    "    found_repeated = True\n",
    "\n",
    "if not found_repeated:\n",
    "    print (\"No repeated words found\")\n"
   ]
  },
  {
   "cell_type": "markdown",
   "id": "7a0e8dde-b035-41c3-8b1a-b79389173ed4",
   "metadata": {},
   "source": [
    "# Task9: \n",
    "In this exercise, write a program that asks for two strings and checks if they are anagrams, that is, if the second string can be constructed by the letters in the first string. Hint: sort the strings using sorted()."
   ]
  },
  {
   "cell_type": "code",
   "execution_count": 40,
   "id": "d93cb0c1-ce83-415f-a941-f1505bbbd93a",
   "metadata": {},
   "outputs": [
    {
     "name": "stdin",
     "output_type": "stream",
     "text": [
      "Enter the first string: Tom Marvolo Riddle\n",
      "Enter the second string: I AM LORD VOLDEMORT\n"
     ]
    },
    {
     "name": "stdout",
     "output_type": "stream",
     "text": [
      "tommarvoloriddle\n",
      "iamlordvoldemort\n",
      "addeillmmooorrtv\n",
      "addeillmmooorrtv\n",
      "The strings are anagrams.\n"
     ]
    }
   ],
   "source": [
    "string1 = input (\"Enter the first string:\")\n",
    "string2 = input (\"Enter the second string:\")\n",
    "\n",
    "string1 = string1.replace(' ','').lower()\n",
    "string2 = string2.replace(' ','').lower()\n",
    "\n",
    "print(string1)\n",
    "print(string2)\n",
    "\n",
    "#sort the characters of both strings\n",
    "sorted_string1 = ''.join(sorted(string1))\n",
    "sorted_string2 = ''.join(sorted(string2))\n",
    "\n",
    "print(sorted_string1)\n",
    "print(sorted_string2)\n",
    "\n",
    "#compare two strings\n",
    "if sorted_string1 == sorted_string2:\n",
    "    print (\"The strings are anagrams.\")\n",
    "else:\n",
    "    print(\"The strings arent anagrams.\")"
   ]
  },
  {
   "cell_type": "markdown",
   "id": "34d9ba41-c369-49f6-94c6-89a18f3e2c3a",
   "metadata": {},
   "source": [
    "# Task 10:\n",
    "A class that is available in Python but actually not mentioned in the book is Decimal for handling decimal numbers using fixed sizes of the decimals. This makes it easier to calculate simple decimal numbers without getting the approximate value as with floats. Create a program that explores this by calculating 0.1 + 0.1 + 0.1 - 0.3 using both decimal and floating point numbers."
   ]
  },
  {
   "cell_type": "code",
   "execution_count": 42,
   "id": "c76462b6-6bd0-4560-8ce1-9b2eeb900296",
   "metadata": {},
   "outputs": [
    {
     "name": "stdout",
     "output_type": "stream",
     "text": [
      "5.551115123125783e-17\n",
      "0.0\n"
     ]
    }
   ],
   "source": [
    "from decimal import Decimal\n",
    "\n",
    "x = 0.1\n",
    "y= 0.3\n",
    "\n",
    "result = x+x+x-y\n",
    "print (result)\n",
    "\n",
    "a = Decimal ('0.1')\n",
    "b = Decimal ('0.3')\n",
    "\n",
    "result1 = a+a+a-b\n",
    "print (result1)"
   ]
  },
  {
   "cell_type": "markdown",
   "id": "c3d498aa-e604-4969-8b16-9c4e7382d667",
   "metadata": {},
   "source": [
    "# Task11:\n",
    "Write a Python program that takes a string input and extracts a substring from the middle of the string. Specifically, the program should extract and print the middle third of the string. If the string length is not divisible by three, the substring should be the central third, with any extra characters evenly distributed on either side. For example, if the input string is \"abcdefgh\", which has 8 characters, the program should extract and print \"de\", the middle third of the string."
   ]
  },
  {
   "cell_type": "code",
   "execution_count": 43,
   "id": "837d1e98-ec9c-4302-ab92-cd6b6218ac97",
   "metadata": {},
   "outputs": [
    {
     "name": "stdin",
     "output_type": "stream",
     "text": [
      "Enter a string:  abcdefghij\n"
     ]
    },
    {
     "name": "stdout",
     "output_type": "stream",
     "text": [
      "The middle third of the string is: def\n"
     ]
    }
   ],
   "source": [
    "input_string = input (\"Enter a string: \")\n",
    "\n",
    "length = len(input_string)\n",
    "\n",
    "third_length = length // 3\n",
    "extra_chars = length % 3\n",
    "\n",
    "start_index = third_length + extra_chars // 2 \n",
    "end_index = start_index + third_length\n",
    "\n",
    "substring = input_string [start_index:end_index]\n",
    "print (\"The middle third of the string is:\", substring)"
   ]
  },
  {
   "cell_type": "markdown",
   "id": "1be99cc3-1a55-4427-a476-e9012599b593",
   "metadata": {},
   "source": [
    "# Task12: \n",
    "Create a password generator that asks for the length of the password and then generates a random password consisting of letters, numbers and punctuation symbols."
   ]
  },
  {
   "cell_type": "code",
   "execution_count": 47,
   "id": "b2b56bc8-4ca9-4ecc-90dd-5974ccb0918a",
   "metadata": {},
   "outputs": [
    {
     "name": "stdin",
     "output_type": "stream",
     "text": [
      "Enter the desired password length:  100\n"
     ]
    },
    {
     "name": "stdout",
     "output_type": "stream",
     "text": [
      "Generated password is:  ],(Zv=6J3eOf!C4%*FtXI)r2-TMK5!lNqxr\"H({&i%*v@Zd9/8kRmy@m-+Q2<^0CjfYP<REBB[Zt0Rx1z`4u(0g#MnCSqBxa!nGi\n"
     ]
    }
   ],
   "source": [
    "import string\n",
    "import random\n",
    "\n",
    "characters = string.ascii_letters + string.digits + string.punctuation\n",
    "\n",
    "password_length = int (input(\"Enter the desired password length: \"))\n",
    "\n",
    "password = ''\n",
    "\n",
    "for _ in range (password_length):\n",
    "    password += random.choice (characters)\n",
    "\n",
    "print (\"Generated password is: \",password)\n",
    "    "
   ]
  }
 ],
 "metadata": {
  "kernelspec": {
   "display_name": "Python 3 (ipykernel)",
   "language": "python",
   "name": "python3"
  },
  "language_info": {
   "codemirror_mode": {
    "name": "ipython",
    "version": 3
   },
   "file_extension": ".py",
   "mimetype": "text/x-python",
   "name": "python",
   "nbconvert_exporter": "python",
   "pygments_lexer": "ipython3",
   "version": "3.12.5"
  }
 },
 "nbformat": 4,
 "nbformat_minor": 5
}
