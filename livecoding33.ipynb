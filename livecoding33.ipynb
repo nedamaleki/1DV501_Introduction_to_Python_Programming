{
 "cells": [
  {
   "cell_type": "markdown",
   "id": "477487aa-7e55-4c80-8c7c-3ede224a9457",
   "metadata": {},
   "source": [
    "# Sets are used to store elements with no order and with no duplicates. Write a program that creates two sets, one called star_wars and one called star_trek and fill them with interesting things about the two worlds (see the printout below). Test the set operations difference, intersection and union with the two sets.\n",
    "\n",
    "## Star Wars: {'Adventure', 'Lightsabers', 'In a galaxy far, far away', 'Hyperspace', 'Space'}\n",
    "## Star Trek: {'Adventure', 'Space', 'Warp', 'Our galaxy', 'Photon torpedoes'}\n",
    "\n",
    "Difference: {'In a galaxy far, far away', 'Lightsabers', 'Hyperspace'}\n",
    "Intersection: {'Adventure', 'Space'}\n",
    "Union: {'Lightsabers', 'In a galaxy far, far away', 'Photon torpedoes', 'Adventure', 'Hyperspace', 'Warp', 'Our galaxy', 'Space'}"
   ]
  },
  {
   "cell_type": "code",
   "execution_count": 12,
   "id": "27fcae8b-739a-462c-9644-8a15c9451764",
   "metadata": {},
   "outputs": [
    {
     "name": "stdout",
     "output_type": "stream",
     "text": [
      "Star Wars: {'In a galaxy far, far away', 'Adventure', 'Hyperspace', 'Lightsabers', 'Space'}\n",
      "Star Trek: {'Our galaxy', 'Adventure', 'Warp', 'Photon torpedoes', 'Space'}\n",
      "\n",
      "Difference: {'In a galaxy far, far away', 'Hyperspace', 'Lightsabers'}\n",
      "Intersection: {'Space', 'Adventure'}\n",
      "Union: {'In a galaxy far, far away', 'Our galaxy', 'Adventure', 'Warp', 'Hyperspace', 'Lightsabers', 'Photon torpedoes', 'Space'}\n",
      "\n",
      "Difference: {'In a galaxy far, far away', 'Hyperspace', 'Lightsabers'}\n",
      "Intersection: {'Space', 'Adventure'}\n",
      "Union: {'In a galaxy far, far away', 'Our galaxy', 'Adventure', 'Warp', 'Hyperspace', 'Lightsabers', 'Photon torpedoes', 'Space'}\n"
     ]
    }
   ],
   "source": [
    "def main():\n",
    "    star_wars = set()\n",
    "    star_wars.add('Adventure')\n",
    "    star_wars.add('Lightsabers')\n",
    "    star_wars.add('In a galaxy far, far away')\n",
    "    star_wars.add('Hyperspace')\n",
    "    star_wars.add('Space')\n",
    "\n",
    "    star_trek = set()\n",
    "    star_trek.add('Adventure')\n",
    "    star_trek.add('Space')\n",
    "    star_trek.add('Warp')\n",
    "    star_trek.add('Our galaxy')\n",
    "    star_trek.add('Photon torpedoes')\n",
    "    \n",
    "    print('Star Wars:', star_wars)\n",
    "    print('Star Trek:', star_trek)\n",
    "\n",
    "    print()\n",
    "\n",
    "    print('Difference:', star_wars - star_trek)\n",
    "    print('Intersection:', star_wars & star_trek)\n",
    "    print('Union:', star_wars | star_trek)\n",
    "\n",
    "    print()\n",
    "\n",
    "    print('Difference:', star_wars.difference(star_trek))\n",
    "    print('Intersection:',star_wars.intersection(star_trek))\n",
    "    print('Union:',star_wars.union(star_trek))\n",
    "    \n",
    "main()"
   ]
  },
  {
   "cell_type": "markdown",
   "id": "add5e7ef-b612-4a63-a650-c4306e33d711",
   "metadata": {},
   "source": [
    "## Task 2 - We Don't Need No Education\n",
    "Dictionaries are used to store key-value pairs in a set (they have no order). Here we like you to create a simple program that allows for adding teachers (by name) to a dictionary where the key is nothing but an incrementing integer. See the printout below to understand how to do it."
   ]
  },
  {
   "cell_type": "markdown",
   "id": "3c002eae-5bfc-4048-bfc4-b34b41739ced",
   "metadata": {},
   "source": [
    "1. Enter teacher\n",
    "2. Show teachers\n",
    "3. Quit\n",
    "\n",
    "==>  1\n",
    "New teacher (\"stop\" to end):  Tobias\n",
    "New teacher (\"stop\" to end):  Jonas\n",
    "New teacher (\"stop\" to end):  stop\n",
    "\n",
    "1. Enter teacher\n",
    "2. Show teachers\n",
    "3. Quit\n",
    "\n",
    "==>  2\n",
    "0:Tobias\n",
    "1:Jonas\n",
    "\n",
    "1. Enter teacher\n",
    "2. Show teachers\n",
    "3. Quit\n",
    "\n",
    "==>  1\n",
    "New teacher (\"stop\" to end):  Neda\n",
    "New teacher (\"stop\" to end):  Ola\n",
    "New teacher (\"stop\" to end):  stop\n",
    "\n",
    "1. Enter teacher\n",
    "2. Show teachers\n",
    "3. Quit\n",
    "\n",
    "==>  3\n",
    "Bye for now!"
   ]
  },
  {
   "cell_type": "code",
   "execution_count": 26,
   "id": "d5357282-05d4-480e-9b06-f86522ffed1f",
   "metadata": {},
   "outputs": [
    {
     "name": "stdout",
     "output_type": "stream",
     "text": [
      "1. Enter teacher\n",
      "2. Show teachers\n",
      "3. Quit\n",
      "\n"
     ]
    },
    {
     "name": "stdin",
     "output_type": "stream",
     "text": [
      "==>  1\n",
      "New teacher (\"stop\" to end): neda\n",
      "New teacher (\"stop\" to end): tobias\n",
      "New teacher (\"stop\" to end): stop\n"
     ]
    },
    {
     "name": "stdout",
     "output_type": "stream",
     "text": [
      "\n",
      "1. Enter teacher\n",
      "2. Show teachers\n",
      "3. Quit\n",
      "\n"
     ]
    },
    {
     "name": "stdin",
     "output_type": "stream",
     "text": [
      "==>  2\n"
     ]
    },
    {
     "name": "stdout",
     "output_type": "stream",
     "text": [
      "0:neda\n",
      "1:tobias\n",
      "\n",
      "1. Enter teacher\n",
      "2. Show teachers\n",
      "3. Quit\n",
      "\n"
     ]
    },
    {
     "name": "stdin",
     "output_type": "stream",
     "text": [
      "==>  1\n",
      "New teacher (\"stop\" to end): jonas\n",
      "New teacher (\"stop\" to end): stop\n"
     ]
    },
    {
     "name": "stdout",
     "output_type": "stream",
     "text": [
      "\n",
      "1. Enter teacher\n",
      "2. Show teachers\n",
      "3. Quit\n",
      "\n"
     ]
    },
    {
     "name": "stdin",
     "output_type": "stream",
     "text": [
      "==>  2\n"
     ]
    },
    {
     "name": "stdout",
     "output_type": "stream",
     "text": [
      "0:neda\n",
      "1:tobias\n",
      "2:jonas\n",
      "\n",
      "1. Enter teacher\n",
      "2. Show teachers\n",
      "3. Quit\n",
      "\n"
     ]
    },
    {
     "name": "stdin",
     "output_type": "stream",
     "text": [
      "==>  3\n"
     ]
    },
    {
     "name": "stdout",
     "output_type": "stream",
     "text": [
      "Bye for now!\n"
     ]
    }
   ],
   "source": [
    "def main():\n",
    "    \n",
    "    teachers = dict()\n",
    "\n",
    "    choice = ''\n",
    "    \n",
    "    while choice != '3':\n",
    "        print('1. Enter teacher')\n",
    "        print('2. Show teachers')\n",
    "        print('3. Quit')\n",
    "        print()\n",
    "\n",
    "        choice = input('==> ')\n",
    "        #i = 0\n",
    "\n",
    "        if choice == '1': \n",
    "            name=''\n",
    "            while name != 'stop':\n",
    "                name=input('New teacher (\"stop\" to end):')\n",
    "                if name != 'stop':\n",
    "                    i=len(teachers)\n",
    "                    teachers[i]= name\n",
    "                    \n",
    "            print()\n",
    "            \n",
    "        elif choice == '2':\n",
    "            for key in teachers:\n",
    "                print(str(key) + ':' + teachers[key])\n",
    "            print()\n",
    "\n",
    "        elif choice == '3':\n",
    "            print('Bye for now!')\n",
    "        else:\n",
    "            print('Try again!')\n",
    "\n",
    "main()"
   ]
  },
  {
   "cell_type": "markdown",
   "id": "90a8bba6-4ccf-4f72-8372-5e7310454321",
   "metadata": {},
   "source": [
    "# Task 3 - Look it up\n",
    "Dictionaries can also be used to represent more complex structures. Use a dictionary to create a structure for ships in Star Wars with name, manufacturer, model and pilots. Yes, pilots. This should be a list in the dictionary. Create two ships, as shown below, and put them in a list. Then print the name and all the pilots. Lastly, append another ship (the B-wing) and print all ships created by Slayn & Korpil.\n",
    "The two first ships:\n",
    "\n",
    "ship1 = {\n",
    "    'name': 'Millennium Falcon',\n",
    "    'manufacturer': 'Corellian Engineering Corporation',\n",
    "    'model': 'YT-1300',\n",
    "    'pilots': ['Han Solo', 'Chewbacca']\n",
    "}\n",
    "\n",
    "ship2 = {\n",
    "    'name': 'T-6 1974',\n",
    "    'manufacturer': 'Slayn & Korpil',\n",
    "    'model': 'T-6 Shuttle',\n",
    "    'pilots': ['Ahsoka Tano', 'Huyang']\n",
    "}"
   ]
  },
  {
   "cell_type": "code",
   "execution_count": 29,
   "id": "61dbc77c-9b67-4507-991c-118f3cfa0cf4",
   "metadata": {},
   "outputs": [
    {
     "name": "stdout",
     "output_type": "stream",
     "text": [
      "Millennium Falcon is piloted by Han Solo Chewbacca \n",
      "T-6 1974 is piloted by Ahsoka Tano Huyang \n",
      "There are now 2 ships by Slayn & Kopril.\n"
     ]
    }
   ],
   "source": [
    "def main():\n",
    "    ''' ship1 = dict()\n",
    "    ship1['name']= 'Millennium Falcon'\n",
    "    ship1['manufacturer']= 'Corellian Engineering Corporation'\n",
    "    ship1['model']= 'YT-1300'\n",
    "    ship1['pilots']= ['Ahsoka Tano', 'Huyang']'''\n",
    "\n",
    "    ship1 = {\n",
    "      'name': 'Millennium Falcon',\n",
    "      'manufacturer': 'Corellian Engineering Corporation',\n",
    "      'model': 'YT-1300',\n",
    "      'pilots': ['Han Solo', 'Chewbacca']\n",
    "    }\n",
    "\n",
    "    ship2 = {\n",
    "      'name': 'T-6 1974',\n",
    "      'manufacturer': 'Slayn & Korpil',\n",
    "      'model': 'T-6 Shuttle',\n",
    "      'pilots': ['Ahsoka Tano', 'Huyang']\n",
    "    }\n",
    "\n",
    "    ships = [ship1, ship2]\n",
    "\n",
    "    for s in ships:\n",
    "      print(s['name'], 'is piloted by ', end='')\n",
    "      for p in s['pilots']:\n",
    "            print(p + ' ', end='')\n",
    "      print()\n",
    "\n",
    "    ships.append({\n",
    "      'name': 'Generic B-wing',\n",
    "      'manufacturer': 'Slayn & Korpil',\n",
    "      'model': 'B-wing heavy assault starfighter',\n",
    "      'pilots': []\n",
    "    })\n",
    "\n",
    "    count = 0\n",
    "\n",
    "    for s in ships:\n",
    "      if s['manufacturer'] == 'Slayn & Korpil':\n",
    "          count += 1\n",
    "\n",
    "    print('There are now', count, 'ships by Slayn & Kopril.')\n",
    "\n",
    "\n",
    "main()"
   ]
  },
  {
   "cell_type": "markdown",
   "id": "12655c7b-a849-4456-b81a-a3e2c7f011e2",
   "metadata": {},
   "source": [
    "## Task 4 - Writing Pink Floyd\n",
    "Now write a program that creates a file called pinkfloyd.txt in which our Python program should place the names of a few important Pink Floyd albums. This program has no visible output to the screen, but have a look at the file that is generated."
   ]
  },
  {
   "cell_type": "code",
   "execution_count": 31,
   "id": "0e234843-e935-410a-82d9-0158f964e09c",
   "metadata": {},
   "outputs": [],
   "source": [
    "output_file = open('pinkfloyd.txt', 'w')\n",
    "\n",
    "output_file.write('The Dark Side of the Moon\\n')\n",
    "output_file.write('Wish You Were Here\\n')\n",
    "output_file.write('Animals\\n')\n",
    "output_file.write('The Wall\\n')\n",
    "\n",
    "output_file.close()"
   ]
  },
  {
   "cell_type": "markdown",
   "id": "dd80ffb8-0c9c-4cc9-80d4-b9b7a6f49890",
   "metadata": {},
   "source": [
    "## Task 5 - Reading Pink Floyd\n",
    "Obviously, we now need to read the file again and display it on screen. So, in this exercise, do that using the read() method to get everything into one string. As we have created the file ourselves it should not be a problem to open it, but especially Windows can sometimes have problems reading files and might need to add encoding='utf-8' to open(). As we are working in Jupyter, this should not be a problem!"
   ]
  },
  {
   "cell_type": "code",
   "execution_count": 32,
   "id": "8c314a69-94cb-402d-ab11-c036925f939f",
   "metadata": {},
   "outputs": [
    {
     "name": "stdout",
     "output_type": "stream",
     "text": [
      "The Dark Side of the Moon\n",
      "Wish You Were Here\n",
      "Animals\n",
      "The Wall\n",
      "\n"
     ]
    }
   ],
   "source": [
    "import os.path\n",
    "\n",
    "if os.path.isfile('pinkfloyd.txt'):\n",
    "  input_file = open('pinkfloyd.txt', 'r')\n",
    "  content = input_file.read()\n",
    "  print(content)\n",
    "  input_file.close()"
   ]
  },
  {
   "cell_type": "markdown",
   "id": "8e548a63-f211-439c-855f-ea42299e38c0",
   "metadata": {},
   "source": [
    "# Task 6 - Into the Shadows\n",
    "It isn't feasible to read a large text into a string variable, and therefore it is often useful to read a file line by line instead. In this exercise, you should create a program that reads the file The Shadow over Innsmouth that you need to download (available on Moodle) and put in the correct path (easist to put in the same directory as the notebook). The program should print the ten first lines and the total number of lines.Not every line is shown:"
   ]
  },
  {
   "cell_type": "code",
   "execution_count": 35,
   "id": "5106bc28-51fd-43db-a4fd-71d824b17840",
   "metadata": {},
   "outputs": [
    {
     "name": "stdout",
     "output_type": "stream",
     "text": [
      "During the winter of 1927-28 Federal government officials made a\n",
      "\n",
      "strange and secret investigation of certain conditions in the ancient\n",
      "\n",
      "Massachusetts seaport of Innsmouth. The public first learned of it in\n",
      "\n",
      "February, when a vast series of raids and arrests occurred, followed by\n",
      "\n",
      "the deliberate burning and dynamiting--under suitable precautions--of\n",
      "\n",
      "an enormous number of crumbling, worm-eaten, and supposedly empty\n",
      "\n",
      "houses along the abandoned waterfront. Uninquiring souls let this\n",
      "\n",
      "occurrence pass as one of the major clashes in a spasmodic war on\n",
      "\n",
      "liquor.\n",
      "\n",
      "Keener news-followers, however, wondered at the prodigious number of\n",
      "\n",
      "Number of lines: 2057\n"
     ]
    }
   ],
   "source": [
    "import os.path\n",
    "\n",
    "if os.path.isfile('The_Shadow_over_Innsmouth.txt'):\n",
    "  story = open('The_Shadow_over_Innsmouth.txt')\n",
    "\n",
    "  count = 0\n",
    "\n",
    "  for line in story:\n",
    "      if count < 10:\n",
    "          print(line)\n",
    "          count += 1\n",
    "      else:\n",
    "          count += 1\n",
    "\n",
    "  print('Number of lines:', count)\n",
    "\n",
    "  story.close()"
   ]
  },
  {
   "cell_type": "markdown",
   "id": "4e655a42-682d-48ec-bfab-defb4a5cbf81",
   "metadata": {},
   "source": [
    "# Task 7 - More Albums!\n",
    "Back to the file about Pink Floyd! You might have noticed that it did not contain all the albums, so we are going to append a few more in this exercise (don't worry, we won't do all of them). Ask the user for more albums and stop when the user enters \"stop\" as the album name. Show the file when the new albums have been added."
   ]
  },
  {
   "cell_type": "code",
   "execution_count": 12,
   "id": "111ff038-2b93-4d52-bfd1-d9ea648f0447",
   "metadata": {},
   "outputs": [
    {
     "name": "stdin",
     "output_type": "stream",
     "text": [
      "New album (\"stop\" to end): stop\n"
     ]
    },
    {
     "name": "stdout",
     "output_type": "stream",
     "text": [
      "The Dark Side of the Moon\n",
      "Wish You Were Here\n",
      "Animals\n",
      "The Wall\n",
      "\n"
     ]
    }
   ],
   "source": [
    "import os.path\n",
    "\n",
    "\n",
    "\n",
    "album=''\n",
    "\n",
    "while album != 'stop':\n",
    "    album=input('New album (\"stop\" to end):')\n",
    "    if album != 'stop':\n",
    "        if os.path.isfile('pinkfloyd.txt'):\n",
    "            output_file = open('pinkfloyd.txt','a')  \n",
    "            output_file.write(album)\n",
    "            output_file.write('\\n')\n",
    "\n",
    "output_file.close()\n",
    "                    \n",
    "input_file = open('pinkfloyd.txt', 'r')\n",
    "content = input_file.read()\n",
    "print(content)\n",
    "input_file.close()"
   ]
  },
  {
   "cell_type": "markdown",
   "id": "a7de1c19-0f85-434f-9717-a3afd5fc81d6",
   "metadata": {},
   "source": [
    "# Task 8 - Reading and Writing Numbers\n",
    "Write a program that puts ten random numbers in a file called numbers.txt and then reads them again. The content of the file should be separated with space and when printing the values, they should be printed as integers and not text.\n",
    "\n",
    "3 6 4 1 6 10 4 8 5 9"
   ]
  },
  {
   "cell_type": "code",
   "execution_count": 31,
   "id": "e025d329-2722-492f-a368-42f8ddb7e7b9",
   "metadata": {},
   "outputs": [
    {
     "name": "stdout",
     "output_type": "stream",
     "text": [
      "6 9 3 2 8 8 2 8 7 5 \n"
     ]
    }
   ],
   "source": [
    "import os.path\n",
    "import random\n",
    "\n",
    "if not os.path.isfile('numbers.txt'):  # If the file doesn't exist\n",
    "    numbers = open('numbers.txt', 'w')  # Create and open it in write mode\n",
    "else:\n",
    "    #print('File already exists.')\n",
    "    for i in range(10):\n",
    "        numbers = open('numbers.txt', 'a')\n",
    "        numbers.write(str(random.randint(1,10)) + ' ')\n",
    "\n",
    "\n",
    "                    \n",
    "numbers = open('numbers.txt', 'r')\n",
    "content = numbers.read()\n",
    "numbers = [int(x) for x in content.split()]\n",
    "\n",
    "for number in numbers:\n",
    "      print(number, end=' ')\n",
    "\n",
    "print()\n"
   ]
  },
  {
   "cell_type": "markdown",
   "id": "ac2b9197-428f-41f1-98d3-34b8b453657d",
   "metadata": {},
   "source": [
    "# Task 9 - Counting Dagon\n",
    "Now we will return to the text \"The Shadow over Innsmouth\" and count the number of times the word \"Dagon\" appears in it. For context, Dagon -- or the \"Esoteric Order of Dagon\" -- was a cult described in the short story.The word \"Dagon\" was found 13 times in the text."
   ]
  },
  {
   "cell_type": "code",
   "execution_count": 36,
   "id": "13370f2a-ec3d-456f-8436-8664c76ae189",
   "metadata": {},
   "outputs": [
    {
     "name": "stdout",
     "output_type": "stream",
     "text": [
      "Dagon,\" 1\n",
      "Dagon.\"\n",
      "\n",
      "The 2\n",
      "Dagon\n",
      "had 3\n",
      "Dagon 4\n",
      "seen--Dagon 5\n",
      "Dagon, 6\n",
      "Dagon--an' 7\n",
      "Dagon 8\n",
      "Dagon 9\n"
     ]
    }
   ],
   "source": [
    "import os.path\n",
    "\n",
    "if not os.path.isfile('The_Shadow_over_Innsmouth.txt'):  # If the file doesn't exist\n",
    "    story = open('The_Shadow_over_Innsmouth.txt', 'w')  # Create and open it in write mode\n",
    "else:\n",
    "    count = 0\n",
    "    story = open('The_Shadow_over_Innsmouth.txt', 'r')\n",
    "    content = story.read()\n",
    "    story = [x for x in content.split(' ')]\n",
    "    #print(story)\n",
    "    for word in story:\n",
    "        if 'Dagon' in word:\n",
    "            count +=1\n",
    "            print(word, end=' ')\n",
    "            print(count)\n",
    "    "
   ]
  },
  {
   "cell_type": "code",
   "execution_count": 37,
   "id": "25067217-c6be-48a3-97d9-dcafdcd5aaa1",
   "metadata": {},
   "outputs": [
    {
     "name": "stdout",
     "output_type": "stream",
     "text": [
      "The word \"Dagon\" was found 9 times in the text.\n"
     ]
    }
   ],
   "source": [
    "number_of_Dagon = 0\n",
    "\n",
    "with open('The_Shadow_over_Innsmouth.txt') as infile:\n",
    "\n",
    "  for row in infile:\n",
    "      parts = row.split()\n",
    "\n",
    "      for part in parts:\n",
    "          if 'Dagon' in part:\n",
    "              number_of_Dagon += 1\n",
    "\n",
    "print('The word \"Dagon\" was found', number_of_Dagon, 'times in the text.')"
   ]
  },
  {
   "cell_type": "markdown",
   "id": "c6681636-d9af-4af3-addf-4a8d3abd1584",
   "metadata": {},
   "source": [
    "# Task 10 - Countdown to Zero!\n",
    "Write a program that takes a number and then counts down to zero from that number. This should be done by using a recursive function that subtracts by one for each step down the countdown. See below for an example:"
   ]
  },
  {
   "cell_type": "code",
   "execution_count": 38,
   "id": "d59f5222-079f-4c37-9258-aba637f025d4",
   "metadata": {},
   "outputs": [
    {
     "name": "stdout",
     "output_type": "stream",
     "text": [
      "5\n",
      "4\n",
      "3\n",
      "2\n",
      "1\n"
     ]
    }
   ],
   "source": [
    "def countdown(n):\n",
    "    # Base case\n",
    "    if n == 0:\n",
    "        return\n",
    "    \n",
    "    # Recursive case\n",
    "    print(n)\n",
    "    countdown(n - 1)\n",
    "\n",
    "# Test the function\n",
    "countdown(5)"
   ]
  },
  {
   "cell_type": "markdown",
   "id": "fea50d66-0333-480b-9068-571956bbda4a",
   "metadata": {},
   "source": [
    "# Task 11 - Recursively Print Directories\n",
    "Write a program that recursively walks through the directories (folders) of the current folder and prints out the files in them (don't forget also to print the directory). Do this by adding an indentation of two spaces for each new folder. See below for an example of this folder:"
   ]
  },
  {
   "cell_type": "code",
   "execution_count": 47,
   "id": "29ceb656-65ad-448e-af61-2fc81c30785f",
   "metadata": {},
   "outputs": [
    {
     "name": "stdout",
     "output_type": "stream",
     "text": [
      "Directory structure:\n",
      "501/\n",
      "  lecture6.ipynb\n",
      "  prime.py\n",
      "  pinkfloyd.txt\n",
      "  numbers.txt\n",
      "  .DS_Store\n",
      "  Untitled.ipynb\n",
      "  livecoding2-yes.ipynb\n",
      "  The_Shadow_over_Innsmouth.txt\n",
      "  lecture7.ipynb\n",
      "  convert.py\n",
      "  __pycache__/\n",
      "    converts.cpython-312.pyc\n",
      "    prime.cpython-312.pyc\n",
      "    convert.cpython-312.pyc\n",
      "  livecoding3.ipynb\n",
      "  shine.txt\n",
      "  Somecodes.ipynb\n",
      "  texts/\n",
      "    numbers.txt\n",
      "    .DS_Store\n",
      "    The_Shadow_over_Innsmouth.txt\n",
      "    texts_not used/\n",
      "      pinkfloyd.txt\n",
      "      shine.txt\n",
      "  livecoding2024-10-04.ipynb\n",
      "  Lecture9.ipynb\n",
      "  converts.py\n",
      "  fibo.ipynb\n",
      "  livecoding.ipynb\n",
      "  .ipynb_checkpoints/\n",
      "    Somecodes-checkpoint.ipynb\n",
      "    prime-checkpoint.py\n",
      "    The_Shadow_over_Innsmouth-checkpoint.txt\n",
      "    pinkfloyd-checkpoint.txt\n",
      "    numbers-checkpoint.txt\n",
      "    livecoding2-yes-checkpoint.ipynb\n",
      "    livecoding2024-10-04-checkpoint.ipynb\n",
      "    Lecture9-checkpoint.ipynb\n",
      "    shine-checkpoint.txt\n",
      "    lecture6-checkpoint.ipynb\n",
      "    test-checkpoint.ipynb\n",
      "    convert-checkpoint.py\n",
      "    Untitled-checkpoint.ipynb\n",
      "    lecture8-checkpoint.ipynb\n",
      "    livecoding-checkpoint.ipynb\n",
      "    livecoding3-checkpoint.ipynb\n",
      "    fibo-checkpoint.ipynb\n",
      "    lecture7-checkpoint.ipynb\n",
      "    converts-checkpoint.py\n",
      "  lecture8.ipynb\n",
      "  test.ipynb\n"
     ]
    }
   ],
   "source": [
    "import os\n",
    "\n",
    "def list_directory(path, indent=\"\"):\n",
    "    print(f\"{indent}{os.path.basename(path)}/\")\n",
    "    indent += \"  \"\n",
    "    for item in os.listdir(path):\n",
    "        item_path = os.path.join(path, item)\n",
    "        if os.path.isdir(item_path):\n",
    "            list_directory(item_path, indent)\n",
    "        else:\n",
    "            print(f\"{indent}{item}\")\n",
    "\n",
    "# Start from the current directory\n",
    "current_directory = os.getcwd()\n",
    "print(\"Directory structure:\")\n",
    "list_directory(current_directory)"
   ]
  },
  {
   "cell_type": "code",
   "execution_count": null,
   "id": "8c0957b6-6e09-4062-8847-f8669e18da73",
   "metadata": {},
   "outputs": [],
   "source": []
  }
 ],
 "metadata": {
  "kernelspec": {
   "display_name": "Python 3 (ipykernel)",
   "language": "python",
   "name": "python3"
  },
  "language_info": {
   "codemirror_mode": {
    "name": "ipython",
    "version": 3
   },
   "file_extension": ".py",
   "mimetype": "text/x-python",
   "name": "python",
   "nbconvert_exporter": "python",
   "pygments_lexer": "ipython3",
   "version": "3.12.5"
  }
 },
 "nbformat": 4,
 "nbformat_minor": 5
}
