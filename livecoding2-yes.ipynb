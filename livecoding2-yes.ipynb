{
 "cells": [
  {
   "cell_type": "markdown",
   "id": "443cad8f-e0f4-41e0-a1ef-3d429b4dd228",
   "metadata": {},
   "source": [
    "In this live coding session, the focus is on functions and lists. As always, you will need to understand the previous parts as well as there will be selection and iteration in the live coding session. "
   ]
  },
  {
   "cell_type": "markdown",
   "id": "98b013e1-dd96-498f-96bc-65210f40c094",
   "metadata": {},
   "source": [
    "# Task 1 - Maximum\n",
    "## This first task is to create a program with a function called maximum that takes two variables, called a and b and returns the largest of the two. Complete this with a main part that shows how it all works by asking the user for input.\n",
    "\n",
    "- First number: 3\n",
    "- Second number: 5\n",
    "- The largest of the two is 5"
   ]
  },
  {
   "cell_type": "code",
   "execution_count": 2,
   "id": "a567b8ef-b74c-4119-ac6a-1e17274388fc",
   "metadata": {},
   "outputs": [
    {
     "name": "stdin",
     "output_type": "stream",
     "text": [
      "Please enter the first number: 3\n",
      "Please enter the second number: 5\n"
     ]
    },
    {
     "data": {
      "text/plain": [
       "5"
      ]
     },
     "execution_count": 2,
     "metadata": {},
     "output_type": "execute_result"
    }
   ],
   "source": [
    "def maximum(a,b):\n",
    "    if a > b:\n",
    "        return a\n",
    "    else:\n",
    "        return b\n",
    "\n",
    "def main():\n",
    " number1 = int (input(\"Please enter the first number:\"))\n",
    " number2 = int (input(\"Please enter the second number:\"))\n",
    "    \n",
    " m = maximum(number1, number2)\n",
    "    \n",
    " print('The largest of the two is', m)\n",
    "\n",
    "main()\n"
   ]
  },
  {
   "cell_type": "markdown",
   "id": "67c2550a-59f0-443c-84f8-d76487497978",
   "metadata": {},
   "source": [
    "# Task 2 - More Functions\n",
    "## A program can have more than one function (and most often does). \n",
    "+ Write a program with one function for calculating the circumference of a circle and one for calculating the area of a circle.\n",
    "+ Show a main part of the program that uses both of the functions\n",
    "+ and shows the result using three decimals.\n",
    "  \n",
    "- Enter the radius of the circle: 6.1234\n",
    "- The circumference is 38.474\n",
    "- The area is 117.797"
   ]
  },
  {
   "cell_type": "code",
   "execution_count": 8,
   "id": "eea0345a-017c-4c0a-aee1-c2ea093e5e02",
   "metadata": {},
   "outputs": [
    {
     "name": "stdin",
     "output_type": "stream",
     "text": [
      "Enter the radius of the circle: 6.1234\n"
     ]
    },
    {
     "name": "stdout",
     "output_type": "stream",
     "text": [
      "The circumference is 38.474\n",
      "The area is 117.797\n"
     ]
    }
   ],
   "source": [
    "import math\n",
    "\n",
    "def circumference(r):\n",
    "     return 2*math.pi*r\n",
    "   \n",
    "    \n",
    "def area(r):\n",
    "    return math.pi*(r**2) \n",
    "\n",
    "def main():\n",
    "    radius = float(input(\"Enter the radius of the circle:\"))\n",
    "    circle_cir= circumference(radius)\n",
    "    circle_area = area (radius)\n",
    "    print(f'The circumference is {circle_cir:.3f}')\n",
    "    print(f\"The area is {circle_area:.3f}\")\n",
    "\n",
    "main()\n"
   ]
  },
  {
   "cell_type": "markdown",
   "id": "ab95c9d3-5133-4bca-8fbc-7d811c72a21a",
   "metadata": {},
   "source": [
    "# Task 3 - Switch\n",
    "## Python can return more than one value at a time and in this task we want you to write a program that has a method called switch() that takes two integers and returns them the other way around. See below for an example.\n",
    "\n",
    "- Give me a number: 3\n",
    "- Give me another: 4\n",
    "x is 3\n",
    "y is 4\n",
    "x is 4\n",
    "y is 3"
   ]
  },
  {
   "cell_type": "code",
   "execution_count": 11,
   "id": "8a050f91-b779-4ff1-94d4-9a05ef5b519e",
   "metadata": {},
   "outputs": [
    {
     "name": "stdin",
     "output_type": "stream",
     "text": [
      "Give me a number: 3\n",
      "Give me another number: 4\n"
     ]
    },
    {
     "name": "stdout",
     "output_type": "stream",
     "text": [
      "x is 3\n",
      "y is 4\n",
      "x is 4\n",
      "y is 3\n"
     ]
    }
   ],
   "source": [
    "'''def switch(a,b):\n",
    "    temp = a\n",
    "    a = b\n",
    "    b = temp\n",
    "    return a,b'''\n",
    "\n",
    "# Alternative solution\n",
    "def switchero(a, b):\n",
    "  return b, a\n",
    "\n",
    "def main():\n",
    "    x = int(input(\"Give me a number:\"))\n",
    "    y = int(input(\"Give me another number:\"))\n",
    "    \n",
    "    print(\"x is\",x)\n",
    "    print(\"y is\",y)\n",
    "    \n",
    "    x,y=switchero(x,y)\n",
    "    \n",
    "    print(\"x is\",x)\n",
    "    print(\"y is\",y)\n",
    "\n",
    "main()\n",
    "    "
   ]
  },
  {
   "cell_type": "markdown",
   "id": "1a8541f6-1181-4e8d-9075-9dcd0dc642ae",
   "metadata": {},
   "source": [
    "# Task 4 - Finding the Character\n",
    "## To conclude, write a program with a function that accepts a string as well as a single character. The purpose of the function is to see if the character exists in the string and return true if so. If the character isn't found, it should return false. Below you can see two executions of the program.\n",
    "\n",
    "- Give me a sentence: May the Force be with you\n",
    "- Give me single character: u\n",
    "- Found it!\n",
    "\n",
    "- Give me a sentence: Dark Side of the Moon\n",
    "- Give me single character: ö\n",
    "- Was not in the sentence..."
   ]
  },
  {
   "cell_type": "code",
   "execution_count": 16,
   "id": "2ccc7a06-f5ec-47f4-ba75-8030111ea30a",
   "metadata": {},
   "outputs": [
    {
     "name": "stdin",
     "output_type": "stream",
     "text": [
      "Give me a sentence: Dark Side of the Moon\n",
      "Give me single character: ö\n"
     ]
    },
    {
     "name": "stdout",
     "output_type": "stream",
     "text": [
      "Was not in the sentence...\n"
     ]
    }
   ],
   "source": [
    "def in_string(s,c):\n",
    "    for i in s:\n",
    "        if i==c:\n",
    "            return True\n",
    "        \n",
    "    return False\n",
    "\n",
    "def main():\n",
    "    str1 = input (\"Give me a sentence:\")\n",
    "    ch = input (\"Give me single character:\")\n",
    "    \n",
    "    result = in_string(str1,ch)\n",
    "    \n",
    "    if result == True:\n",
    "        print(\"Found it!\")\n",
    "    else:\n",
    "        print(\"Was not in the sentence...\")\n",
    "\n",
    "main()"
   ]
  },
  {
   "cell_type": "markdown",
   "id": "eb8e36a6-2122-468d-87e5-c0402f33f5d8",
   "metadata": {},
   "source": [
    "# Task 5 - Converting Length\n",
    "## Create a new file called convert.py in which two functions should be placed: cm_to_inches() and inches_to_cm(). These two functions should return the conversion of centimetres to inches or inches to centimetres according to the following formulas:\n",
    "\n",
    "- centimetres = inches / 2.54\n",
    "- inches = 2.54 * centimetres\n",
    "\n",
    "Next write a test program that displays the conversion of 1 - 19 centimetres as well as 50 - 68 inches as outlined in the table below (hint: use f-strings and formatting as well as iteration)\n",
    "\n",
    "Centimetres| Inches     | Inches     | Centimetres\n",
    "--------------------------------------------------\n",
    "         1 |       0.39 |         50 |     127.00\n",
    "         2 |       0.79 |         51 |     129.54\n",
    "         3 |       1.18 |         52 |     132.08\n",
    "         4 |       1.57 |         53 |     134.62\n",
    "         5 |       1.97 |         54 |     137.16\n",
    "         6 |       2.36 |         55 |     139.70\n",
    "         7 |       2.76 |         56 |     142.24\n",
    "         8 |       3.15 |         57 |     144.78\n",
    "         9 |       3.54 |         58 |     147.32\n",
    "        10 |       3.94 |         59 |     149.86\n",
    "        11 |       4.33 |         60 |     152.40\n",
    "        12 |       4.72 |         61 |     154.94\n",
    "        13 |       5.12 |         62 |     157.48\n",
    "        14 |       5.51 |         63 |     160.02\n",
    "        15 |       5.91 |         64 |     162.56\n",
    "        16 |       6.30 |         65 |     165.10\n",
    "        17 |       6.69 |         66 |     167.64\n",
    "        18 |       7.09 |         67 |     170.18\n",
    "        19 |       7.48 |         68 |     172.72"
   ]
  },
  {
   "cell_type": "code",
   "execution_count": 56,
   "id": "4b9399d7-84e1-439f-8109-824d4da4060e",
   "metadata": {},
   "outputs": [
    {
     "name": "stdout",
     "output_type": "stream",
     "text": [
      "Centimetres| Inches     | Inches     | Centimetres\n",
      "--------------------------------------------------------------------------------\n",
      "         1 |       2.54 |         50 |      19.69\n",
      "         2 |       5.08 |         51 |      20.08\n",
      "         3 |       7.62 |         52 |      20.47\n",
      "         4 |      10.16 |         53 |      20.87\n",
      "         5 |      12.70 |         54 |      21.26\n",
      "         6 |      15.24 |         55 |      21.65\n",
      "         7 |      17.78 |         56 |      22.05\n",
      "         8 |      20.32 |         57 |      22.44\n",
      "         9 |      22.86 |         58 |      22.83\n",
      "        10 |      25.40 |         59 |      23.23\n",
      "        11 |      27.94 |         60 |      23.62\n",
      "        12 |      30.48 |         61 |      24.02\n",
      "        13 |      33.02 |         62 |      24.41\n",
      "        14 |      35.56 |         63 |      24.80\n",
      "        15 |      38.10 |         64 |      25.20\n",
      "        16 |      40.64 |         65 |      25.59\n",
      "        17 |      43.18 |         66 |      25.98\n",
      "        18 |      45.72 |         67 |      26.38\n",
      "        19 |      48.26 |         68 |      26.77\n"
     ]
    }
   ],
   "source": [
    "#| option+7 \n",
    "#\\ shift+option+7\n",
    "\n",
    "\n",
    "from convert import cm_to_inches, inches_to_cm \n",
    "\n",
    "#or\n",
    "#import convert\n",
    "#and use convert.cm_to_inches() etc in the code\n",
    "\n",
    "def main():\n",
    "\n",
    "    width = 10\n",
    "\n",
    "    # Left-justify Header (string values) by using `<{width}`\n",
    "    print(f'{\"Centimetres\":<{width}}| {\"Inches\":<{width}} | {\"Inches\":<{width}} | {\"Centimetres\":<{width}}')\n",
    "    print('-' * 80)  # Adjust the separator length to fit the width\n",
    "\n",
    "    cm = 1\n",
    "    inch = 50\n",
    "    \n",
    "    while cm < 20 and inch < 69:\n",
    "        # Right-justify numeric values by using `>{width}`\n",
    "        print(f'{cm:>{width}} | {cm_to_inches(cm):>{width}.2f} | {inch:>{width}} | {inches_to_cm(inch):>{width}.2f}')\n",
    "        cm += 1\n",
    "        inch += 1\n",
    "\n",
    "main()"
   ]
  },
  {
   "cell_type": "markdown",
   "id": "24aa4919-9cc1-46b0-9b79-1b0099e8fc1b",
   "metadata": {},
   "source": [
    "# Task 6 - Simple List\n",
    "## Create a program that initialises a list with five values and then prints them out, one by one with a space between them. See below for an example execution:\n",
    "- 1 2 3 4 5"
   ]
  },
  {
   "cell_type": "code",
   "execution_count": 68,
   "id": "6fdc29c2-709a-4bac-950b-f756013b44b8",
   "metadata": {},
   "outputs": [
    {
     "name": "stdin",
     "output_type": "stream",
     "text": [
      "Enter number0: 4\n",
      "Enter number1: 8\n",
      "Enter number2: 9\n",
      "Enter number3: 2\n",
      "Enter number4: 3\n"
     ]
    },
    {
     "name": "stdout",
     "output_type": "stream",
     "text": [
      "4 8 9 2 3 "
     ]
    }
   ],
   "source": [
    "lst = []\n",
    "for i in range(5):\n",
    " num = int(input(f'Enter number{i}:'))\n",
    " lst.append(num)\n",
    "    \n",
    "#print(lst)\n",
    "for n in lst:\n",
    "    print(f'{n} ', end='')"
   ]
  },
  {
   "cell_type": "markdown",
   "id": "2ef85a89-fb66-42bf-ae1d-2df5adbd1a27",
   "metadata": {},
   "source": [
    "# Task 7 - Random Numbers\n",
    "## In this task, create a program that generates ten random integer values between 1 and 100 in a list. It should then print the complete list, together with the largest and smallest values in the list as well as the sum of all values. See below for an example execution:\n",
    "\n",
    "- All values: [37, 8, 67, 70, 71, 37, 28, 78, 99, 40]\n",
    "- Largest value: 99\n",
    "- Smallest value: 8\n",
    "- Sum of all values: 535"
   ]
  },
  {
   "cell_type": "code",
   "execution_count": 81,
   "id": "78e8aa17-5dd3-4613-973a-86eb21fd0d5f",
   "metadata": {},
   "outputs": [
    {
     "name": "stdout",
     "output_type": "stream",
     "text": [
      "\n",
      "All values: [15, 98, 40, 82, 58, 28, 50, 89, 4, 67]\n",
      "Largest value: 98\n",
      "Smallest value: 4\n",
      "Sum of all values: 531\n"
     ]
    }
   ],
   "source": [
    "import random\n",
    "\n",
    "lst= []\n",
    "\n",
    "for i in range(10):\n",
    "    #num = random.randint(1,100)\n",
    "    #lst.append(num)\n",
    "    lst.append(random.randint(1, 100))\n",
    "\n",
    "#for n in lst:\n",
    "    #print(f'{n} ', end='')\n",
    "\n",
    "print()\n",
    "print(\"All values:\",lst)\n",
    "print(\"Largest value:\", max(lst))\n",
    "print(\"Smallest value:\",min(lst))\n",
    "print(\"Sum of all values:\", sum(lst))"
   ]
  },
  {
   "cell_type": "markdown",
   "id": "e95d5aaa-fd0b-454b-81b6-2a09b93f73a5",
   "metadata": {},
   "source": [
    "# Task 8 - Where are the Characters?\n",
    "## Now create a program that has a function that takes a sentence and a single character and returns a list of what positions in the string the character can be found. Let the user enter a sentence and a character to search for. See below for an example execution:\n",
    "- Write a sentence: May The Force be with You\n",
    "- What character to look for: e\n",
    "- The letter \"e\" is at: [6, 12, 15]"
   ]
  },
  {
   "cell_type": "code",
   "execution_count": 89,
   "id": "704cf84f-bc83-44a2-88ff-03bed453ca35",
   "metadata": {},
   "outputs": [
    {
     "name": "stdin",
     "output_type": "stream",
     "text": [
      "Write a sentence: May The Force be with You\n",
      "What character to look for: e\n"
     ]
    },
    {
     "name": "stdout",
     "output_type": "stream",
     "text": [
      "The letter e is at [6, 12, 15]\n"
     ]
    }
   ],
   "source": [
    "def in_list(text, character):\n",
    "    lst=[]\n",
    "    start=0\n",
    "    for c in text:\n",
    "        if c==character:\n",
    "            idx= text.index(c,start)\n",
    "            lst.append(idx)\n",
    "        start +=1\n",
    "    return lst\n",
    "\n",
    "\n",
    "\n",
    "def main():\n",
    "    text = input(\"Write a sentence:\")\n",
    "    character = input(\"What character to look for:\")\n",
    "    print(f'The letter {character} is at {in_list(text,character)}')\n",
    "\n",
    "main()\n",
    "    "
   ]
  },
  {
   "cell_type": "markdown",
   "id": "ca0cd831-d9eb-4dbf-a20d-d3d4e407c63f",
   "metadata": {},
   "source": [
    "# Task 9 - Second Largest\n",
    "## In this exercise, we want a function that takes a list as input and returns the second largest number in it. Remember to handle the edge case when all numbers are the same. See below for an example execution:\n",
    "- The second largest number in [10, 5, 20, 8, 20] is: 10\n",
    "- The second largest number in [3, 3, 3] is: No second largest number exists."
   ]
  },
  {
   "cell_type": "code",
   "execution_count": 104,
   "id": "d6dda5e0-e9ba-487f-8859-9bec384b74f5",
   "metadata": {},
   "outputs": [
    {
     "name": "stdout",
     "output_type": "stream",
     "text": [
      "Original list: [10, 5, 20, 8, 20]\n",
      "Sorted list without duplicates: [5, 8, 10, 20]\n",
      "The second largest number in lst is: 10\n"
     ]
    }
   ],
   "source": [
    "def second_largest(lst):\n",
    "    print(f\"Original list: {lst}\")\n",
    "    lst = list(set(lst))  # Remove duplicates\n",
    "    lst.sort()  # Sort the list in ascending order\n",
    "    print(f\"Sorted list without duplicates: {lst}\")\n",
    "    \n",
    "    if len(lst) < 2:\n",
    "        return None  # Return None if there's no second largest number (e.g., all elements are the same)\n",
    "    \n",
    "    return lst[-2]  # Second largest is the second-to-last element\n",
    "\n",
    "\n",
    "def main():\n",
    "    lst = [10, 5, 20, 8, 20]\n",
    "    sl = second_largest(lst)\n",
    "    \n",
    "    if sl is not None:\n",
    "        print(f'The second largest number in lst is: {sl}')\n",
    "    else:\n",
    "        print(\"No second largest number found.\")\n",
    "\n",
    "main()\n"
   ]
  },
  {
   "cell_type": "code",
   "execution_count": 103,
   "id": "6c734d83-c8e3-4a20-b7ae-e7f9d4fdb9ef",
   "metadata": {},
   "outputs": [
    {
     "name": "stdout",
     "output_type": "stream",
     "text": [
      "The second largest number in [10, 5, 20, 8, 20] is: 10\n",
      "The second largest number in [3, 3, 3] is: No second largest number exists.\n"
     ]
    }
   ],
   "source": [
    "def find_second_largest(lst):\n",
    "    if len(lst) < 2:\n",
    "        return 'No second largest number exists.'\n",
    "    \n",
    "    # Initialize the two largest numbers as None\n",
    "    largest = None\n",
    "    second_largest = None\n",
    "    \n",
    "    for number in lst:\n",
    "        if largest is None or number > largest:\n",
    "            # Update second largest before largest\n",
    "            second_largest = largest\n",
    "            largest = number\n",
    "        elif number < largest and (second_largest is None or number > second_largest):  # second_largest < number < largest\n",
    "            # Update second largest if it's smaller than the current number\n",
    "            second_largest = number\n",
    "    \n",
    "    if second_largest is None:\n",
    "        return 'No second largest number exists.'\n",
    "    \n",
    "    return second_largest\n",
    "\n",
    "def main():\n",
    "    numbers = [10, 5, 20, 8, 20]\n",
    "    result = find_second_largest(numbers)\n",
    "    print(f'The second largest number in {numbers} is: {result}')\n",
    "    \n",
    "    numbers = [3, 3, 3]\n",
    "    result = find_second_largest(numbers)\n",
    "    print(f'The second largest number in {numbers} is: {result}')\n",
    "\n",
    "main() "
   ]
  },
  {
   "cell_type": "markdown",
   "id": "a9e4ca59-c32f-405c-9157-3be5883e8824",
   "metadata": {},
   "source": [
    "1) Check if the list has at least two numbers:\n",
    "\n",
    "    - If the list has less than 2 numbers, it returns \"No second largest number exists.\" because you can't find the second-largest number in a list with fewer than two elements.\n",
    "\n",
    "2) Initialize two variables (largest and second_largest) as None:\n",
    "\n",
    "    - These will hold the values of the largest and second-largest numbers as the function goes through the list.\n",
    "\n",
    "3) Loop through each number in the list:\n",
    "\n",
    "    - For each number, the function checks:\n",
    "        - If this number is larger than the current largest:\n",
    "            - If true, the current largest becomes the second_largest, and the current number becomes the new largest.\n",
    "        - If this number is smaller than the largest but larger than second_largest:\n",
    "            - If true, this number becomes the new second_largest. This check also ensures that duplicates of the largest number don't affect the result (e.g., two 20s).\n",
    "\n",
    "4) Final check:\n",
    "\n",
    "    - After looping through the list, if second_largest is still None, it means there was no second largest number (e.g., the list had all the same numbers), so it returns \"No second largest number exists.\".\n",
    "    Otherwise, it returns the value stored in second_largest."
   ]
  },
  {
   "cell_type": "markdown",
   "id": "dd45661a-3646-4d7c-8a48-bcc966c29bd1",
   "metadata": {},
   "source": [
    "# Task 10 - Swedish Personal Number\n",
    "## Write a Python program that verifies if a given Swedish personal number (personnummer) is valid. The personal number follows the format YYMMDD-NNNN or YYYYMMDD-NNNN, where the last digit is a control number (checksum). To validate this number, you will use a modified version of Luhn's algorithm. We will only deal with \"simple\" personal numbers, and not for persons over 100 years old or temporary numbers.\n",
    "\n",
    "Instructions:\n",
    "\n",
    "1. Input: The user will enter a personal number in the format YYMMDD-NNNN or YYYYMMDD-NNNN.\n",
    "2. Preprocessing: \n",
    "Remove any dashes (-) or spaces from the number.If the personal number contains 12 digits (including the century part), reduce it to the last 10 digits.\n",
    "3. Luhn's Algorithm:\n",
    "  - For the first 9 digits (YYMMDDNNN):\n",
    "    + Multiply the digits in even positions (0, 2, 4, etc.) by 2.\n",
    "    + If the result is greater than 9, subtract 9 from it.\n",
    "    + Leave the digits in odd positions unchanged.\n",
    "    + Sum all the digits from the above steps.\n",
    "\n",
    "4. Checksum Validation:\n",
    "Add the last digit (control number) to the sum.If the total sum is divisible by 10, the personal number is valid. Otherwise, it is not.\n",
    "5. Output: Print whether the given personal number is valid or not based on the control number.\n",
    "Example:\n",
    "For the input 19900101-1234, your program should remove the dash, apply Luhn's algorithm to the first 9 digits, and check if the checksum (last digit) is valid.Example of valid personal numbers: 760229-5540, 19920210-2845, 20060703-4402"
   ]
  },
  {
   "cell_type": "code",
   "execution_count": 47,
   "id": "017fd278-997d-41df-8869-36918d2cb08b",
   "metadata": {},
   "outputs": [
    {
     "name": "stdout",
     "output_type": "stream",
     "text": [
      "20060703-4402 is valid.\n"
     ]
    }
   ],
   "source": [
    "def is_valid_personnummer(personnummer):\n",
    "    # Remove any dashes or spaces\n",
    "    personnummer = personnummer.replace('-', '').replace(' ', '')\n",
    "    \n",
    "    # Ensure we are working with the shorter 10-digit version (YYMMDDNNNN)\n",
    "    if len(personnummer) == 12:\n",
    "        personnummer = personnummer[2:]\n",
    "    elif len(personnummer) != 10:\n",
    "        return False\n",
    "    \n",
    "    # Apply the Luhn algorithm\n",
    "    checksum = 0\n",
    "    for i in range(9):\n",
    "        num = int(personnummer[i])\n",
    "        if i % 2 == 0:  # Even index (positions 0, 2, 4, ...)\n",
    "            num *= 2\n",
    "            if num > 9:\n",
    "                num -= 9\n",
    "        checksum += num\n",
    "    \n",
    "    # The control number is the last digit\n",
    "    control_number = int(personnummer[-1])\n",
    "    \n",
    "    # Check if the control number is valid\n",
    "    return (checksum + control_number) % 10 == 0\n",
    "\n",
    "def main():\n",
    "    personal_number = '20060703-4402'\n",
    "    if is_valid_personnummer(personal_number):\n",
    "        print(f'{personal_number} is valid.')\n",
    "    else:\n",
    "        print(f'{personal_number} is not valid.')\n",
    "\n",
    "main()"
   ]
  },
  {
   "cell_type": "code",
   "execution_count": null,
   "id": "44be8e5d-710f-4895-bbdd-e5cfe46976ed",
   "metadata": {},
   "outputs": [],
   "source": []
  }
 ],
 "metadata": {
  "kernelspec": {
   "display_name": "Python 3 (ipykernel)",
   "language": "python",
   "name": "python3"
  },
  "language_info": {
   "codemirror_mode": {
    "name": "ipython",
    "version": 3
   },
   "file_extension": ".py",
   "mimetype": "text/x-python",
   "name": "python",
   "nbconvert_exporter": "python",
   "pygments_lexer": "ipython3",
   "version": "3.12.5"
  }
 },
 "nbformat": 4,
 "nbformat_minor": 5
}
