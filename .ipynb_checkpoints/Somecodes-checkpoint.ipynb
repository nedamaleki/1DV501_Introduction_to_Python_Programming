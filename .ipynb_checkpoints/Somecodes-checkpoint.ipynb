{
 "cells": [
  {
   "cell_type": "code",
   "execution_count": 19,
   "id": "694bbac0-0c63-4e8e-8df7-ad5bd5cc336f",
   "metadata": {},
   "outputs": [
    {
     "name": "stdin",
     "output_type": "stream",
     "text": [
      "enter a number 17\n"
     ]
    },
    {
     "name": "stdout",
     "output_type": "stream",
     "text": [
      "17 is prime\n"
     ]
    }
   ],
   "source": [
    "import math\n",
    "n = int (input (\"enter a number\"))\n",
    "#n = 18\n",
    "\n",
    "\n",
    "if n < 2:\n",
    "\tprint (\"please follow the instructions\")\n",
    "\t\n",
    "else:\n",
    "    prime = True\n",
    "    for i in range (2,math.floor(n/2)):\n",
    "    \tif (n % i == 0):\n",
    "            prime = False\n",
    "            break\n",
    "\n",
    "if prime:\n",
    "    print (n,\"is prime\")\n",
    "\n",
    "else:\n",
    "\tprint (n,\"is not prime and is dividable by\",i)\n",
    "\t"
   ]
  },
  {
   "cell_type": "code",
   "execution_count": 20,
   "id": "ef16921b-3c8b-4fdd-a13f-34767b79626f",
   "metadata": {},
   "outputs": [
    {
     "name": "stdout",
     "output_type": "stream",
     "text": [
      "Random character from the runes category: ᛌ\n",
      "Random character from the runes category: ᛝ\n",
      "Random character from the runes category: ᛟ\n",
      "Random character from the runes category: ᚤ\n",
      "Random character from the runes category: ᛭\n"
     ]
    }
   ],
   "source": [
    "import random\n",
    "\n",
    "# Generate five random runic characters\n",
    "for _ in range(5):\n",
    "    run = random.randint(0x16A0, 0x16FF)\n",
    "    run_tecken = chr(run)\n",
    "    print('Random character from the runes category:', run_tecken)"
   ]
  },
  {
   "cell_type": "code",
   "execution_count": 22,
   "id": "719b4f98-4532-470a-b0ca-d9a20ed9a2e8",
   "metadata": {},
   "outputs": [
    {
     "name": "stdin",
     "output_type": "stream",
     "text": [
      "Enter an integer, 0 to exit:  1\n",
      "Enter an integer, 0 to exit:  2\n",
      "Enter an integer, 0 to exit:  3\n",
      "Enter an integer, 0 to exit:  4\n",
      "Enter an integer, 0 to exit:  5\n",
      "Enter an integer, 0 to exit:  0\n"
     ]
    },
    {
     "name": "stdout",
     "output_type": "stream",
     "text": [
      "Sum: 15\n",
      "Counts: 5\n",
      "Average: 3.0\n"
     ]
    }
   ],
   "source": [
    "sum = 0\n",
    "counts = 0\n",
    "value = -1\n",
    "while value != 0:\n",
    "    counts += 1\n",
    "    value = int(input('Enter an integer, 0 to exit: '))\n",
    "    sum += value\n",
    "counts -= 1\n",
    "print(f'Sum: {sum}')\n",
    "print(f'Counts: {counts}')\n",
    "print(f'Average: {sum / counts}')"
   ]
  },
  {
   "cell_type": "code",
   "execution_count": 26,
   "id": "af3f0f6d-0c88-4b62-8d60-65c210a23ad9",
   "metadata": {},
   "outputs": [
    {
     "name": "stdin",
     "output_type": "stream",
     "text": [
      "Enter an integer, 0 to exit:  1\n",
      "Enter an integer, 0 to exit:  2\n",
      "Enter an integer, 0 to exit:  3\n",
      "Enter an integer, 0 to exit:  4\n",
      "Enter an integer, 0 to exit:  5\n",
      "Enter an integer, 0 to exit:  0\n"
     ]
    },
    {
     "name": "stdout",
     "output_type": "stream",
     "text": [
      "Sum: 15\n",
      "Counts: 5\n",
      "Average: 3.0\n"
     ]
    }
   ],
   "source": [
    "sum = 0\n",
    "counts = -1\n",
    "value = -1\n",
    "while value != 0:\n",
    "    value = int(input('Enter an integer, 0 to exit: '))\n",
    "    counts += 1\n",
    "    sum += value\n",
    "#counts -= 1\n",
    "print(f'Sum: {sum}')\n",
    "print(f'Counts: {counts}')\n",
    "print(f'Average: {sum / counts}')"
   ]
  },
  {
   "cell_type": "code",
   "execution_count": 27,
   "id": "8de779c9-e556-4d9e-81b8-2623cc213d52",
   "metadata": {},
   "outputs": [
    {
     "name": "stdout",
     "output_type": "stream",
     "text": [
      "It took 5 rolls to get 20.\n"
     ]
    }
   ],
   "source": [
    "import random\n",
    "sum = 0\n",
    "rolls = 0\n",
    "while sum <= 20:\n",
    "    sum += random.randint(1, 6)\n",
    "    rolls += 1\n",
    "print(f'It took {rolls} rolls to get 20.')"
   ]
  },
  {
   "cell_type": "code",
   "execution_count": 28,
   "id": "0cbfaf6d-f133-4975-b73c-cea41d2d7a8d",
   "metadata": {},
   "outputs": [
    {
     "name": "stdout",
     "output_type": "stream",
     "text": [
      "1.0\n",
      "1.1\n",
      "1.2\n",
      "1.3\n",
      "1.4\n",
      "1.5\n",
      "1.6\n",
      "1.7\n",
      "1.8\n",
      "1.9\n",
      "2.0\n",
      "2.1\n",
      "2.2\n",
      "2.3\n",
      "2.4\n",
      "2.5\n",
      "2.6\n",
      "2.7\n",
      "2.8\n",
      "2.9\n",
      "3.0\n",
      "3.1\n",
      "3.2\n",
      "3.3\n",
      "3.4\n",
      "3.5\n",
      "3.6\n",
      "3.7\n",
      "3.8\n",
      "3.9\n",
      "4.0\n",
      "4.1\n",
      "4.2\n",
      "4.3\n",
      "4.4\n",
      "4.5\n",
      "4.6\n",
      "4.7\n",
      "4.8\n",
      "4.9\n",
      "5.0\n",
      "5.1\n",
      "5.2\n",
      "5.3\n",
      "5.4\n",
      "5.5\n",
      "5.6\n",
      "5.7\n",
      "5.8\n",
      "5.9\n",
      "6.0\n",
      "6.1\n",
      "6.2\n",
      "6.3\n",
      "6.4\n",
      "6.5\n",
      "6.6\n",
      "6.7\n",
      "6.8\n",
      "6.9\n",
      "7.0\n",
      "7.1\n",
      "7.2\n",
      "7.3\n",
      "7.4\n",
      "7.5\n",
      "7.6\n",
      "7.7\n",
      "7.8\n",
      "7.9\n",
      "8.0\n",
      "8.1\n",
      "8.2\n",
      "8.3\n",
      "8.4\n",
      "8.5\n",
      "8.6\n",
      "8.7\n",
      "8.8\n",
      "8.9\n",
      "9.0\n",
      "9.1\n",
      "9.2\n",
      "9.3\n",
      "9.4\n",
      "9.5\n",
      "9.6\n",
      "9.7\n",
      "9.8\n",
      "9.9\n"
     ]
    }
   ],
   "source": [
    "i = 10  # Start with an integer\n",
    "while i < 100:\n",
    "    print(i / 10)  # Convert to float for the output\n",
    "    i += 1  # Increment by 1 (i.e., 0.1 in float form)"
   ]
  },
  {
   "cell_type": "code",
   "execution_count": 16,
   "id": "b4438cb0-9bb8-4a35-b261-e27f52dd511b",
   "metadata": {},
   "outputs": [
    {
     "name": "stdout",
     "output_type": "stream",
     "text": [
      "Multiplication Table (1-10)\n",
      "\n",
      "   1   2   3   4   5   6   7   8   9  10\n",
      "   2   4   6   8  10  12  14  16  18  20\n",
      "   3   6   9  12  15  18  21  24  27  30\n",
      "   4   8  12  16  20  24  28  32  36  40\n",
      "   5  10  15  20  25  30  35  40  45  50\n",
      "   6  12  18  24  30  36  42  48  54  60\n",
      "   7  14  21  28  35  42  49  56  63  70\n",
      "   8  16  24  32  40  48  56  64  72  80\n",
      "   9  18  27  36  45  54  63  72  81  90\n",
      "  10  20  30  40  50  60  70  80  90 100\n"
     ]
    }
   ],
   "source": [
    "print(\"Multiplication Table (1-10)\\n\")\n",
    "for i in range(1, 11):\n",
    "    for j in range(1, 11):\n",
    "        print(f'{i * j:4}', end='')\n",
    "    print()"
   ]
  },
  {
   "cell_type": "code",
   "execution_count": 18,
   "id": "ca19c1d9-8336-418f-b4a5-7f235831b513",
   "metadata": {},
   "outputs": [
    {
     "name": "stdout",
     "output_type": "stream",
     "text": [
      " A  B  C  D  E \n",
      " F  G  H  I  J \n",
      " K  L  M  N  O \n",
      " P  Q  R  S  T \n",
      " U  V  W  X  Y \n"
     ]
    }
   ],
   "source": [
    "columns = 5\n",
    "rows = 5\n",
    "ascii_value = 65 # This the value for capital A\n",
    "for row in range(rows):\n",
    "    for col in range(columns):\n",
    "        print(f'{chr(ascii_value):>2}', end=' ')\n",
    "        ascii_value += 1\n",
    "    print() #this is for going next line (by default, in print() function \\n is used to go to the next line)"
   ]
  },
  {
   "cell_type": "code",
   "execution_count": 19,
   "id": "00c98582-5fa5-49b4-a60b-244f8432f4ad",
   "metadata": {},
   "outputs": [
    {
     "name": "stdout",
     "output_type": "stream",
     "text": [
      "The most common character is 'n' with 3 occurrences.\n"
     ]
    }
   ],
   "source": [
    "example_string = \"Monty Python's Flying Circus\"\n",
    "max_count = 0\n",
    "most_common_char = ''\n",
    "\n",
    "for char in example_string:\n",
    "    count = 0\n",
    "    for other_char in example_string:\n",
    "        if char == other_char:\n",
    "            count += 1\n",
    "    if count > max_count:\n",
    "        max_count = count\n",
    "        most_common_char = char\n",
    "print(f\"The most common character is '{most_common_char}' with {max_count} occurrences.\")"
   ]
  },
  {
   "cell_type": "code",
   "execution_count": 20,
   "id": "f600747d-f810-48da-990f-3b5ea7befc6d",
   "metadata": {},
   "outputs": [
    {
     "name": "stdin",
     "output_type": "stream",
     "text": [
      "Enter a string:  Monty Python's Flying Circus\n"
     ]
    },
    {
     "name": "stdout",
     "output_type": "stream",
     "text": [
      "Most common character: n\n"
     ]
    }
   ],
   "source": [
    "from collections import Counter\n",
    "string = input(\"Enter a string: \")   # Take input from the user\n",
    "counter = Counter(string)            # Count occurrences of each character\n",
    "most_common_char = counter.most_common(1)[0][0]  # Get the most common character\n",
    "print(\"Most common character:\", most_common_char)"
   ]
  },
  {
   "cell_type": "code",
   "execution_count": null,
   "id": "14b49b39-627e-413c-9e70-7142e5c3b17e",
   "metadata": {},
   "outputs": [],
   "source": []
  }
 ],
 "metadata": {
  "kernelspec": {
   "display_name": "Python 3 (ipykernel)",
   "language": "python",
   "name": "python3"
  },
  "language_info": {
   "codemirror_mode": {
    "name": "ipython",
    "version": 3
   },
   "file_extension": ".py",
   "mimetype": "text/x-python",
   "name": "python",
   "nbconvert_exporter": "python",
   "pygments_lexer": "ipython3",
   "version": "3.12.5"
  }
 },
 "nbformat": 4,
 "nbformat_minor": 5
}
