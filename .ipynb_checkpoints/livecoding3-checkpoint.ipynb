{
 "cells": [
  {
   "cell_type": "markdown",
   "id": "a01d8df8-968a-44ba-9e4f-0033592c0ec6",
   "metadata": {},
   "source": [
    "# Task 1 - Sets in Space\n",
    "Sets are used to store elements with no order and with no duplicates. Write a program that creates two sets, one called star_wars and one called star_trek and fill them with interesting things about the two worlds (see the printout below). Test the set operations difference, intersection and union with the two sets.\n",
    "\n",
    "Star Wars: {'Adventure', 'Lightsabers', 'In a galaxy far, far away', 'Hyperspace', 'Space'}\n",
    "Star Trek: {'Adventure', 'Space', 'Warp', 'Our galaxy', 'Photon torpedoes'}\n",
    "\n",
    "Difference: {'In a galaxy far, far away', 'Lightsabers', 'Hyperspace'}\n",
    "Intersection: {'Adventure', 'Space'}\n",
    "Union: {'Lightsabers', 'In a galaxy far, far away', 'Photon torpedoes', 'Adventure', 'Hyperspace', 'Warp', 'Our galaxy', 'Space'}"
   ]
  },
  {
   "cell_type": "code",
   "execution_count": 3,
   "id": "6592384d-dd15-4ec2-b99c-302cafc5333e",
   "metadata": {},
   "outputs": [
    {
     "name": "stdout",
     "output_type": "stream",
     "text": [
      "Star_Wars: {'Hyperspace', 'Lightsabers', 'Space', 'In a galaxy far, far away', 'Adventure'}\n",
      "Star_Trek: {'Photon torpedoes', 'Warp', 'Space', 'Adventure', 'Our galaxy'}\n",
      "Difference: {'Warp', 'Our galaxy', 'Photon torpedoes'}\n",
      "intersection: {'Space', 'Adventure'}\n",
      "Union: {'Lightsabers', 'Space', 'In a galaxy far, far away', 'Adventure', 'Our galaxy', 'Photon torpedoes', 'Warp', 'Hyperspace'}\n"
     ]
    }
   ],
   "source": [
    "Star_Wars = {'Adventure', 'Lightsabers', 'In a galaxy far, far away', 'Hyperspace', 'Space'}\n",
    "Star_Trek = {'Adventure', 'Space', 'Warp', 'Our galaxy', 'Photon torpedoes'}\n",
    "\n",
    "print('Star_Wars:', Star_Wars)\n",
    "print('Star_Trek:', Star_Trek)\n",
    "\n",
    "print('Difference:',Star_Trek-Star_Wars)\n",
    "print('intersection:',Star_Wars & Star_Trek)\n",
    "print('Union:',Star_Wars | Star_Trek)\n"
   ]
  },
  {
   "cell_type": "markdown",
   "id": "c81cd523-51a3-4eeb-99ba-ab6d0941ce29",
   "metadata": {},
   "source": [
    "# Task 2 - We Don't Need No Education\n",
    "Dictionaries are used to store key-value pairs in a set (they have no order). Here we like you to create a simple program that allows for adding teachers (by name) to a dictionary where the key is nothing but an incrementing integer. See the printout below to understand how to do it."
   ]
  },
  {
   "cell_type": "markdown",
   "id": "36f56cc9-4758-4ea7-ba27-617d50ca5cd5",
   "metadata": {},
   "source": [
    "1. Enter teacher\n",
    "2. Show teachers\n",
    "3. Quit\n",
    "\n",
    "==>  1\n",
    "New teacher (\"stop\" to end):  Tobias\n",
    "New teacher (\"stop\" to end):  Jonas\n",
    "New teacher (\"stop\" to end):  stop\n",
    "\n",
    "1. Enter teacher\n",
    "2. Show teachers\n",
    "3. Quit\n",
    "\n",
    "==>  2\n",
    "0:Tobias\n",
    "1:Jonas\n",
    "\n",
    "1. Enter teacher\n",
    "2. Show teachers\n",
    "3. Quit\n",
    "\n",
    "==>  1\n",
    "New teacher (\"stop\" to end):  Neda\n",
    "New teacher (\"stop\" to end):  Ola\n",
    "New teacher (\"stop\" to end):  stop\n",
    "\n",
    "1. Enter teacher\n",
    "2. Show teachers\n",
    "3. Quit\n",
    "\n",
    "==>  3\n",
    "Bye for now"
   ]
  },
  {
   "cell_type": "code",
   "execution_count": 7,
   "id": "e8d76054-ad30-490f-a3d6-f55b4018163d",
   "metadata": {},
   "outputs": [
    {
     "name": "stdout",
     "output_type": "stream",
     "text": [
      "1. Enter teacher\n",
      "2. Show teacher\n",
      "3. Quit\n"
     ]
    },
    {
     "name": "stdin",
     "output_type": "stream",
     "text": [
      "==>   2\n"
     ]
    },
    {
     "name": "stdout",
     "output_type": "stream",
     "text": [
      "\n",
      "1. Enter teacher\n",
      "2. Show teacher\n",
      "3. Quit\n"
     ]
    },
    {
     "name": "stdin",
     "output_type": "stream",
     "text": [
      "==>   3\n"
     ]
    },
    {
     "name": "stdout",
     "output_type": "stream",
     "text": [
      "Bye for now\n"
     ]
    }
   ],
   "source": [
    "teachers = dict()\n",
    "\n",
    "choice = ''\n",
    "\n",
    "while choice != '3':\n",
    "\n",
    "    print('1. Enter teacher')\n",
    "    print('2. Show teacher')\n",
    "    print('3. Quit')\n",
    "\n",
    "    choice = input('==>  ')\n",
    "\n",
    "    if choice == '1':\n",
    "        name = ''\n",
    "        while name != 'stop':\n",
    "            name = input ('New teacher (\"stop\" to end):')\n",
    "            if name != 'stop':\n",
    "                i = len(teachers)\n",
    "                teachers[i] = name\n",
    "        print()\n",
    "\n",
    "    elif choice == '2':\n",
    "        for key in teachers:\n",
    "            print(str(key) + ':' + teachers[key])\n",
    "        print()\n",
    "\n",
    "    elif choice == '3':\n",
    "        print('Bye for now')\n",
    "\n",
    "    else:\n",
    "        print('Try again')\n",
    "    "
   ]
  },
  {
   "cell_type": "markdown",
   "id": "f38f905c-c3f2-4429-825f-244698398d86",
   "metadata": {},
   "source": [
    "# Task 3 - Look it up\n",
    "Dictionaries can also be used to represent more complex structures. Use a dictionary to create a structure for ships in Star Wars with name, manufacturer, model and pilots. Yes, pilots. This should be a list in the dictionary. Create two ships, as shown below, and put them in a list. Then print the name and all the pilots. Lastly, append another ship (the B-wing) and print all ships created by Slayn & Korpil.\n",
    "The two first ships:\n",
    "\n",
    "ship1 = {\n",
    "    'name': 'Millennium Falcon',\n",
    "    'manufacturer': 'Corellian Engineering Corporation',\n",
    "    'model': 'YT-1300',\n",
    "    'pilots': ['Han Solo', 'Chewbacca']\n",
    "}\n",
    "\n",
    "ship2 = {\n",
    "    'name': 'T-6 1974',\n",
    "    'manufacturer': 'Slayn & Korpil',\n",
    "    'model': 'T-6 Shuttle',\n",
    "    'pilots': ['Ahsoka Tano', 'Huyang']\n",
    "}"
   ]
  },
  {
   "cell_type": "code",
   "execution_count": 11,
   "id": "b9e38ea5-56e5-4a40-81d1-619c55f5ee72",
   "metadata": {},
   "outputs": [
    {
     "name": "stdout",
     "output_type": "stream",
     "text": [
      "Millennium Falcon is piloted byHan Solo Chewbacca \n",
      "T-6 1974 is piloted byAhsoka Tano Huyang \n",
      "There are  2 ships made by Slayn & Korpil\n"
     ]
    }
   ],
   "source": [
    "ship1 = {\n",
    "    'name': 'Millennium Falcon',\n",
    "    'manufacturer': 'Corellian Engineering Corporation',\n",
    "    'model': 'YT-1300',\n",
    "    'pilots': ['Han Solo', 'Chewbacca']\n",
    "}\n",
    "\n",
    "ship2 = {\n",
    "    'name': 'T-6 1974',\n",
    "    'manufacturer': 'Slayn & Korpil',\n",
    "    'model': 'T-6 Shuttle',\n",
    "    'pilots': ['Ahsoka Tano', 'Huyang']\n",
    "}\n",
    "\n",
    "ships = [ship1, ship2]\n",
    "count = 0\n",
    "\n",
    "for s in ships:\n",
    "    print(s['name'], 'is piloted by', end='')\n",
    "    for p in s['pilots']:\n",
    "        print(p + ' ',end='')\n",
    "    print()\n",
    "\n",
    "ships.append({\n",
    "    'name': 'B-wing',\n",
    "    'manufacturer': 'Slayn & Korpil',\n",
    "    'model': 'B-wing model',\n",
    "    'pilots': []\n",
    "})\n",
    "\n",
    "for s in ships:\n",
    "    if s['manufacturer'] == 'Slayn & Korpil':\n",
    "        count= count +1\n",
    "\n",
    "print('There are ', count, 'ships made by Slayn & Korpil')\n"
   ]
  },
  {
   "cell_type": "markdown",
   "id": "d169cb07-2914-4ce9-922b-ec9e78a806d1",
   "metadata": {},
   "source": [
    "# Task 4 - Writing Pink Floyd\n",
    "Now write a program that creates a file called pinkfloyd.txt in which our Python program should place the names of a few important Pink Floyd albums. This program has no visible output to the screen, but have a look at the file that is generated."
   ]
  },
  {
   "cell_type": "code",
   "execution_count": 16,
   "id": "42ee8d84-8577-4ab1-9aa0-4d70a5098978",
   "metadata": {},
   "outputs": [],
   "source": [
    "import os.path\n",
    "\n",
    "'''if os.path.isfile('pinkfloyd.txt'):\n",
    "    input_file = open('pinkfloyd.txt','r')\n",
    "    content = input_file.read()\n",
    "    print(content)\n",
    "    input_file.close()'''\n",
    "\n",
    "\n",
    "output_file = open('pinkfloyd.txt', 'w')\n",
    "output_file.write('The Dark Side of the Moon\\n')\n",
    "output_file.write('Wish You Were Here\\n')\n",
    "output_file.write('Animals\\n')\n",
    "output_file.write('The wall\\n')\n",
    "\n",
    "output_file.close()\n"
   ]
  },
  {
   "cell_type": "markdown",
   "id": "7479fa6f-d9ba-48d5-8be3-fc2dcdb8b679",
   "metadata": {},
   "source": [
    "# Task 5 - Reading Pink Floyd\n",
    "Obviously, we now need to read the file again and display it on screen. So, in this exercise, do that using the read() method to get everything into one string. As we have created the file ourselves it should not be a problem to open it, but especially Windows can sometimes have problems reading files and might need to add encoding='utf-8' to open(). As we are working in Jupyter, this should not be a problem!"
   ]
  },
  {
   "cell_type": "code",
   "execution_count": 17,
   "id": "2f85a4cc-cc6c-48c0-8f2a-e908c5dc8349",
   "metadata": {},
   "outputs": [
    {
     "name": "stdout",
     "output_type": "stream",
     "text": [
      "The Dark Side of the Moon\n",
      "Wish You Were Here\n",
      "Animals\n",
      "The wall\n",
      "\n"
     ]
    }
   ],
   "source": [
    "import os.path\n",
    "\n",
    "if os.path.isfile('pinkfloyd.txt'):\n",
    "    input_file = open('pinkfloyd.txt','r')\n",
    "    content = input_file.read()\n",
    "    print(content)\n",
    "    input_file.close()"
   ]
  },
  {
   "cell_type": "markdown",
   "id": "920212f8-9638-43a5-88c0-4696551af5fe",
   "metadata": {},
   "source": [
    "# Task 6 - Into the Shadows\n",
    "It isn't feasible to read a large text into a string variable, and therefore it is often useful to read a file line by line instead. In this exercise, you should create a program that reads the file The Shadow over Innsmouth that you need to download (available on Moodle) and put in the correct path (easist to put in the same directory as the notebook). The program should print the ten first lines and the total number of lines.Not every line is shown:"
   ]
  },
  {
   "cell_type": "code",
   "execution_count": 19,
   "id": "b1bbec85-620d-43e6-902f-b32d3d6834d8",
   "metadata": {},
   "outputs": [
    {
     "name": "stdout",
     "output_type": "stream",
     "text": [
      "The Shadow over Innsmouth\n",
      "\n",
      "\n",
      "\n",
      "I.\n",
      "\n",
      "\n",
      "\n",
      "During the winter of 1927–28 officials of the Federal government made a strange and secret investigation of certain conditions in the ancient Massachusetts seaport of Innsmouth. The public first learned of it in February, when a vast series of raids and arrests occurred, followed by the deliberate burning and dynamiting—under suitable precautions—of an enormous number of crumbling, worm-eaten, and supposedly empty houses along the abandoned waterfront. Uninquiring souls let this occurrence pass as one of the major clashes in a spasmodic war on liquor.\n",
      "\n",
      "     Keener news-followers, however, wondered at the prodigious number of arrests, the abnormally large force of men used in making them, and the secrecy surrounding the disposal of the prisoners. No trials, or even definite charges, were reported; nor were any of the captives seen thereafter in the regular gaols of the nation. There were vague statements about disease and concentration camps, and later about dispersal in various naval and military prisons, but nothing positive ever developed. Innsmouth itself was left almost depopulated, and is even now only beginning to shew signs of a sluggishly revived existence.\n",
      "\n",
      "     Complaints from many liberal organisations were met with long confidential discussions, and representatives were taken on trips to certain camps and prisons. As a result, these societies became surprisingly passive and reticent. Newspaper men were harder to manage, but seemed largely to coöperate with the government in the end. Only one paper—a tabloid always discounted because of its wild policy—mentioned the deep-diving submarine that discharged torpedoes downward in the marine abyss just beyond Devil Reef. That item, gathered by chance in a haunt of sailors, seemed indeed rather far-fetched; since the low, black reef lies a full mile and a half out from Innsmouth Harbour.\n",
      "\n",
      "     People around the country and in the nearby towns muttered a great deal among themselves, but said very little to the outer world. They had talked about dying and half-deserted Innsmouth for nearly a century, and nothing new could be wilder or more hideous than what they had whispered and hinted years before. Many things had taught them secretiveness, and there was now no need to exert pressure on them. Besides, they really knew very little; for wide salt marshes, desolate and unpeopled, keep neighbours off from Innsmouth on the landward side.\n",
      "\n",
      "     But at last I am going to defy the ban on speech about this thing. Results, I am certain, are so thorough that no public harm save a shock of repulsion could ever accrue from a hinting of what was found by those horrified raiders at Innsmouth. Besides, what was found might possibly have more than one explanation. I do not know just how much of the whole tale has been told even to me, and I have many reasons for not wishing to probe deeper. For my contact with this affair has been closer than that of any other layman, and I have carried away impressions which are yet to drive me to drastic measures.\n",
      "\n",
      "     It was I who fled frantically out of Innsmouth in the early morning hours of July 16, 1927, and whose frightened appeals for government inquiry and action brought on the whole reported episode. I was willing enough to stay mute while the affair was fresh and uncertain; but now that it is an old story, with public interest and curiosity gone, I have an odd craving to whisper about those few frightful hours in that ill-rumoured and evilly shadowed seaport of death and blasphemous abnormality. The mere telling helps me to restore confidence in my own faculties; to reassure myself that I was not simply the first to succumb to a contagious nightmare hallucination. It helps me, too, in making up my mind regarding a certain terrible step which lies ahead of me.\n",
      "\n",
      "Number of lines:  263\n"
     ]
    }
   ],
   "source": [
    "import os.path\n",
    "\n",
    "if os.path.isfile('The_Shadow_over_Innsmouth.txt'):\n",
    "    story = open('The_Shadow_over_Innsmouth.txt', 'r')\n",
    "\n",
    "    count = 0\n",
    "\n",
    "    for line in story:\n",
    "        if count < 10:\n",
    "            print(line)\n",
    "            count +=1\n",
    "        else:\n",
    "            count +=1\n",
    "\n",
    "    print('Number of lines: ', count)\n",
    "\n",
    "    story.close()\n"
   ]
  },
  {
   "cell_type": "markdown",
   "id": "b4f7fbd4-2066-4ae3-b3ee-3dc1bac17fff",
   "metadata": {},
   "source": [
    "# Task 7 - More Albums!\n",
    "Back to the file about Pink Floyd! You might have noticed that it did not contain all the albums, so we are going to append a few more in this exercise (don't worry, we won't do all of them). Ask the user for more albums and stop when the user enters \"stop\" as the album name. Show the file when the new albums have been added."
   ]
  },
  {
   "cell_type": "code",
   "execution_count": 20,
   "id": "a67da460-9dcd-4e57-8706-47d1ca92b654",
   "metadata": {},
   "outputs": [
    {
     "name": "stdin",
     "output_type": "stream",
     "text": [
      "Name od album:  Album100\n",
      "Name od album:  Albumm800\n",
      "Name od album:  stop\n"
     ]
    },
    {
     "name": "stdout",
     "output_type": "stream",
     "text": [
      "The Dark Side of the Moon\n",
      "Wish You Were Here\n",
      "Animals\n",
      "The wall\n",
      "Album100\n",
      "Albumm800\n",
      "\n"
     ]
    }
   ],
   "source": [
    "output_file = open('pinkfloyd.txt','a')\n",
    "\n",
    "album = ''\n",
    "\n",
    "while album !='stop':\n",
    "    album = input('Name of album: ')\n",
    "    if album !='stop':\n",
    "        output_file.write(album)\n",
    "        output_file.write('\\n')\n",
    "\n",
    "output_file.close()\n",
    "\n",
    "input_file = open('pinkfloyd.txt','r')\n",
    "\n",
    "content = input_file.read()\n",
    "\n",
    "print(content)\n"
   ]
  },
  {
   "cell_type": "markdown",
   "id": "b5fdd9f5-a471-4c43-91ef-b1df805dfb6b",
   "metadata": {},
   "source": [
    "# Task 8 - Reading and Writing Numbers\n",
    "Write a program that puts ten random numbers in a file called numbers.txt and then reads them again. The content of the file should be separated with space and when printing the values, they should be printed as integers and not text.\n",
    "\n",
    "3 6 4 1 6 10 4 8 5 9"
   ]
  },
  {
   "cell_type": "code",
   "execution_count": 22,
   "id": "47547ebe-ad3c-4c63-8a0b-db2119bf4108",
   "metadata": {},
   "outputs": [
    {
     "name": "stdout",
     "output_type": "stream",
     "text": [
      "20 14 14 18 20 20 12 12 11 19 "
     ]
    }
   ],
   "source": [
    "import os.path\n",
    "import random\n",
    "\n",
    "with open('numbers.txt', 'w') as outfile, open('numbers.txt', 'r') as infile:\n",
    "\n",
    "    for i in range(10):\n",
    "        outfile.write(str(random.randint(10,20)) + ' ')\n",
    "\n",
    "    outfile.close()\n",
    "\n",
    "    content = infile.read()\n",
    "\n",
    "    numbers = [int(x) for x in content.split()]\n",
    "\n",
    "    for number in numbers:\n",
    "        print(number, end=' ')\n",
    "\n"
   ]
  },
  {
   "cell_type": "markdown",
   "id": "9c16d784-53d1-48e7-b0a5-a072a3d993aa",
   "metadata": {},
   "source": [
    "# Task 9 - Counting Dagon\n",
    "Now we will return to the text \"The Shadow over Innsmouth\" and count the number of times the word \"Dagon\" appears in it. \n",
    "For context, Dagon -- or the \"Esoteric Order of Dagon\" -- was a cult described in the short story."
   ]
  },
  {
   "cell_type": "code",
   "execution_count": 23,
   "id": "a833e266-74c8-4d6a-8564-f8521cff5934",
   "metadata": {},
   "outputs": [
    {
     "name": "stdout",
     "output_type": "stream",
     "text": [
      "Number of dagon repeated in the file is 13\n"
     ]
    }
   ],
   "source": [
    "count = 0\n",
    "\n",
    "with open('The_Shadow_over_Innsmouth.txt') as infile:\n",
    "\n",
    "    for row in infile:\n",
    "        parts = row.split()\n",
    "\n",
    "        for part in parts:\n",
    "            if 'Dagon' in part:\n",
    "                count +=1\n",
    "\n",
    "print('Number of dagon repeated in the file is', count)"
   ]
  },
  {
   "cell_type": "markdown",
   "id": "f8c28e00-0ef3-470e-a66f-684b8e197108",
   "metadata": {},
   "source": [
    "# Task 10 - Countdown to Zero!\n",
    "Write a program that takes a number and then counts down to zero from that number. This should be done by using a recursive function that subtracts by one for each step down the countdown. See below for an example:\n",
    "5\n",
    "4\n",
    "3\n",
    "2\n",
    "1"
   ]
  },
  {
   "cell_type": "code",
   "execution_count": 25,
   "id": "2d6a2dd2-e1a4-484d-a13d-726f6d0b9cac",
   "metadata": {},
   "outputs": [
    {
     "name": "stdout",
     "output_type": "stream",
     "text": [
      "30\n",
      "29\n",
      "28\n",
      "27\n",
      "26\n",
      "25\n",
      "24\n",
      "23\n",
      "22\n",
      "21\n",
      "20\n",
      "19\n",
      "18\n",
      "17\n",
      "16\n",
      "15\n",
      "14\n",
      "13\n",
      "12\n",
      "11\n",
      "10\n",
      "9\n",
      "8\n",
      "7\n",
      "6\n",
      "5\n",
      "4\n",
      "3\n",
      "2\n",
      "1\n"
     ]
    }
   ],
   "source": [
    "def countdown(n):\n",
    "\n",
    "    if n==0:\n",
    "        return\n",
    "\n",
    "    print(n)\n",
    "    countdown(n-1)\n",
    "\n",
    "countdown(30)"
   ]
  },
  {
   "cell_type": "markdown",
   "id": "a44dec52-1106-4b1e-bfcb-dedb837d49f2",
   "metadata": {},
   "source": [
    "# Task 11 - Recursively Print Directories\n",
    "Write a program that recursively walks through the directories (folders) of the current folder and prints out the files in them (don't forget also to print the directory). Do this by adding an indentation of two spaces for each new folder. See below for an example of this folder:\n"
   ]
  },
  {
   "cell_type": "code",
   "execution_count": 26,
   "id": "4b1ec86b-5a4f-487b-adc2-f08d92aafb80",
   "metadata": {},
   "outputs": [
    {
     "name": "stdout",
     "output_type": "stream",
     "text": [
      "Directories Structure:\n",
      "501/\n",
      "  livecoding33.ipynb\n",
      "  lecture6.ipynb\n",
      "  prime.py\n",
      "  pinkfloyd.txt\n",
      "  numbers.txt\n",
      "  .DS_Store\n",
      "  Untitled.ipynb\n",
      "  livecoding2-yes.ipynb\n",
      "  The_Shadow_over_Innsmouth.txt\n",
      "  lecture7.ipynb\n",
      "  convert.py\n",
      "  __pycache__/\n",
      "    converts.cpython-312.pyc\n",
      "    prime.cpython-312.pyc\n",
      "    convert.cpython-312.pyc\n",
      "  livecoding3.ipynb\n",
      "  shine.txt\n",
      "  Somecodes.ipynb\n",
      "  texts/\n",
      "    numbers.txt\n",
      "    .DS_Store\n",
      "    The_Shadow_over_Innsmouth.txt\n",
      "    texts_not used/\n",
      "      pinkfloyd.txt\n",
      "      shine.txt\n",
      "  livecoding2024-10-04.ipynb\n",
      "  Lecture9.ipynb\n",
      "  converts.py\n",
      "  fibo.ipynb\n",
      "  livecoding.ipynb\n",
      "  1.txt\n",
      "  p.txt\n",
      "  .ipynb_checkpoints/\n",
      "    Somecodes-checkpoint.ipynb\n",
      "    prime-checkpoint.py\n",
      "    The_Shadow_over_Innsmouth-checkpoint.txt\n",
      "    pinkfloyd-checkpoint.txt\n",
      "    numbers-checkpoint.txt\n",
      "    livecoding2-yes-checkpoint.ipynb\n",
      "    livecoding2024-10-04-checkpoint.ipynb\n",
      "    Lecture9-checkpoint.ipynb\n",
      "    livecoding33-checkpoint.ipynb\n",
      "    shine-checkpoint.txt\n",
      "    lecture6-checkpoint.ipynb\n",
      "    test-checkpoint.ipynb\n",
      "    convert-checkpoint.py\n",
      "    Untitled-checkpoint.ipynb\n",
      "    lecture8-checkpoint.ipynb\n",
      "    livecoding-checkpoint.ipynb\n",
      "    livecoding3-checkpoint.ipynb\n",
      "    fibo-checkpoint.ipynb\n",
      "    lecture7-checkpoint.ipynb\n",
      "    converts-checkpoint.py\n",
      "  lecture8.ipynb\n",
      "  test.ipynb\n"
     ]
    }
   ],
   "source": [
    "import os\n",
    "\n",
    "def list_directory(path, indent=\"\"):\n",
    "    print(f\"{indent}{os.path.basename(path)}/\")\n",
    "    indent += \"  \"\n",
    "    for item in os.listdir(path):\n",
    "        item_path = os.path.join(path,item)\n",
    "        if os.path.isdir(item_path):\n",
    "            list_directory(item_path, indent)\n",
    "        else:\n",
    "            print(f\"{indent}{item}\")\n",
    "\n",
    "current_directory = os.getcwd()\n",
    "print(\"Directories Structure:\")\n",
    "list_directory(current_directory)"
   ]
  },
  {
   "cell_type": "code",
   "execution_count": null,
   "id": "89664588-6542-4520-9899-d420634e5101",
   "metadata": {},
   "outputs": [],
   "source": []
  }
 ],
 "metadata": {
  "kernelspec": {
   "display_name": "Python 3 (ipykernel)",
   "language": "python",
   "name": "python3"
  },
  "language_info": {
   "codemirror_mode": {
    "name": "ipython",
    "version": 3
   },
   "file_extension": ".py",
   "mimetype": "text/x-python",
   "name": "python",
   "nbconvert_exporter": "python",
   "pygments_lexer": "ipython3",
   "version": "3.12.5"
  }
 },
 "nbformat": 4,
 "nbformat_minor": 5
}
