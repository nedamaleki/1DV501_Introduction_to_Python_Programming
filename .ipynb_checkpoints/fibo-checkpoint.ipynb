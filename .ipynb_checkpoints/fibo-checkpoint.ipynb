{
 "cells": [
  {
   "cell_type": "code",
   "execution_count": null,
   "id": "88d0ce46-e406-4807-9fcf-b8e7a4fc3f7e",
   "metadata": {},
   "outputs": [
    {
     "name": "stdout",
     "output_type": "stream",
     "text": [
      "Fibonacci number 0: 0\n",
      "Fibonacci number 1: 1\n",
      "Fibonacci number 2: 1\n",
      "Fibonacci number 3: 2\n",
      "Fibonacci number 4: 3\n",
      "Fibonacci number 5: 5\n",
      "Fibonacci number 6: 8\n",
      "Fibonacci number 7: 13\n",
      "Fibonacci number 8: 21\n",
      "Fibonacci number 9: 34\n",
      "Fibonacci number 10: 55\n",
      "Fibonacci number 11: 89\n",
      "Fibonacci number 12: 144\n",
      "Fibonacci number 13: 233\n",
      "Fibonacci number 14: 377\n",
      "Fibonacci number 15: 610\n",
      "Fibonacci number 16: 987\n",
      "Fibonacci number 17: 1597\n",
      "Fibonacci number 18: 2584\n",
      "Fibonacci number 19: 4181\n",
      "Fibonacci number 20: 6765\n",
      "Fibonacci number 21: 10946\n",
      "Fibonacci number 22: 17711\n",
      "Fibonacci number 23: 28657\n",
      "Fibonacci number 24: 46368\n",
      "Fibonacci number 25: 75025\n",
      "Fibonacci number 26: 121393\n",
      "Fibonacci number 27: 196418\n",
      "Fibonacci number 28: 317811\n",
      "Fibonacci number 29: 514229\n",
      "Fibonacci number 30: 832040\n",
      "Fibonacci number 31: 1346269\n",
      "Fibonacci number 32: 2178309\n",
      "Fibonacci number 33: 3524578\n",
      "Fibonacci number 34: 5702887\n",
      "Fibonacci number 35: 9227465\n",
      "Fibonacci number 36: 14930352\n",
      "Fibonacci number 37: 24157817\n",
      "Fibonacci number 38: 39088169\n",
      "Fibonacci number 39: 63245986\n",
      "Fibonacci number 40: 102334155\n",
      "Fibonacci number 41: 165580141\n",
      "Fibonacci number 42: 267914296\n",
      "Fibonacci number 43: 433494437\n",
      "Fibonacci number 44: 701408733\n",
      "Fibonacci number 45: 1134903170\n",
      "Fibonacci number 46: 1836311903\n",
      "Fibonacci number 47: 2971215073\n",
      "Fibonacci number 48: 4807526976\n"
     ]
    }
   ],
   "source": [
    "def fib(n):\n",
    "    if n == 0:\n",
    "        return 0\n",
    "    elif n == 1:\n",
    "        return 1\n",
    "    else:\n",
    "        return fib(n - 1) + fib(n - 2)\n",
    "\n",
    "def main():\n",
    "    for i in range(100):\n",
    "        print(f'Fibonacci number {i}: {fib(i)}')\n",
    "main()"
   ]
  },
  {
   "cell_type": "code",
   "execution_count": null,
   "id": "cee9368a-e19a-4791-9e50-19186e4991be",
   "metadata": {},
   "outputs": [],
   "source": []
  }
 ],
 "metadata": {
  "kernelspec": {
   "display_name": "Python 3 (ipykernel)",
   "language": "python",
   "name": "python3"
  },
  "language_info": {
   "codemirror_mode": {
    "name": "ipython",
    "version": 3
   },
   "file_extension": ".py",
   "mimetype": "text/x-python",
   "name": "python",
   "nbconvert_exporter": "python",
   "pygments_lexer": "ipython3",
   "version": "3.12.5"
  }
 },
 "nbformat": 4,
 "nbformat_minor": 5
}
