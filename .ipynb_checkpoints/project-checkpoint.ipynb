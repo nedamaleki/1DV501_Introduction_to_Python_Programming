{
 "cells": [
  {
   "cell_type": "code",
   "execution_count": 1,
   "id": "82cada2d-d558-4b3b-b2a2-df9ec3e265f9",
   "metadata": {},
   "outputs": [
    {
     "ename": "ModuleNotFoundError",
     "evalue": "No module named 'matplotlib'",
     "output_type": "error",
     "traceback": [
      "\u001b[0;31m---------------------------------------------------------------------------\u001b[0m",
      "\u001b[0;31mModuleNotFoundError\u001b[0m                       Traceback (most recent call last)",
      "Cell \u001b[0;32mIn[1], line 1\u001b[0m\n\u001b[0;32m----> 1\u001b[0m \u001b[38;5;28;01mimport\u001b[39;00m \u001b[38;5;21;01mmatplotlib\u001b[39;00m\u001b[38;5;21;01m.\u001b[39;00m\u001b[38;5;21;01mpyplot\u001b[39;00m \u001b[38;5;28;01mas\u001b[39;00m \u001b[38;5;21;01mplt\u001b[39;00m\n\u001b[1;32m      2\u001b[0m \u001b[38;5;28;01mimport\u001b[39;00m \u001b[38;5;21;01mmath\u001b[39;00m\n\u001b[1;32m      4\u001b[0m \u001b[38;5;66;03m# x = 0.25, 0.5, 0.75, ... , 10.0\u001b[39;00m\n",
      "\u001b[0;31mModuleNotFoundError\u001b[0m: No module named 'matplotlib'"
     ]
    }
   ],
   "source": [
    "import matplotlib.pyplot as plt\n",
    "import math\n",
    "\n",
    "# x = 0.25, 0.5, 0.75, ... , 10.0\n",
    "x = [n/4 for n in range(0,40)]\n",
    "y1 = [math.sin(i) for i in x]\n",
    "y2 = [math.cos(i) for i in x]\n",
    "plt.plot(x, y1,'ro') # Plot 1\n",
    "plt.plot(x, y2, 'b+') # Plot 2\n",
    "plt.title('Sinus and cosinus')\n",
    "plt.xlabel('x in range 0 to 10')\n",
    "plt.ylabel('sin(x) as red, cos(x) as blue')\n",
    "plt.show() # Display plot"
   ]
  },
  {
   "cell_type": "code",
   "execution_count": 10,
   "id": "982ee60e-e297-4eab-a165-7f240e4fc601",
   "metadata": {},
   "outputs": [
    {
     "name": "stdout",
     "output_type": "stream",
     "text": [
      "Requirement already satisfied: matplotlib in /opt/homebrew/lib/python3.11/site-packages (3.8.2)\n",
      "Requirement already satisfied: contourpy>=1.0.1 in /opt/homebrew/lib/python3.11/site-packages (from matplotlib) (1.2.0)\n",
      "Requirement already satisfied: cycler>=0.10 in /opt/homebrew/lib/python3.11/site-packages (from matplotlib) (0.12.1)\n",
      "Requirement already satisfied: fonttools>=4.22.0 in /opt/homebrew/lib/python3.11/site-packages (from matplotlib) (4.47.2)\n",
      "Requirement already satisfied: kiwisolver>=1.3.1 in /opt/homebrew/lib/python3.11/site-packages (from matplotlib) (1.4.5)\n",
      "Requirement already satisfied: numpy<2,>=1.21 in /opt/homebrew/lib/python3.11/site-packages (from matplotlib) (1.26.3)\n",
      "Requirement already satisfied: packaging>=20.0 in /Users/nemaaa/Library/Python/3.11/lib/python/site-packages (from matplotlib) (23.2)\n",
      "Requirement already satisfied: pillow>=8 in /opt/homebrew/lib/python3.11/site-packages (from matplotlib) (10.2.0)\n",
      "Requirement already satisfied: pyparsing>=2.3.1 in /opt/homebrew/lib/python3.11/site-packages (from matplotlib) (3.1.1)\n",
      "Requirement already satisfied: python-dateutil>=2.7 in /Users/nemaaa/Library/Python/3.11/lib/python/site-packages (from matplotlib) (2.8.2)\n",
      "Requirement already satisfied: six>=1.5 in /Users/nemaaa/Library/Python/3.11/lib/python/site-packages (from python-dateutil>=2.7->matplotlib) (1.16.0)\n",
      "\n",
      "\u001b[1m[\u001b[0m\u001b[34;49mnotice\u001b[0m\u001b[1;39;49m]\u001b[0m\u001b[39;49m A new release of pip is available: \u001b[0m\u001b[31;49m24.0\u001b[0m\u001b[39;49m -> \u001b[0m\u001b[32;49m24.2\u001b[0m\n",
      "\u001b[1m[\u001b[0m\u001b[34;49mnotice\u001b[0m\u001b[1;39;49m]\u001b[0m\u001b[39;49m To update, run: \u001b[0m\u001b[32;49mpython3.11 -m pip install --upgrade pip\u001b[0m\n"
     ]
    }
   ],
   "source": [
    "!pip install matplotlib"
   ]
  },
  {
   "cell_type": "code",
   "execution_count": 1,
   "id": "641db49a-229a-4f47-ba22-7084c3b2f861",
   "metadata": {},
   "outputs": [
    {
     "name": "stdout",
     "output_type": "stream",
     "text": [
      "/opt/homebrew/Cellar/jupyterlab/4.2.5_1/libexec/bin/python\n"
     ]
    }
   ],
   "source": [
    "import sys\n",
    "print(sys.executable)"
   ]
  },
  {
   "cell_type": "code",
   "execution_count": 2,
   "id": "a2e4378d-6701-4485-bd84-05dd6370ec0a",
   "metadata": {},
   "outputs": [
    {
     "ename": "ModuleNotFoundError",
     "evalue": "No module named 'matplotlib'",
     "output_type": "error",
     "traceback": [
      "\u001b[0;31m---------------------------------------------------------------------------\u001b[0m",
      "\u001b[0;31mModuleNotFoundError\u001b[0m                       Traceback (most recent call last)",
      "Cell \u001b[0;32mIn[2], line 1\u001b[0m\n\u001b[0;32m----> 1\u001b[0m \u001b[38;5;28;01mimport\u001b[39;00m \u001b[38;5;21;01mmatplotlib\u001b[39;00m\n\u001b[1;32m      2\u001b[0m \u001b[38;5;28mprint\u001b[39m(matplotlib\u001b[38;5;241m.\u001b[39m__version__)\n",
      "\u001b[0;31mModuleNotFoundError\u001b[0m: No module named 'matplotlib'"
     ]
    }
   ],
   "source": [
    "import matplotlib\n",
    "print(matplotlib.__version__)"
   ]
  },
  {
   "cell_type": "code",
   "execution_count": 4,
   "id": "a5c2b265-f80a-4075-932f-6721385328f2",
   "metadata": {},
   "outputs": [
    {
     "name": "stdout",
     "output_type": "stream",
     "text": [
      "/opt/homebrew/Cellar/jupyterlab/4.2.5_1/libexec/bin/python\n"
     ]
    }
   ],
   "source": [
    "import sys\n",
    "print(sys.executable)"
   ]
  },
  {
   "cell_type": "code",
   "execution_count": 28,
   "id": "9bd31724-b067-4e40-b835-028fce51ecad",
   "metadata": {},
   "outputs": [
    {
     "name": "stdout",
     "output_type": "stream",
     "text": [
      "/Users/nemaaa/501/ground_maps/\n",
      "/Users/nemaaa/501/ground_maps/simple.csv\n",
      "L,L,O,L,L\n",
      "\n",
      "L,L,O,L,L\n",
      "L,L,O,L,L\n",
      "\n",
      "L,L,O,L,L\n",
      "L,L,L,L,L\n",
      "\n",
      "L,L,L,L,L\n",
      "L,L,L,S,L\n",
      "L,L,L,S,L\n",
      "lst looks like: [['L', 'L', 'O', 'L', 'L'], ['L', 'L', 'O', 'L', 'L'], ['L', 'L', 'L', 'L', 'L'], ['L', 'L', 'L', 'S', 'L']]\n",
      "plot_map is: [[1, 1, 0, 1, 1], [1, 1, 0, 1, 1], [1, 1, 1, 1, 1], [1, 1, 1, 2, 1]]\n"
     ]
    }
   ],
   "source": [
    "import os\n",
    "import csv\n",
    "\n",
    "# Read map and convert symbols O,L,S to 0,1,2\n",
    "def read_ground_map(map_path):\n",
    "\n",
    "    lst = []\n",
    "    with open(map_path, \"r\") as file:\n",
    "        for line in file:\n",
    "            print(line)\n",
    "            print(line.strip())\n",
    "            row = line.strip().split(\",\")  # [\"L\",\"L\",\"O\",...]\n",
    "            lst += [row]\n",
    "    print(\"lst looks like:\",lst)\n",
    "    # \"O\" --> 0, \"L\" --> 1, \"S\" --> 2\n",
    "    ground_map = []\n",
    "    for row in lst:\n",
    "        r = []\n",
    "        for c in row:\n",
    "            if c == \"O\":\n",
    "                r += [0]\n",
    "            elif c == \"L\":\n",
    "                r += [1]\n",
    "            else:\n",
    "                r += [2]\n",
    "        ground_map += [r]\n",
    "    return ground_map\n",
    "\n",
    "\n",
    "\n",
    "# Program starts\n",
    "path = os.getcwd() + \"/ground_maps/\"\n",
    "print(path)\n",
    "map_name = \"simple.csv\"  # simple.csv, small.csv, ...\n",
    "ground_path = path + map_name\n",
    "print(ground_path)\n",
    "\n",
    "# Read ground, replace \"O\" --> 0, \"L\" --> 1, \"S\" --> 2\n",
    "plot_map = read_ground_map(ground_path)\n",
    "\n",
    "print(\"plot_map is:\", plot_map)\n",
    "\n"
   ]
  },
  {
   "cell_type": "code",
   "execution_count": null,
   "id": "6845b45e-e9f2-4327-9671-e0e3c9bd1106",
   "metadata": {},
   "outputs": [],
   "source": []
  }
 ],
 "metadata": {
  "kernelspec": {
   "display_name": "Python 3 (ipykernel)",
   "language": "python",
   "name": "python3"
  },
  "language_info": {
   "codemirror_mode": {
    "name": "ipython",
    "version": 3
   },
   "file_extension": ".py",
   "mimetype": "text/x-python",
   "name": "python",
   "nbconvert_exporter": "python",
   "pygments_lexer": "ipython3",
   "version": "3.12.5"
  }
 },
 "nbformat": 4,
 "nbformat_minor": 5
}
