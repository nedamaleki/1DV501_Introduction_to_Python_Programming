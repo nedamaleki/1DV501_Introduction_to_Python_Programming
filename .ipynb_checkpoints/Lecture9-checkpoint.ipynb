{
 "cells": [
  {
   "cell_type": "code",
   "execution_count": 1,
   "id": "86e2339f-193c-4519-ada6-fc5c7ee7e205",
   "metadata": {},
   "outputs": [
    {
     "name": "stdout",
     "output_type": "stream",
     "text": [
      "2 PM\n",
      "9 AM\n",
      "Error in specifying time.\n"
     ]
    }
   ],
   "source": [
    "def ampm(hour):\n",
    "    if 0 < hour < 13:\n",
    "        return f'{hour} AM'\n",
    "    elif 12 < hour < 25:\n",
    "        return f'{hour - 12} PM'\n",
    "    else:\n",
    "        raise ValueError('Error in specifying time.')\n",
    "        \n",
    "def main():\n",
    "    try:\n",
    "        print(ampm(14))\n",
    "        print(ampm(9))\n",
    "        print(ampm(25))\n",
    "    except ValueError as e:\n",
    "        print(e)\n",
    "main()"
   ]
  },
  {
   "cell_type": "code",
   "execution_count": 2,
   "id": "a8a5e7dd-cb78-4af1-9689-a98059df5a26",
   "metadata": {},
   "outputs": [
    {
     "name": "stdin",
     "output_type": "stream",
     "text": [
      "What time is it?  4\n"
     ]
    },
    {
     "name": "stdout",
     "output_type": "stream",
     "text": [
      "In Amerikat they would say 4 AM\n"
     ]
    },
    {
     "name": "stdin",
     "output_type": "stream",
     "text": [
      "What time is it?  15\n"
     ]
    },
    {
     "name": "stdout",
     "output_type": "stream",
     "text": [
      "In Amerikat they would say 3 PM\n"
     ]
    },
    {
     "name": "stdin",
     "output_type": "stream",
     "text": [
      "What time is it?  38\n"
     ]
    },
    {
     "ename": "ValueError",
     "evalue": "Error in specifying time.",
     "output_type": "error",
     "traceback": [
      "\u001b[0;31m---------------------------------------------------------------------------\u001b[0m",
      "\u001b[0;31mValueError\u001b[0m                                Traceback (most recent call last)",
      "Cell \u001b[0;32mIn[2], line 18\u001b[0m\n\u001b[1;32m     15\u001b[0m                \u001b[38;5;28mprint\u001b[39m(\u001b[38;5;124mf\u001b[39m\u001b[38;5;124m'\u001b[39m\u001b[38;5;124mIn Amerikat they would say \u001b[39m\u001b[38;5;132;01m{\u001b[39;00mampm(time)\u001b[38;5;132;01m}\u001b[39;00m\u001b[38;5;124m'\u001b[39m)\n\u001b[1;32m     16\u001b[0m             \u001b[38;5;66;03m#except ValueError as e:\u001b[39;00m\n\u001b[1;32m     17\u001b[0m                \u001b[38;5;66;03m#print(e)\u001b[39;00m\n\u001b[0;32m---> 18\u001b[0m \u001b[43mmain\u001b[49m\u001b[43m(\u001b[49m\u001b[43m)\u001b[49m\n",
      "Cell \u001b[0;32mIn[2], line 15\u001b[0m, in \u001b[0;36mmain\u001b[0;34m()\u001b[0m\n\u001b[1;32m     12\u001b[0m time \u001b[38;5;241m=\u001b[39m \u001b[38;5;28mint\u001b[39m(\u001b[38;5;28minput\u001b[39m(\u001b[38;5;124m'\u001b[39m\u001b[38;5;124mWhat time is it? \u001b[39m\u001b[38;5;124m'\u001b[39m))\n\u001b[1;32m     13\u001b[0m \u001b[38;5;28;01mif\u001b[39;00m time \u001b[38;5;241m!=\u001b[39m \u001b[38;5;241m0\u001b[39m:\n\u001b[1;32m     14\u001b[0m    \u001b[38;5;66;03m#try:\u001b[39;00m\n\u001b[0;32m---> 15\u001b[0m       \u001b[38;5;28mprint\u001b[39m(\u001b[38;5;124mf\u001b[39m\u001b[38;5;124m'\u001b[39m\u001b[38;5;124mIn Amerikat they would say \u001b[39m\u001b[38;5;132;01m{\u001b[39;00m\u001b[43mampm\u001b[49m\u001b[43m(\u001b[49m\u001b[43mtime\u001b[49m\u001b[43m)\u001b[49m\u001b[38;5;132;01m}\u001b[39;00m\u001b[38;5;124m'\u001b[39m)\n",
      "Cell \u001b[0;32mIn[2], line 7\u001b[0m, in \u001b[0;36mampm\u001b[0;34m(hour)\u001b[0m\n\u001b[1;32m      5\u001b[0m      \u001b[38;5;28;01mreturn\u001b[39;00m \u001b[38;5;124mf\u001b[39m\u001b[38;5;124m'\u001b[39m\u001b[38;5;132;01m{\u001b[39;00mhour\u001b[38;5;250m \u001b[39m\u001b[38;5;241m-\u001b[39m\u001b[38;5;250m \u001b[39m\u001b[38;5;241m12\u001b[39m\u001b[38;5;132;01m}\u001b[39;00m\u001b[38;5;124m PM\u001b[39m\u001b[38;5;124m'\u001b[39m\n\u001b[1;32m      6\u001b[0m \u001b[38;5;28;01melse\u001b[39;00m:\n\u001b[0;32m----> 7\u001b[0m      \u001b[38;5;28;01mraise\u001b[39;00m \u001b[38;5;167;01mValueError\u001b[39;00m(\u001b[38;5;124m'\u001b[39m\u001b[38;5;124mError in specifying time.\u001b[39m\u001b[38;5;124m'\u001b[39m)\n",
      "\u001b[0;31mValueError\u001b[0m: Error in specifying time."
     ]
    }
   ],
   "source": [
    "def ampm(hour):\n",
    "     if 0 < hour < 13:\n",
    "          return f'{hour} AM'\n",
    "     elif 12 < hour < 25:\n",
    "          return f'{hour - 12} PM'\n",
    "     else:\n",
    "          raise ValueError('Error in specifying time.')\n",
    "\n",
    "def main():\n",
    "    time = -1\n",
    "    while time != 0:\n",
    "         time = int(input('What time is it? '))\n",
    "         if time != 0:\n",
    "            #try:\n",
    "               print(f'In Amerikat they would say {ampm(time)}')\n",
    "            #except ValueError as e:\n",
    "               #print(e)\n",
    "main()"
   ]
  },
  {
   "cell_type": "code",
   "execution_count": null,
   "id": "5d63d29e-76ce-4247-9a35-8bc83c5896d2",
   "metadata": {},
   "outputs": [],
   "source": [
    "def main():\n",
    "    time = -1\n",
    "    while time != 0:\n",
    "        try:\n",
    "            time = int(input('What time is it? '))\n",
    "            if time != 0:\n",
    "                print(f'In Amerikat they would say {ampm(time)}')\n",
    "        except ValueError as e:\n",
    "            print('Value error with message:', e)\n",
    "        except:\n",
    "            print('General error')\n",
    "main()"
   ]
  },
  {
   "cell_type": "code",
   "execution_count": null,
   "id": "be83f850-6df4-4e10-9275-8c665d3100dc",
   "metadata": {},
   "outputs": [],
   "source": []
  }
 ],
 "metadata": {
  "kernelspec": {
   "display_name": "Python 3 (ipykernel)",
   "language": "python",
   "name": "python3"
  },
  "language_info": {
   "codemirror_mode": {
    "name": "ipython",
    "version": 3
   },
   "file_extension": ".py",
   "mimetype": "text/x-python",
   "name": "python",
   "nbconvert_exporter": "python",
   "pygments_lexer": "ipython3",
   "version": "3.12.5"
  }
 },
 "nbformat": 4,
 "nbformat_minor": 5
}
