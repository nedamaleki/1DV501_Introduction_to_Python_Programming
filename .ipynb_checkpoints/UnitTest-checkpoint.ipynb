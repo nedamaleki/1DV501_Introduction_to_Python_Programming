{
 "cells": [
  {
   "cell_type": "code",
   "execution_count": 6,
   "id": "0bea1701-85e3-40d3-88c3-a3da4f58aec3",
   "metadata": {},
   "outputs": [
    {
     "name": "stdout",
     "output_type": "stream",
     "text": [
      "All tests passed!\n"
     ]
    }
   ],
   "source": [
    "# Function to test\n",
    "def add_numbers(a, b):\n",
    "    return a + b\n",
    "\n",
    "# Unit tests\n",
    "def test_add_numbers():\n",
    "    assert add_numbers(1, 2) == 3  # Test 1: Basic addition\n",
    "    assert add_numbers(-1, -2) == -3  # Test 2: Negative numbers\n",
    "    assert add_numbers(0, 0) == 0  # Test 3: Adding zeros\n",
    "    print(\"All tests passed!\")\n",
    "\n",
    "# Test runner\n",
    "if __name__ == \"__main__\":\n",
    "    test_add_numbers()\n"
   ]
  },
  {
   "cell_type": "code",
   "execution_count": 9,
   "id": "8a753cb1-e25b-47b8-9549-32a8c9109981",
   "metadata": {},
   "outputs": [
    {
     "name": "stdout",
     "output_type": "stream",
     "text": [
      "Collecting pytest\n",
      "  Downloading pytest-8.3.3-py3-none-any.whl.metadata (7.5 kB)\n",
      "Collecting iniconfig (from pytest)\n",
      "  Downloading iniconfig-2.0.0-py3-none-any.whl.metadata (2.6 kB)\n",
      "Requirement already satisfied: packaging in /Users/nemaaa/Library/Python/3.11/lib/python/site-packages (from pytest) (23.2)\n",
      "Collecting pluggy<2,>=1.5 (from pytest)\n",
      "  Downloading pluggy-1.5.0-py3-none-any.whl.metadata (4.8 kB)\n",
      "Downloading pytest-8.3.3-py3-none-any.whl (342 kB)\n",
      "\u001b[2K   \u001b[90m━━━━━━━━━━━━━━━━━━━━━━━━━━━━━━━━━━━━━━━━\u001b[0m \u001b[32m342.3/342.3 kB\u001b[0m \u001b[31m9.8 MB/s\u001b[0m eta \u001b[36m0:00:00\u001b[0m\n",
      "\u001b[?25hDownloading pluggy-1.5.0-py3-none-any.whl (20 kB)\n",
      "Downloading iniconfig-2.0.0-py3-none-any.whl (5.9 kB)\n",
      "Installing collected packages: pluggy, iniconfig, pytest\n",
      "Successfully installed iniconfig-2.0.0 pluggy-1.5.0 pytest-8.3.3\n",
      "\n",
      "\u001b[1m[\u001b[0m\u001b[34;49mnotice\u001b[0m\u001b[1;39;49m]\u001b[0m\u001b[39;49m A new release of pip is available: \u001b[0m\u001b[31;49m24.0\u001b[0m\u001b[39;49m -> \u001b[0m\u001b[32;49m24.3.1\u001b[0m\n",
      "\u001b[1m[\u001b[0m\u001b[34;49mnotice\u001b[0m\u001b[1;39;49m]\u001b[0m\u001b[39;49m To update, run: \u001b[0m\u001b[32;49mpython3.11 -m pip install --upgrade pip\u001b[0m\n"
     ]
    }
   ],
   "source": [
    "!pip install pytest"
   ]
  },
  {
   "cell_type": "code",
   "execution_count": 9,
   "id": "530d31f7-e3b5-4cfc-bf26-fec1625d4354",
   "metadata": {},
   "outputs": [
    {
     "ename": "ImportError",
     "evalue": "cannot import name 'LinkedList' from 'LinkedList' (/Users/nemaaa/501/LinkedList.py)",
     "output_type": "error",
     "traceback": [
      "\u001b[0;31m---------------------------------------------------------------------------\u001b[0m",
      "\u001b[0;31mImportError\u001b[0m                               Traceback (most recent call last)",
      "Cell \u001b[0;32mIn[9], line 2\u001b[0m\n\u001b[1;32m      1\u001b[0m \u001b[38;5;28;01mimport\u001b[39;00m \u001b[38;5;21;01mpytest\u001b[39;00m\n\u001b[0;32m----> 2\u001b[0m \u001b[38;5;28;01mfrom\u001b[39;00m \u001b[38;5;21;01mLinkedList\u001b[39;00m \u001b[38;5;28;01mimport\u001b[39;00m LinkedList\n\u001b[1;32m      3\u001b[0m \u001b[38;5;28;01mdef\u001b[39;00m \u001b[38;5;21mtest_empty_list_creation\u001b[39m():\n\u001b[1;32m      4\u001b[0m     ll \u001b[38;5;241m=\u001b[39m LinkedList()\n",
      "\u001b[0;31mImportError\u001b[0m: cannot import name 'LinkedList' from 'LinkedList' (/Users/nemaaa/501/LinkedList.py)"
     ]
    }
   ],
   "source": [
    "import pytest\n",
    "from LinkedList import LinkedList\n",
    "def test_empty_list_creation():\n",
    "    ll = LinkedList()\n",
    "    assert ll.is_empty() == True\n",
    "    assert ll.get_size() == 0\n",
    "    assert str(ll) == '[]'"
   ]
  },
  {
   "cell_type": "code",
   "execution_count": 3,
   "id": "b7c40d31-812f-43d9-a176-cd3e2d27dcde",
   "metadata": {},
   "outputs": [
    {
     "name": "stdout",
     "output_type": "stream",
     "text": [
      "/opt/homebrew/Cellar/jupyterlab/4.2.5_1/libexec/bin/python\n"
     ]
    }
   ],
   "source": [
    "import sys\n",
    "print(sys.executable)"
   ]
  },
  {
   "cell_type": "code",
   "execution_count": 7,
   "id": "976ae9e5-670f-45b4-89b0-660ec6e43944",
   "metadata": {},
   "outputs": [
    {
     "name": "stdout",
     "output_type": "stream",
     "text": [
      "Collecting pytest\n",
      "  Using cached pytest-8.3.3-py3-none-any.whl.metadata (7.5 kB)\n",
      "Collecting iniconfig (from pytest)\n",
      "  Using cached iniconfig-2.0.0-py3-none-any.whl.metadata (2.6 kB)\n",
      "Requirement already satisfied: packaging in /opt/homebrew/Cellar/jupyterlab/4.2.5_1/libexec/lib/python3.12/site-packages (from pytest) (24.1)\n",
      "Requirement already satisfied: pluggy<2,>=1.5 in /opt/homebrew/Cellar/jupyterlab/4.2.5_1/libexec/lib/python3.12/site-packages (from pytest) (1.5.0)\n",
      "Using cached pytest-8.3.3-py3-none-any.whl (342 kB)\n",
      "Using cached iniconfig-2.0.0-py3-none-any.whl (5.9 kB)\n",
      "Installing collected packages: iniconfig, pytest\n",
      "Successfully installed iniconfig-2.0.0 pytest-8.3.3\n",
      "\n",
      "\u001b[1m[\u001b[0m\u001b[34;49mnotice\u001b[0m\u001b[1;39;49m]\u001b[0m\u001b[39;49m A new release of pip is available: \u001b[0m\u001b[31;49m24.2\u001b[0m\u001b[39;49m -> \u001b[0m\u001b[32;49m24.3.1\u001b[0m\n",
      "\u001b[1m[\u001b[0m\u001b[34;49mnotice\u001b[0m\u001b[1;39;49m]\u001b[0m\u001b[39;49m To update, run: \u001b[0m\u001b[32;49m/opt/homebrew/Cellar/jupyterlab/4.2.5_1/libexec/bin/python -m pip install --upgrade pip\u001b[0m\n"
     ]
    }
   ],
   "source": [
    "!/opt/homebrew/Cellar/jupyterlab/4.2.5_1/libexec/bin/python -m pip install pytest"
   ]
  },
  {
   "cell_type": "code",
   "execution_count": null,
   "id": "c32e57c2-8c53-456d-bf8f-42e69d714140",
   "metadata": {},
   "outputs": [],
   "source": []
  }
 ],
 "metadata": {
  "kernelspec": {
   "display_name": "Python 3 (ipykernel)",
   "language": "python",
   "name": "python3"
  },
  "language_info": {
   "codemirror_mode": {
    "name": "ipython",
    "version": 3
   },
   "file_extension": ".py",
   "mimetype": "text/x-python",
   "name": "python",
   "nbconvert_exporter": "python",
   "pygments_lexer": "ipython3",
   "version": "3.12.5"
  }
 },
 "nbformat": 4,
 "nbformat_minor": 5
}
