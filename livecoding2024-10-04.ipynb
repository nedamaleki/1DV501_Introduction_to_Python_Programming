{
 "cells": [
  {
   "cell_type": "markdown",
   "id": "197b327b-2416-422f-ba09-acfb05cf5936",
   "metadata": {},
   "source": [
    " # Task 1 - Maximum\n",
    "This first task is to create a program with a function called maximum that takes two variables, called a and b and returns the largest of the two. Complete this with a main part that shows how it all works by asking the user for input.\n",
    "- First number: 3\n",
    "- Second number: 5\n",
    "- The largest of the two is 5"
   ]
  },
  {
   "cell_type": "code",
   "execution_count": 1,
   "id": "3edd5ce9-3afe-42a8-b935-d1283a4c3aee",
   "metadata": {},
   "outputs": [
    {
     "name": "stdin",
     "output_type": "stream",
     "text": [
      "Enter the the first number: 3\n",
      "Enter the the second number: 5\n"
     ]
    },
    {
     "name": "stdout",
     "output_type": "stream",
     "text": [
      "The maximum is: 5\n"
     ]
    }
   ],
   "source": [
    "def maximum(a,b):\n",
    "    if a > b:\n",
    "        return a\n",
    "    else:\n",
    "        return b\n",
    "\n",
    "def main():\n",
    "    x = int(input(\"Enter the the first number:\"))\n",
    "    y = int(input(\"Enter the the second number:\"))\n",
    "\n",
    "    result= maximum(x,y)\n",
    "\n",
    "    print(\"The maximum is:\", result)\n",
    "\n",
    "main()\n"
   ]
  },
  {
   "cell_type": "markdown",
   "id": "c4a3540a-7073-4f3c-ba1e-ce9c86cd4ab5",
   "metadata": {},
   "source": [
    "# Task 2 - More Functions\n",
    "A program can have more than one function (and most often does).\n",
    "- Write a program with one function for calculating the circumference of a circle and one for calculating the area of a circle.\n",
    "- Show a main part of the program that uses both of the functions\n",
    "- and shows the result using three decimals.\n",
    "-\n",
    "- Radius of the circle: 6.1234\n",
    "- The circumference is 38.474\n",
    "- The area is 117.797"
   ]
  },
  {
   "cell_type": "code",
   "execution_count": 4,
   "id": "c9d30674-b530-401a-9661-22e918fa44a5",
   "metadata": {},
   "outputs": [
    {
     "name": "stdin",
     "output_type": "stream",
     "text": [
      "Enter the radius: 6.1234\n"
     ]
    },
    {
     "name": "stdout",
     "output_type": "stream",
     "text": [
      "The circumference is 38.47445690998348\n",
      "The area is 117.79724472129642\n"
     ]
    }
   ],
   "source": [
    "import math\n",
    "\n",
    "def circumference(r):\n",
    "    circumference = 2*math.pi*r\n",
    "    return circumference\n",
    "\n",
    "def area(r):\n",
    " area = math.pi*(r**2)\n",
    " return area\n",
    "\n",
    "\n",
    "def main():\n",
    "   r = float(input(\"Enter the radius:\"))\n",
    "    \n",
    "   cir = circumference(r)\n",
    "   are = area(r)\n",
    "\n",
    "   print(\"The circumference is\", cir)\n",
    "   print(\"The area is\", are)\n",
    "    \n",
    "\n",
    "main()"
   ]
  },
  {
   "cell_type": "markdown",
   "id": "58f019ee-41a6-45e5-b30c-314e78e8438b",
   "metadata": {},
   "source": [
    "# Task 3 - Switch\n",
    "Python can return more than one value at a time and in this task we want you to write a program that has a method called switch() that takes two integers and returns them the other way around. See below for an example.\n",
    "\n",
    "- Give me a number: 3\n",
    "- Give me another: 4\n",
    "- x is 3\n",
    "- y is 4\n",
    "- x is 4\n",
    "- y is 3"
   ]
  },
  {
   "cell_type": "code",
   "execution_count": 5,
   "id": "392b93ad-c981-4962-bd56-22f5ee378e2f",
   "metadata": {},
   "outputs": [
    {
     "name": "stdin",
     "output_type": "stream",
     "text": [
      "Give me a number: 3\n",
      "Give me another: 4\n"
     ]
    },
    {
     "name": "stdout",
     "output_type": "stream",
     "text": [
      "x is 3\n",
      "y is 4\n",
      "x is 4\n",
      "y is 3\n"
     ]
    }
   ],
   "source": [
    "def switch(a,b):\n",
    "    temp= a\n",
    "    a=b\n",
    "    b= temp\n",
    "    return a,b\n",
    "\n",
    "def main():\n",
    "    x = int(input(\"Give me a number:\"))\n",
    "    y = int(input(\"Give me another:\"))\n",
    "\n",
    "    print(f'x is {x}')\n",
    "    print(f'y is {y}')\n",
    "\n",
    "    x,y = switch(x,y)\n",
    "\n",
    "    print(f'x is {x}')\n",
    "    print(f'y is {y}')\n",
    "\n",
    "\n",
    "main()    \n"
   ]
  },
  {
   "cell_type": "markdown",
   "id": "a6f5c5af-a003-4bc6-a5f8-43f74d8ec96a",
   "metadata": {},
   "source": [
    "# Task 4 - Finding the Character\n",
    "\n",
    "To conclude, write a program with a function that accepts a string as well as a single character. The purpose of the function is to see if the character exists in the string and return true if so. If the character isn't found, it should return false. Below you can see two executions of the program.\n",
    "\n",
    "- Give me a sentence: May the Force be with you\n",
    "- Give me single character: u\n",
    "- Found it!\n",
    "\n",
    "- Give me a sentence: Dark Side of the Moon\n",
    "- Give me single character: ö\n",
    "- Was not in the sentence..."
   ]
  },
  {
   "cell_type": "code",
   "execution_count": 7,
   "id": "deb78b96-9b60-40a6-9a87-c3fd3bede74e",
   "metadata": {},
   "outputs": [
    {
     "name": "stdin",
     "output_type": "stream",
     "text": [
      "Give me a sentence: Dark Side of the Moon\n",
      "Give me single character: ö\n"
     ]
    },
    {
     "name": "stdout",
     "output_type": "stream",
     "text": [
      "Was not in the sentence...\n"
     ]
    }
   ],
   "source": [
    "def in_string(s, c):\n",
    "    for i in s:\n",
    "        if i == c:\n",
    "            return True\n",
    "    return False\n",
    "\n",
    "def main():\n",
    "    sentence = input(\"Give me a sentence:\")\n",
    "    character = input(\"Give me single character:\")\n",
    "\n",
    "    result= in_string(sentence,character)\n",
    "\n",
    "    if result == True:\n",
    "       print(\"Found it!\") \n",
    "    else:\n",
    "       print(\"Was not in the sentence...\") \n",
    "\n",
    "\n",
    "main()"
   ]
  },
  {
   "cell_type": "markdown",
   "id": "61f65113-4085-4375-ba99-d95680dd4a36",
   "metadata": {},
   "source": [
    "# Task 5 - Converting Length\n",
    "Create a new file called convert.py in which two functions should be placed: cm_to_inches() and inches_to_cm(). These two functions should return the conversion of centimetres to inches or inches to centimetres according to the following formulas:centimetres = inches / 2.54\n",
    "inches = 2.54 * centimetres\n",
    "\n",
    "Next write a test program that displays the conversion of 1 - 19 centimetres as well as 50 - 68 inches as outlined in the table below (hint: use f-strings and formatting as well as iteration)-\n",
    "\n",
    "Centimetres| Inches     | Inches     | Centimetres\n",
    "--------------------------------------------------\n",
    "         1 |       0.39 |         50 |     127.00\n",
    "         2 |       0.79 |         51 |     129.54\n",
    "         3 |       1.18 |         52 |     132.08\n",
    "         4 |       1.57 |         53 |     134.62\n",
    "         5 |       1.97 |         54 |     137.16\n",
    "         6 |       2.36 |         55 |     139.70\n",
    "         7 |       2.76 |         56 |     142.24\n",
    "         8 |       3.15 |         57 |     144.78\n",
    "         9 |       3.54 |         58 |     147.32\n",
    "        10 |       3.94 |         59 |     149.86\n",
    "        11 |       4.33 |         60 |     152.40\n",
    "        12 |       4.72 |         61 |     154.94\n",
    "        13 |       5.12 |         62 |     157.48\n",
    "        14 |       5.51 |         63 |     160.02\n",
    "        15 |       5.91 |         64 |     162.56\n",
    "        16 |       6.30 |         65 |     165.10\n",
    "        17 |       6.69 |         66 |     167.64\n",
    "        18 |       7.09 |         67 |     170.18\n",
    "        19 |       7.48 |         68 |     172.72\n",
    "\n",
    " "
   ]
  },
  {
   "cell_type": "code",
   "execution_count": 14,
   "id": "382cc1e3-52dc-4ef1-a363-e179aa5da101",
   "metadata": {},
   "outputs": [
    {
     "name": "stdout",
     "output_type": "stream",
     "text": [
      "Centimetres:         | Inches:              | Inches:              | Centimetres:         \n",
      "------------------------------------------------------------------------------------------\n",
      "                   1 |                 2.54 |                   50 |                19.69 \n",
      "                   2 |                 5.08 |                   51 |                20.08 \n",
      "                   3 |                 7.62 |                   52 |                20.47 \n",
      "                   4 |                10.16 |                   53 |                20.87 \n",
      "                   5 |                12.70 |                   54 |                21.26 \n",
      "                   6 |                15.24 |                   55 |                21.65 \n",
      "                   7 |                17.78 |                   56 |                22.05 \n",
      "                   8 |                20.32 |                   57 |                22.44 \n",
      "                   9 |                22.86 |                   58 |                22.83 \n",
      "                  10 |                25.40 |                   59 |                23.23 \n",
      "                  11 |                27.94 |                   60 |                23.62 \n",
      "                  12 |                30.48 |                   61 |                24.02 \n",
      "                  13 |                33.02 |                   62 |                24.41 \n",
      "                  14 |                35.56 |                   63 |                24.80 \n",
      "                  15 |                38.10 |                   64 |                25.20 \n",
      "                  16 |                40.64 |                   65 |                25.59 \n",
      "                  17 |                43.18 |                   66 |                25.98 \n",
      "                  18 |                45.72 |                   67 |                26.38 \n",
      "                  19 |                48.26 |                   68 |                26.77 \n"
     ]
    }
   ],
   "source": [
    "import converts \n",
    "\n",
    "def main():\n",
    "    width = 20\n",
    "\n",
    "    print(f'{\"Centimetres:\":<{width}} | {\"Inches:\":<{width}} | {\"Inches:\":<{width}} | {\"Centimetres:\":<{width}} ')\n",
    "    print('-'*90)\n",
    "\n",
    "    cm =1\n",
    "    inch= 50\n",
    "\n",
    "    while cm <= 19 and  inch<=68:\n",
    "        print(f'{cm:>{width}} | {converts.cm_to_inches(cm):>{width}.2f} | {inch:>{width}} | {converts.inches_to_cm(inch):>{width}.2f} ')\n",
    "\n",
    "        cm +=1\n",
    "        inch +=1\n",
    " \n",
    "\n",
    "main()\n"
   ]
  },
  {
   "cell_type": "markdown",
   "id": "9d994ad8-6085-456b-b28e-b3ddebd6266a",
   "metadata": {},
   "source": [
    "#  Task 6 - Simple List\n",
    "Create a program that initialises a list with five values and then prints them out, one by one with a space between them. See below for an example execution:\n",
    "1 2 3 4 5"
   ]
  },
  {
   "cell_type": "code",
   "execution_count": 18,
   "id": "66729552-eb46-4f44-a445-bafbb5239b2f",
   "metadata": {},
   "outputs": [
    {
     "name": "stdout",
     "output_type": "stream",
     "text": [
      "1 2 3 4 5 "
     ]
    }
   ],
   "source": [
    "lst = [1,2,3,4,5]\n",
    "\n",
    "for n in lst: \n",
    "    print(f'{n} ', end='')"
   ]
  },
  {
   "cell_type": "markdown",
   "id": "4c4b886e-02a6-4799-b214-9ec820470260",
   "metadata": {},
   "source": [
    "# Task 7 - Random Numbers\n",
    "- In this task, create a program that generates ten random integer values between 1 and 100 in a list.\n",
    "- It should then print the complete list, together with the largest and smallest values in the list as well as the sum of all values.\n",
    "-\n",
    "- See below for an example execution:\n",
    "- All values: [37, 8, 67, 70, 71, 37, 28, 78, 99, 40]\n",
    "- Largest value: 99\n",
    "- Smallest value: 8\n",
    "- Sum of all values: 535"
   ]
  },
  {
   "cell_type": "code",
   "execution_count": 19,
   "id": "cfeb416f-21fe-41b8-bd58-2cd703000278",
   "metadata": {},
   "outputs": [
    {
     "name": "stdout",
     "output_type": "stream",
     "text": [
      "All values: [70, 54, 23, 69, 80, 48, 23, 77, 20, 18]\n",
      "Largest value: 80\n",
      "Smallest value: 18\n",
      "Sum of all values: 482\n"
     ]
    }
   ],
   "source": [
    "import random\n",
    "\n",
    "lst = []\n",
    "\n",
    "for i in range(10):\n",
    "    lst.append(random.randint(1,100))\n",
    "\n",
    "print('All values:', lst)\n",
    "print('Largest value:', max(lst))\n",
    "print('Smallest value:', min(lst))\n",
    "print('Sum of all values:', sum(lst))\n"
   ]
  },
  {
   "cell_type": "markdown",
   "id": "836cd207-1520-4380-a645-ae95a5824a2b",
   "metadata": {},
   "source": [
    "# Task 8 - Where are the Characters?\n",
    "\n",
    "Now create a program that has a function that takes a sentence and a single character and returns a list of what positions in the string the character can be found. \n",
    "Let the user enter a sentence and a character to search for. \n",
    "See below for an example execution:\n",
    "\n",
    "- Write a sentence: May The Force be with You\n",
    "- What character to look for: e\n",
    "- The letter \"e\" is at: [6, 12, 15]\n",
    " "
   ]
  },
  {
   "cell_type": "code",
   "execution_count": 20,
   "id": "2e46fbb2-fc9d-40a1-b446-c3fba68bbf46",
   "metadata": {},
   "outputs": [
    {
     "name": "stdin",
     "output_type": "stream",
     "text": [
      "Write a sentence: May The Force be with You\n",
      "What character to look for: e\n"
     ]
    },
    {
     "name": "stdout",
     "output_type": "stream",
     "text": [
      "The letter \"e\" is at: [6, 12, 15]\n"
     ]
    }
   ],
   "source": [
    "def in_list(text,character):\n",
    "    \n",
    "    places=[]\n",
    "    \n",
    "    for i in range(len(text)):\n",
    "        if text[i]== character:\n",
    "            places.append(i)\n",
    "\n",
    "    return places\n",
    "\n",
    "def main():\n",
    "    \n",
    "    sentence = input(\"Write a sentence:\")\n",
    "    character = input(\"What character to look for:\")\n",
    "\n",
    "    \n",
    "    print('The letter \"' + character + '\" is at:', in_list(sentence,character))\n",
    "\n",
    "\n",
    "main()\n",
    "\n"
   ]
  },
  {
   "cell_type": "markdown",
   "id": "2e04665a-18e4-47c6-beb5-3f6d5bd72251",
   "metadata": {},
   "source": [
    "# Task 9 - Second Largest\n",
    "In this exercise, we want a function that takes a list as input and returns the second largest number in it.\n",
    "Remember to handle the edge case when all numbers are the same. \n",
    "See below for an example execution:\n",
    "- The second largest number in [10, 5, 20, 8, 20] is: 10\n",
    "- The second largest number in [3, 3, 3] is: No second largest number exists."
   ]
  },
  {
   "cell_type": "code",
   "execution_count": 22,
   "id": "aed799d8-3bd1-4a79-9f5c-495172bffba1",
   "metadata": {},
   "outputs": [
    {
     "name": "stdout",
     "output_type": "stream",
     "text": [
      "The second largets number in [10, 5, 20, 8, 20] is: 10\n",
      "The second largets number in [3, 3, 3] is: No second largest exists\n"
     ]
    }
   ],
   "source": [
    "def second_largest_number(lst):\n",
    "\n",
    "    if (len(lst)< 2):\n",
    "        return \"No second largest numner exists.\"\n",
    "\n",
    "    largest = None\n",
    "    second_largest = None\n",
    "\n",
    "    for number in lst:\n",
    "        if largest is None or number > largest:\n",
    "            second_largest= largest\n",
    "            largest = number\n",
    "\n",
    "        elif number != largest and (second_largest is None or number > second_largest):\n",
    "             second_largest = number\n",
    "\n",
    "    if second_largest is None:\n",
    "        return \"No second largest exists\"\n",
    "\n",
    "    return second_largest\n",
    "    \n",
    "\n",
    "def main():\n",
    "\n",
    "    numbers = [10, 5, 20, 8, 20]\n",
    "\n",
    "    result = second_largest_number(numbers)\n",
    "\n",
    "    print(f'The second largets number in {numbers} is: {result}')\n",
    "\n",
    "\n",
    "    numbers = [3, 3, 3]\n",
    "    \n",
    "    result = second_largest_number(numbers)\n",
    "\n",
    "    print(f'The second largets number in {numbers} is: {result}')\n",
    "\n",
    "\n",
    "\n",
    "main()"
   ]
  },
  {
   "cell_type": "code",
   "execution_count": 29,
   "id": "e9967af4-63b5-4552-a334-dc52ca274234",
   "metadata": {},
   "outputs": [
    {
     "name": "stdout",
     "output_type": "stream",
     "text": [
      "20060703-4402 is valid.\n"
     ]
    }
   ],
   "source": [
    "def is_valid_personnummer(personnummer):\n",
    "    # Remove any dashes or spaces\n",
    "    personnummer = personnummer.replace('-', '').replace(' ', '')\n",
    "    \n",
    "    # Ensure we are working with the shorter 10-digit version (YYMMDDNNNN)\n",
    "    if len(personnummer) == 12:\n",
    "        personnummer = personnummer[2:]\n",
    "    elif len(personnummer) != 10:\n",
    "        return False\n",
    "    \n",
    "    # Apply the Luhn algorithm\n",
    "    checksum = 0\n",
    "    for i in range(9):\n",
    "        num = int(personnummer[i])\n",
    "        if i % 2 == 0:  # Even index (positions 0, 2, 4, ...)\n",
    "            num *= 2\n",
    "            if num > 9:\n",
    "                num -= 9\n",
    "        checksum += num\n",
    "    \n",
    "    # The control number is the last digit\n",
    "    control_number = int(personnummer[-1])\n",
    "    \n",
    "    # Check if the control number is valid\n",
    "    return (checksum + control_number) % 10 == 0\n",
    "\n",
    "def main():\n",
    "    personal_number = '20060703-4402'\n",
    "    if is_valid_personnummer(personal_number):\n",
    "        print(f'{personal_number} is valid.')\n",
    "    else:\n",
    "        print(f'{personal_number} is not valid.')\n",
    "\n",
    "main()"
   ]
  },
  {
   "cell_type": "code",
   "execution_count": null,
   "id": "8e48f5d3-ecd8-4f11-b8a6-6fb916211f6d",
   "metadata": {},
   "outputs": [],
   "source": []
  }
 ],
 "metadata": {
  "kernelspec": {
   "display_name": "Python 3 (ipykernel)",
   "language": "python",
   "name": "python3"
  },
  "language_info": {
   "codemirror_mode": {
    "name": "ipython",
    "version": 3
   },
   "file_extension": ".py",
   "mimetype": "text/x-python",
   "name": "python",
   "nbconvert_exporter": "python",
   "pygments_lexer": "ipython3",
   "version": "3.12.5"
  }
 },
 "nbformat": 4,
 "nbformat_minor": 5
}
