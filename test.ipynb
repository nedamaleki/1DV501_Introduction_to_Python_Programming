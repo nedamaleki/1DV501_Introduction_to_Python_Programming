{
 "cells": [
  {
   "cell_type": "markdown",
   "id": "a74097d6-b7cb-4c8c-8d98-5bbad7d68c16",
   "metadata": {},
   "source": [
    "Let's start with some math! Write a program that asks for two sides of a right-angled triangle and calculates the length of the third side (hypotenuse) using the Pythagorean theorem ($c² = a² + b²$). As we are supplying a and b, we need to calculate c as c = √(a² + b²). Print, using f-strings, the result using two decimals. \n",
    "Right-angled triangle is a triangle in which two sides are perpendicular, forming a right angle. The side opposite to the right angle is called the hypotenuse. The sides adjacent to the right angle are called legs. \n",
    "\n",
    "option 8 9 -< bracket\n",
    "shift option 8 9 -> curly bracket\n",
    "clt command space -> letters and emojis\n",
    "< is only the button itself > is shift button"
   ]
  },
  {
   "cell_type": "code",
   "execution_count": 4,
   "id": "f7972150-d579-4d95-a33d-54d838716964",
   "metadata": {},
   "outputs": [
    {
     "name": "stdin",
     "output_type": "stream",
     "text": [
      "please enter the first side: 4\n",
      "please enter the second side: 7\n"
     ]
    },
    {
     "name": "stdout",
     "output_type": "stream",
     "text": [
      "Length of the hypothenuse is: 8.06\n"
     ]
    }
   ],
   "source": [
    "import math\n",
    "a = float (input (\"please enter the first side:\"))\n",
    "b = float (input (\"please enter the second side:\"))\n",
    "\n",
    "c = math.sqrt (a**2 + b**2)\n",
    "print (f'Length of the hypothenuse is: {c:.2f}')    "
   ]
  },
  {
   "cell_type": "markdown",
   "id": "4436fb72-cba8-4213-bcc6-ca4b0edb21cc",
   "metadata": {},
   "source": [
    "Task2: In this task, write a program that calculates if a given year is a leap year or not. The definition of a leap year is a year that is evenly divisible with 4 but not such years that are also divisible with 100. However, if the year is evenly divisible by 400, then it is a leap year.\n",
    "\n",
    "Leap Year Rules\n",
    "\n",
    "    Divisible by 4 but not by 100:\n",
    "        Condition: year % 4 == 0 and year % 100 != 0\n",
    "        Explanation: Most years that are divisible by 4 are leap years. However, if a year is also divisible by 100, it is not a leap year unless it meets the next condition.\n",
    "\n",
    "    Divisible by 400:\n",
    "        Condition: year % 400 == 0\n",
    "        Explanation: Years that are divisible by 400 are leap years, regardless of being divisible by 100.\n",
    "\n",
    "Why Both Conditions?\n",
    "\n",
    "    Years Divisible by 400:\n",
    "        If a year is divisible by 400, it is a leap year. For example, the year 2000 is a leap year because 2000 % 400 == 0.\n",
    "\n",
    "    Years Divisible by 100 but Not by 400:\n",
    "        If a year is divisible by 100 but not by 400, it is not a leap year. For example, the year 1800 is not a leap year because although 1800 % 100 == 0, 1800 % 400 != 0.\n",
    "\n",
    "    Years Divisible by 4 but Not by 100:\n",
    "        If a year is divisible by 4 but not by 100, it is a leap year. For example, the year 2020 is a leap year because 2020 % 4 == 0 and 2020 % 100 != 0.\n",
    "\n",
    "Why Not Just Check for Divisibility by 400?\n",
    "\n",
    "You’re correct that any year divisible by 400 is also divisible by 100. However, the code needs to handle the more general case where a year divisible by 4 and not by 100 is also a leap year. The leap year rules are designed to correct small discrepancies in the calendar year relative to the astronomical year.\n",
    "\n",
    "So, the code checks:\n",
    "\n",
    "    If the year is divisible by 4 but not by 100 (the general case for leap years).\n",
    "    If the year is divisible by 400 (the exception to the rule).\n",
    "\n",
    "Combining these conditions ensures that the leap year calculation is accurate according to the Gregorian calendar rules."
   ]
  },
  {
   "cell_type": "code",
   "execution_count": 15,
   "id": "850c22d5-2273-4a61-bd82-9966e89347de",
   "metadata": {},
   "outputs": [
    {
     "name": "stdin",
     "output_type": "stream",
     "text": [
      "please enter the year: 1800\n"
     ]
    },
    {
     "name": "stdout",
     "output_type": "stream",
     "text": [
      "Not a leap year...\n"
     ]
    }
   ],
   "source": [
    "import math\n",
    "\n",
    "year = int (input (\"please enter the year:\"))\n",
    "\n",
    "if (year%4 == 0 and year%100 != 0) or year%400 ==0:\n",
    "    print('Leap year!')\n",
    "else:\n",
    "    print('Not a leap year...')"
   ]
  },
  {
   "cell_type": "markdown",
   "id": "5e9fd0e4-ac65-48e5-a717-91e68b324828",
   "metadata": {},
   "source": [
    "Task 3: In this task, create a program where it is possible (does not have to be user input) to decide, based on temperature and the use of an umbrella, if a person will be wet or fine. The need for an umbrella is of course depending on if it rains or not, so make sure to ask about that."
   ]
  },
  {
   "cell_type": "code",
   "execution_count": 33,
   "id": "98245068-df41-42d8-bd88-eaaafc26911d",
   "metadata": {},
   "outputs": [
    {
     "name": "stdin",
     "output_type": "stream",
     "text": [
      "What temperature is it?  18\n",
      "Is it raining? y/n  y\n",
      "Do you have an umbrella? y/n y\n"
     ]
    },
    {
     "name": "stdout",
     "output_type": "stream",
     "text": [
      "It is raining, but you have your umbrella!\n"
     ]
    }
   ],
   "source": [
    "temp = int(input('What temperature is it? '))\n",
    "rain = input('Is it raining? y/n ')\n",
    "\n",
    "if rain == 'y':\n",
    "  raining = True\n",
    "else:\n",
    "  raining = False\n",
    "\n",
    "umb = input('Do you have an umbrella? y/n')\n",
    "\n",
    "if umb == 'y':\n",
    "  umbrella = True\n",
    "else:\n",
    "  umbrella = False\n",
    "\n",
    "# Also possible to write something like umbrella = umb == 'y' to do the above\n",
    "\n",
    "if temp >= 20 and not raining:\n",
    "  print('All is well!')\n",
    "elif temp < 20 and raining:\n",
    "  if umbrella:\n",
    "      print('It is raining, but you have your umbrella!')\n",
    "  else:\n",
    "      print('Too bad, you will be wet!')\n",
    "else:\n",
    "  print('You seem to be fine.')\n"
   ]
  },
  {
   "cell_type": "markdown",
   "id": "2dee1def-a18d-4e94-95b4-1982e81b5a21",
   "metadata": {},
   "source": [
    "What temperature is it? 18\n",
    "Is it raining? y\n",
    "Do you have an umbrella? n\n",
    "Too bad, you will be wet!\n",
    "\n",
    "What temperature is it? 22\n",
    "Is it raining? n\n",
    "Do you have an umbrella? n\n",
    "All is well!\n",
    "\n",
    "What temperature is it? 14\n",
    "Is it raining? n\n",
    "Do you have an umbrella? y\n",
    "You seem to be fine."
   ]
  },
  {
   "cell_type": "markdown",
   "id": "ce2a1bed-63e9-4cb8-87ab-4c6058822395",
   "metadata": {},
   "source": [
    "Task 4: Write a program that prints the numbers 10 to 1 within brackets as shown below. Do it twice, first using while and then using for.\n",
    "[ 10 9 8 7 6 5 4 3 2 1 ]"
   ]
  },
  {
   "cell_type": "code",
   "execution_count": 43,
   "id": "ebd0e423-808e-4596-bee1-55420782ead0",
   "metadata": {},
   "outputs": [
    {
     "name": "stdout",
     "output_type": "stream",
     "text": [
      "[10 9 8 7 6 5 4 3 2 1]\n"
     ]
    }
   ],
   "source": [
    "count =10 \n",
    "\n",
    "print ('[', end='')\n",
    "\n",
    "while count > 0:\n",
    "    print (f'{count:2}', end= '')\n",
    "    count -= 1  # count = count -1\n",
    "    \n",
    "print (']')\n"
   ]
  },
  {
   "cell_type": "code",
   "execution_count": 45,
   "id": "7e27f5e6-d8e7-4b17-9138-a22ba244f689",
   "metadata": {},
   "outputs": [
    {
     "name": "stdout",
     "output_type": "stream",
     "text": [
      "[10 9 8 7 6 5 4 3 2 1]\n"
     ]
    }
   ],
   "source": [
    "print ('[', end='')\n",
    "for count in range (10,0, -1):\n",
    "    print (f'{count:2}', end= '')\n",
    "\n",
    "print (']')"
   ]
  },
  {
   "cell_type": "markdown",
   "id": "632d08f5-29ed-401c-a8a3-428114afcbdd",
   "metadata": {},
   "source": [
    "Task 5: In this task, write a program that allows a user to repeatedly enter numbers until the number 0 is entered. When that happens, the program should end and the number of odd and even numbers should be printed.\n",
    "\n",
    "pass allows the program to run without doing anything when it encounters the pass statement. It helps keep your code syntactically correct while you’re working on other parts of your program."
   ]
  },
  {
   "cell_type": "code",
   "execution_count": 57,
   "id": "76e5e0e1-ae40-4c2d-93a5-92f058b1ae1f",
   "metadata": {},
   "outputs": [
    {
     "name": "stdin",
     "output_type": "stream",
     "text": [
      "enter the number or 0 to exit 3\n",
      "enter the number or 0 to exit 5\n",
      "enter the number or 0 to exit 7\n",
      "enter the number or 0 to exit 8\n",
      "enter the number or 0 to exit 10\n",
      "enter the number or 0 to exit 100\n",
      "enter the number or 0 to exit 0\n"
     ]
    },
    {
     "name": "stdout",
     "output_type": "stream",
     "text": [
      "The number of even numbers is  3\n",
      "The number of odd numbers is  3\n"
     ]
    }
   ],
   "source": [
    "number = -1\n",
    "even_count = 0\n",
    "odd_count = 0\n",
    "\n",
    "while number != 0:\n",
    "    \n",
    "    number = int (input (\"enter the number or 0 to exit\"))\n",
    "    \n",
    "    if number == 0:\n",
    "        pass\n",
    "    elif number % 2 == 0:\n",
    "        even_count += 1\n",
    "    else:\n",
    "        odd_count += 1\n",
    "        \n",
    "print (\"The number of even numbers is \", even_count)\n",
    "print (\"The number of odd numbers is \", odd_count)"
   ]
  },
  {
   "cell_type": "markdown",
   "id": "30ba7dcb-0bf5-4d08-b229-bc3a44cae26d",
   "metadata": {},
   "source": [
    "Task 6: Create a program that asks for a string and strips it of any whitespace before or after the text as well as making it all lowercase. The user should be able to input a string and see both the original and the stripped version of the string."
   ]
  },
  {
   "cell_type": "code",
   "execution_count": 64,
   "id": "fed1c97f-d5ca-4cd6-b17e-e7b79d14e504",
   "metadata": {},
   "outputs": [
    {
     "name": "stdin",
     "output_type": "stream",
     "text": [
      "Enter a string:      Wish You Were Here.     \n"
     ]
    },
    {
     "name": "stdout",
     "output_type": "stream",
     "text": [
      "The original string is [     Wish You Were Here.     ]\n",
      "The stripped string is [wish you were here.]\n"
     ]
    }
   ],
   "source": [
    "import math\n",
    "\n",
    "user_input = input (\"Enter a string:\")\n",
    "\n",
    "print (\"The original string is [\" + user_input + \"]\")\n",
    "\n",
    "user_input = user_input.strip()\n",
    "user_input = user_input.lower()\n",
    "\n",
    "print (\"The stripped string is [\" + user_input + \"]\")"
   ]
  },
  {
   "cell_type": "markdown",
   "id": "fc5113a4-22e1-445e-933c-6c3b1669fdeb",
   "metadata": {},
   "source": [
    "Task 7:\n",
    "Write a program that asks for a string and iterates through it to print only the smilies it finds in it. The smilies can be found at the following Unicode ranges:\n",
    "From U+1F600 to U+1F64F: This range includes many facial expressions, from happy to sad emojis.\n",
    "From U+1F300 to U+1F5FF: Contains various symbols, including some faces and figures.\n",
    "From U+2600 to U+26FF: Contains older symbols, including some smiley faces."
   ]
  },
  {
   "cell_type": "code",
   "execution_count": 73,
   "id": "e96b383d-e4b5-478f-b44c-da4ea9d168f6",
   "metadata": {},
   "outputs": [
    {
     "name": "stdin",
     "output_type": "stream",
     "text": [
      "Enter a string: Hello! 😀 This is a test 😎 with several emojis 🎉 and some text 🌞. How are you? 😂\n"
     ]
    },
    {
     "name": "stdout",
     "output_type": "stream",
     "text": [
      "Found the following smilies:\n",
      "😀 😎 🎉 🌞 😂 "
     ]
    }
   ],
   "source": [
    "string = input (\"Enter a string:\")\n",
    "\n",
    "print (\"Found the following smilies:\")\n",
    "for c in string:\n",
    "    if ( 0x1F600 <= ord(c) <= 0x1F64F) or ( 0x1F300 <= ord(c) <= 0x1F5FF) or (0x2600 <= ord(c) <= 0x26FF):\n",
    "        print (c, end = ' ')"
   ]
  },
  {
   "cell_type": "code",
   "execution_count": 72,
   "id": "82d2422c-8c98-4bfc-9fe7-8162ef6c90bd",
   "metadata": {},
   "outputs": [
    {
     "name": "stdin",
     "output_type": "stream",
     "text": [
      "Please enter a string with smilies:  Hello! 😀 This is a test 😎 with several emojis 🎉 and some text 🌞. How are you? 😂\n"
     ]
    },
    {
     "name": "stdout",
     "output_type": "stream",
     "text": [
      "Found the following smilies:\n",
      "😀 😎 🎉 🌞 😂 "
     ]
    }
   ],
   "source": [
    "input_string = input('Please enter a string with smilies: ')\n",
    "\n",
    "print('Found the following smilies:')\n",
    "for char in input_string:\n",
    "    if '\\U0001F600' <= char <= '\\U0001F64F' or '\\U0001F300' <= char <= '\\U0001F5FF' or '\\u2600' <= char <= '\\u26FF':\n",
    "        print(char, end=' ')"
   ]
  },
  {
   "cell_type": "markdown",
   "id": "1ea086f8-8826-4c1e-9da5-c19c83cb07a3",
   "metadata": {},
   "source": [
    "UNICODE CODE POINT:  \n",
    "'\\U0001F600' is for string.\n",
    "0x1F600 is the hex number.\n",
    "U+1F600 is for Unicode reference in documentation"
   ]
  },
  {
   "cell_type": "markdown",
   "id": "5cae8c41-18ad-4cb7-b9a5-9803a9166c52",
   "metadata": {},
   "source": [
    "Task 8: Write a program that checks if a given string contains two identical, consecutive words. For example, in the sentence \"I love love programming\", the word \"love\" appears twice in a row. The program should detect such instances and print the repeated word. If there are no consecutive repeated words, print a message saying so. Notice that the program only needs to find the first repeated word and end afterwards. Also, as we have not covered lists yet, we need to use several strings to find and hold words."
   ]
  },
  {
   "cell_type": "code",
   "execution_count": 77,
   "id": "9368137a-3ed4-434e-812c-64c014f5e243",
   "metadata": {},
   "outputs": [
    {
     "name": "stdin",
     "output_type": "stream",
     "text": [
      "enter the string: I love love programming\n"
     ]
    },
    {
     "name": "stdout",
     "output_type": "stream",
     "text": [
      "Repeated word:  love\n"
     ]
    }
   ],
   "source": [
    "input_string = input (\"enter the string:\")\n",
    "\n",
    "previous_word = \"\"\n",
    "current_word = \"\"\n",
    "found_repeated = False\n",
    "\n",
    "for char in input_string:\n",
    "    if char == \" \":  #if the character is a space, the word has ended\n",
    "      if current_word: # If current_word is not empty \n",
    "        if current_word == previous_word:\n",
    "            print (f\"Repeated word: {current_word}\")\n",
    "            found_repeated = True\n",
    "        previous_word = current_word  # Set the previous word\n",
    "        current_word = \"\"  # Reset current word for the next word\n",
    "    \n",
    "    current_word = current_word + char\n",
    "\n",
    "# Handle the last word in the sentence\n",
    "if current_word == previous_word and current_word != \"\":\n",
    "    print(f\"Repeated word: {current_word}\")\n",
    "    found_repeated = True\n",
    "\n",
    "# If no repeated word was found\n",
    "if not found_repeated:\n",
    "    print(\"No repeated words found\")\n",
    "            "
   ]
  },
  {
   "cell_type": "markdown",
   "id": "0b6ea83f-f551-4638-ac01-23dd82a8c152",
   "metadata": {},
   "source": [
    "Task 9: In this exercise, write a program that asks for two strings and checks if they are anagrams, that is, if the second string can be constructed by the letters in the first string. Hint: sort the strings using sorted().\n",
    "Enter the first string:  Tom Marvolo Riddle\n",
    "Enter the second string:  I AM LORD VOLDEMORT\n",
    "The strings are anagrams.\n",
    "Notice that sorted() does not return a string but a list of characters. If you want to get the sorted string back, you can join the characters using join function."
   ]
  },
  {
   "cell_type": "code",
   "execution_count": 3,
   "id": "9682873c-3d8f-4fb1-9dd2-08555b7e701b",
   "metadata": {},
   "outputs": [
    {
     "name": "stdin",
     "output_type": "stream",
     "text": [
      "Enter the first string:  Tom Marvolo Riddle\n",
      "Enter the second string:   I AM LORD VOLDEMORT\n"
     ]
    },
    {
     "name": "stdout",
     "output_type": "stream",
     "text": [
      "tommarvoloriddle\n",
      "iamlordvoldemort\n",
      "The strings are anagrams.\n"
     ]
    }
   ],
   "source": [
    "# Ask the user for input\n",
    "string1 = input('Enter the first string: ')\n",
    "string2 = input('Enter the second string: ')\n",
    "\n",
    "# We want to compare two strings so, first remove spaces from both strings and convert to lowercase\n",
    "string1 = string1.replace(' ', '').lower()\n",
    "string2 = string2.replace(' ', '').lower()\n",
    "\n",
    "print (string1)\n",
    "print (string2)\n",
    "\n",
    "\"\"\" sorted_string1 = sorted(string1)\n",
    "    sorted_string2 = sorted(string2)\n",
    "\n",
    "print(sorted_string1)\n",
    "print(sorted_string2) \"\"\"\n",
    "\n",
    "# Sort the characters of both strings\n",
    "sorted_string1 = ''.join(sorted(string1))\n",
    "sorted_string2 = ''.join(sorted(string2))\n",
    "\n",
    "# Compare the sorted strings\n",
    "if sorted_string1 == sorted_string2:\n",
    "    print('The strings are anagrams.')\n",
    "else:\n",
    "    print('The strings aren\\'t anagrams.')\n",
    "          "
   ]
  },
  {
   "cell_type": "markdown",
   "id": "478c4dc3-cb35-44d0-8ef6-8750c4b29ef5",
   "metadata": {},
   "source": [
    "Task 10: A class that is available in Python but actually not mentioned in the book is Decimal for handling decimal numbers using fixed sizes of the decimals. This makes it easier to calculate simple decimal numbers without getting the approximate value as with floats. Create a program that explores this by calculating 0.1 + 0.1 + 0.1 - 0.3 using both decimal and floating point numbers.\n",
    "\n",
    "Precison vs accuracy (more digits): Decimal is more precise even though float shows more digits which is not a sign of increased precision but rather an artifact of how floating-point numbers are stored.\n",
    "\n",
    "Just like 1/3 is a repeating fraction in decimal (0.333...), numbers like 0.1 and 0.2 are repeating fractions in binary. For example, the decimal number 0.1 in binary is an infinitely repeating fraction, so it can't be stored exactly.\n",
    "Let's look at how 0.1 is represented in binary:\n",
    "In decimal: 0.1\n",
    "In binary: 0.00011001100110011001100110011001100110011001100110011... (this is an infinite repeating fraction in binary)"
   ]
  },
  {
   "cell_type": "code",
   "execution_count": 6,
   "id": "a95101da-4a98-43c6-9daf-e040ad096e9f",
   "metadata": {},
   "outputs": [
    {
     "name": "stdout",
     "output_type": "stream",
     "text": [
      "0.0\n",
      "5.551115123125783e-17\n"
     ]
    }
   ],
   "source": [
    "from decimal import Decimal\n",
    "\n",
    "x = Decimal('0.1')\n",
    "y = Decimal('0.3')\n",
    "\n",
    "result = x+x+x-y\n",
    "\n",
    "print (result)\n",
    "\n",
    "x = 0.1\n",
    "y = 0.3\n",
    "\n",
    "result = x+x+x-y\n",
    "\n",
    "print (result)"
   ]
  },
  {
   "cell_type": "markdown",
   "id": "5d20d5fa-77dc-426e-a6f0-4acbf5e6749e",
   "metadata": {},
   "source": [
    "Task11: Write a Python program that takes a string input and extracts a substring from the middle of the string. Specifically, the program should extract and print the middle third of the string. If the string length is not divisible by three, the substring should be the central third, with any extra characters evenly distributed on either side. For example, if the input string is \"abcdefgh\", which has 8 characters, the program should extract and print \"de\", the middle third of the string.\n",
    "we need len to calculate\n",
    "one-third\n",
    "middle-third"
   ]
  },
  {
   "cell_type": "code",
   "execution_count": null,
   "id": "783b4103-5569-4ea1-be47-bfcd8bd35f1c",
   "metadata": {},
   "outputs": [],
   "source": [
    "input_string = input('Enter a string: ')\n",
    "length = len(input_string)\n",
    "third_length = length // 3 #returns the floor division  \n",
    "extra_chars = length % 3\n",
    "start_index = third_length + extra_chars // 2\n",
    "end_index = start_index + third_length\n",
    "substring = input_string[start_index:end_index]\n",
    "print('The middle third of the string is:', substring)"
   ]
  },
  {
   "cell_type": "markdown",
   "id": "0cf9ee71-d7ee-4974-9725-fd7be39d9891",
   "metadata": {},
   "source": [
    "Task12: Create a password generator that asks for the length of the password and then generates a random password consisting of letters, numbers and punctuation symbols."
   ]
  },
  {
   "cell_type": "code",
   "execution_count": 7,
   "id": "260c16ec-b283-445e-9b5c-c6b7d437b34f",
   "metadata": {},
   "outputs": [
    {
     "name": "stdin",
     "output_type": "stream",
     "text": [
      "Enter the desired password length:  12\n"
     ]
    },
    {
     "name": "stdout",
     "output_type": "stream",
     "text": [
      "Generated password: LPWmgl+C+uCI\n"
     ]
    }
   ],
   "source": [
    "import string # for using ascii_letters , digits, and punctuation\n",
    "import random\n",
    "\n",
    "characters = string.ascii_letters + string.digits + string.punctuation\n",
    "\n",
    "password_length = int(input('Enter the desired password length: '))\n",
    "\n",
    "password = ''\n",
    "for _ in range(password_length):\n",
    "    password += random.choice(characters)\n",
    "\n",
    "print(\"Generated password:\", password)"
   ]
  },
  {
   "cell_type": "code",
   "execution_count": null,
   "id": "096c0133-5b20-4f6b-98f2-fcb9ee835d0d",
   "metadata": {},
   "outputs": [],
   "source": []
  }
 ],
 "metadata": {
  "kernelspec": {
   "display_name": "Python 3 (ipykernel)",
   "language": "python",
   "name": "python3"
  },
  "language_info": {
   "codemirror_mode": {
    "name": "ipython",
    "version": 3
   },
   "file_extension": ".py",
   "mimetype": "text/x-python",
   "name": "python",
   "nbconvert_exporter": "python",
   "pygments_lexer": "ipython3",
   "version": "3.12.5"
  }
 },
 "nbformat": 4,
 "nbformat_minor": 5
}
