{
 "cells": [
  {
   "cell_type": "code",
   "execution_count": 2,
   "id": "ab76bfea-92d5-4cd0-9ace-0d7a139c7fa4",
   "metadata": {},
   "outputs": [
    {
     "name": "stdout",
     "output_type": "stream",
     "text": [
      "('green', 'blue')\n",
      "blue\n",
      "('green',)\n"
     ]
    }
   ],
   "source": [
    "colours = ('red', 'green', 'blue')\n",
    "print(colours[1:3])\n",
    "print(colours[-1])\n",
    "print(colours[1:2])"
   ]
  },
  {
   "cell_type": "code",
   "execution_count": 7,
   "id": "6647f840-d5c1-4937-98ee-42e697ee9801",
   "metadata": {},
   "outputs": [
    {
     "name": "stdout",
     "output_type": "stream",
     "text": [
      "red\n",
      "green\n",
      "blue\n"
     ]
    }
   ],
   "source": [
    "colours = 'red', 'green', 'blue'\n",
    "r, g, b = colours\n",
    "print(r)\n",
    "print(g)\n",
    "print(b)"
   ]
  },
  {
   "cell_type": "code",
   "execution_count": 13,
   "id": "e32a6acd-8971-415c-be4a-b994e7f57a34",
   "metadata": {},
   "outputs": [
    {
     "name": "stdout",
     "output_type": "stream",
     "text": [
      "red green\n",
      "('red', 'green', 'blue')\n"
     ]
    }
   ],
   "source": [
    "def colours(number):\n",
    "    if number == 1:\n",
    "        return 'red'\n",
    "    elif number == 2:\n",
    "        return 'red', 'green'\n",
    "    else:\n",
    "        return 'red', 'green', 'blue'\n",
    "        \n",
    "def main():\n",
    "    r,g = colours(2)\n",
    "    x = colours(3)\n",
    "    print(r,g)\n",
    "    print(x)\n",
    "    \n",
    "main()"
   ]
  },
  {
   "cell_type": "code",
   "execution_count": 15,
   "id": "6c7ce1b4-0d49-4047-b63b-dc83c84fc04e",
   "metadata": {},
   "outputs": [
    {
     "name": "stdout",
     "output_type": "stream",
     "text": [
      "('c', 'o', 'l', 'o', 'u', 'r', 's', ' ', 'a', 'r', 'e')\n"
     ]
    }
   ],
   "source": [
    "str = 'colours are'\n",
    "colour_tuple = tuple(str)\n",
    "print(colour_tuple)"
   ]
  },
  {
   "cell_type": "code",
   "execution_count": 18,
   "id": "131032a9-6640-450c-8845-1686b0f6e2db",
   "metadata": {},
   "outputs": [
    {
     "name": "stdout",
     "output_type": "stream",
     "text": [
      "{'Wampa', 'Gundark', 'Eopie', 'Reek', 'Nexu'}\n",
      "{'k', 'l', 'c', 'y', 'a'}\n",
      "5\n"
     ]
    }
   ],
   "source": [
    "animals = ['Wampa', 'Eopie', 'Gundark','Nexu', 'Reek', 'Wampa', 'Reek']\n",
    "unique_animals = set(animals)\n",
    "print(unique_animals)\n",
    "\n",
    "acklay = 'acklay'\n",
    "unique_acklay = set(acklay)\n",
    "print(unique_acklay)\n",
    "print(len(unique_acklay))"
   ]
  },
  {
   "cell_type": "code",
   "execution_count": 19,
   "id": "e538f1d5-b559-4183-a6e7-313986d69e5d",
   "metadata": {},
   "outputs": [
    {
     "name": "stdout",
     "output_type": "stream",
     "text": [
      "Is sub_animals a subset of animals? True\n"
     ]
    }
   ],
   "source": [
    "animals = {'Tauntaun', 'Banta', 'Dewback', 'Rancor', 'Sarlacc'}\n",
    "sub_animals = {'Tauntaun', 'Dewback', 'Banta'}\n",
    "print(f'Is sub_animals a subset of animals? {sub_animals <= animals}')"
   ]
  },
  {
   "cell_type": "code",
   "execution_count": 25,
   "id": "665ef4d8-69b9-465a-8a14-c7ef496a0eaa",
   "metadata": {},
   "outputs": [
    {
     "name": "stdout",
     "output_type": "stream",
     "text": [
      "All animals: {'Eopie', 'Tauntaun', 'Wampa', 'Dewback', 'Bantha', 'Sarlacc'}\n"
     ]
    }
   ],
   "source": [
    "tatooine_animals = {'Bantha', 'Dewback', 'Eopie', 'Sarlacc'}\n",
    "hoth_animals = {'Tauntaun', 'Wampa'}\n",
    "naboo_animals = {'Fambaa', 'Kaadu', 'Sarlacc'}\n",
    "baboo_animals = {'flower'}\n",
    "all_animals = tatooine_animals.union(hoth_animals, naboo_animals, baboo_animals)\n",
    "print('All animals:', all_animals)"
   ]
  },
  {
   "cell_type": "code",
   "execution_count": 32,
   "id": "445d2f71-a810-4383-9769-6fba3e6c3449",
   "metadata": {},
   "outputs": [
    {
     "name": "stdout",
     "output_type": "stream",
     "text": [
      "Can I get an Amiga?: None\n",
      "dict_keys(['atarist', 'c64', 'zx80', 'a3010'])\n",
      "dict_values(['Atari ST, 16/32-bit from 1985', 'Commodore 64, 8-bit from 1982', 'Sinclair ZX80, 8-bit from 1960', 'Acorn A3010, 32-bit from 1992'])\n",
      "{'atarist': 'Atari ST, 16/32-bit from 1985', 'c64': 'Commodore 64, 8-bit from 1982', 'zx80': 'Sinclair ZX80, 8-bit from 1960', 'a3010': 'Acorn A3010, 32-bit from 1992'}\n",
      "{'atarist': 'Atari ST, 16/32-bit from 1985', 'c64': 'Commodore 64, 8-bit from 1982', 'a3010': 'Acorn A3010, 32-bit from 1992'}\n"
     ]
    }
   ],
   "source": [
    "computers = {\n",
    "'atarist': 'Atari ST, 16/32-bit from 1985',\n",
    "'c64': 'Commodore 64, 8-bit from 1982',\n",
    "'zx80': 'Sinclair ZX80, 8-bit from 1960',\n",
    "'a3010': 'Acorn A3010, 32-bit from 1992'\n",
    "}\n",
    "print('Can I get an Amiga?:', computers.get('amiga'))\n",
    "\n",
    "keys = computers.keys()\n",
    "print(keys)\n",
    "\n",
    "values = computers.values()\n",
    "print(values)\n",
    "\n",
    "items = computers.items()\n",
    "print(computers)\n",
    "\n",
    "computers.pop('zx80')\n",
    "print(computers)"
   ]
  },
  {
   "cell_type": "code",
   "execution_count": 33,
   "id": "bc33e519-bb40-4a5f-9d31-8463ba84c365",
   "metadata": {},
   "outputs": [
    {
     "name": "stdout",
     "output_type": "stream",
     "text": [
      "Current working directory: /Users/nemaaa/501\n"
     ]
    }
   ],
   "source": [
    "import os\n",
    "current_directory = os.getcwd()\n",
    "print(\"Current working directory:\", current_directory)"
   ]
  },
  {
   "cell_type": "code",
   "execution_count": 39,
   "id": "53bdee09-de28-4b97-9992-fa95f4d1b477",
   "metadata": {},
   "outputs": [
    {
     "name": "stdout",
     "output_type": "stream",
     "text": [
      "Remember when you were young, you shone like the sun.\n",
      "Shine on you crazy diamond.\n",
      "Now there's a look in your eyes, like black holes in the sky.\n",
      "Shine on you crazy diamond.\n",
      "You were caught on the crossfire of childhood and stardom,\n",
      "Blown on the steel breeze.\n",
      "Come on you target for faraway laughter,\n",
      "Come on you stranger, you legend, you martyr, and shine!\n",
      "You reached for the secret too soon, you cried for the moon.\n",
      "Shine on you crazy diamond.\n",
      "Threatened by shadows at night, and exposed in the light.\n",
      "Shine on you crazy diamond.\n",
      "Well you wore out your welcome with random precision,\n",
      "Rode on the steel breeze.\n",
      "Come on you raver, you seer of visions,"
     ]
    }
   ],
   "source": [
    "file = open('shine.txt', 'r')\n",
    "for x in file:\n",
    "    print(x, end='')\n",
    "file.close()"
   ]
  },
  {
   "cell_type": "code",
   "execution_count": 40,
   "id": "a4d1d69c-0015-4a96-893c-4fc7d5578e1b",
   "metadata": {},
   "outputs": [
    {
     "name": "stdout",
     "output_type": "stream",
     "text": [
      "Lines in the lyrics: 15\n",
      "Line 5: Blown on the steel breeze.\n",
      "\n"
     ]
    }
   ],
   "source": [
    "shine = open('shine.txt', 'r')\n",
    "lyrics = shine.readlines()\n",
    "print('Lines in the lyrics:', len(lyrics))\n",
    "print('Line 5:', lyrics[5])\n",
    "shine.close()"
   ]
  },
  {
   "cell_type": "code",
   "execution_count": null,
   "id": "90604cef-0cbc-4661-8a17-a92f03c3a846",
   "metadata": {},
   "outputs": [],
   "source": []
  }
 ],
 "metadata": {
  "kernelspec": {
   "display_name": "Python 3 (ipykernel)",
   "language": "python",
   "name": "python3"
  },
  "language_info": {
   "codemirror_mode": {
    "name": "ipython",
    "version": 3
   },
   "file_extension": ".py",
   "mimetype": "text/x-python",
   "name": "python",
   "nbconvert_exporter": "python",
   "pygments_lexer": "ipython3",
   "version": "3.12.5"
  }
 },
 "nbformat": 4,
 "nbformat_minor": 5
}
