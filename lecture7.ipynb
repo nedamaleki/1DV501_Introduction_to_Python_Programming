{
 "cells": [
  {
   "cell_type": "code",
   "execution_count": 3,
   "id": "cf58ff9c-0223-426d-bfd1-347359f4aaa8",
   "metadata": {},
   "outputs": [
    {
     "name": "stdin",
     "output_type": "stream",
     "text": [
      "Enter track 1 of Animals:  pigs are here\n",
      "Enter track 2 of Animals:  dogs\n",
      "Enter track 3 of Animals:  cats\n",
      "Enter track 4 of Animals:  rabbits are here\n",
      "Enter track 5 of Animals:  horses\n"
     ]
    },
    {
     "name": "stdout",
     "output_type": "stream",
     "text": [
      "The tracks are:\n",
      "['pigs are here', 'dogs', 'cats', 'rabbits are here', 'horses']\n",
      "pigs are here\n",
      "dogs\n",
      "cats\n",
      "rabbits are here\n",
      "horses\n"
     ]
    }
   ],
   "source": [
    "animals = []\n",
    "\n",
    "for i in range(5):\n",
    "    animal = input(f'Enter track {i + 1} of Animals: ')\n",
    "    animals.append(animal)\n",
    "\n",
    "print('The tracks are:')\n",
    "\n",
    "print (animals)\n",
    "\n",
    "for a in animals:\n",
    "    print(a)"
   ]
  },
  {
   "cell_type": "code",
   "execution_count": 7,
   "id": "0b1e079e-005b-42c9-b03f-c7ed9a6469d1",
   "metadata": {},
   "outputs": [
    {
     "name": "stdout",
     "output_type": "stream",
     "text": [
      "Ni! appears 3 times in the list.\n"
     ]
    }
   ],
   "source": [
    "quotes = [\n",
    "'We are the knights who say Ni!',\n",
    "'Ni!',\n",
    "'Bring us a shrubbery!',\n",
    "'Ni!',\n",
    "'Another shrubbery!',\n",
    "'Ni!'\n",
    "]\n",
    "value_to_find = 'Ni!'\n",
    "count_value = quotes.count(value_to_find)\n",
    "print(f\"{value_to_find} appears {count_value} times in the list.\")"
   ]
  },
  {
   "cell_type": "code",
   "execution_count": 18,
   "id": "de0719e3-30c2-45c3-9062-025591b8b82b",
   "metadata": {},
   "outputs": [
    {
     "name": "stdout",
     "output_type": "stream",
     "text": [
      "count-value is:  4\n",
      "1\n",
      "3\n",
      "5\n",
      "7\n",
      "All occurrences of 'Ni!': [0, 2, 4, 6]\n"
     ]
    }
   ],
   "source": [
    "quotes = [\n",
    "    'Ni!',\n",
    "    'We are the knights who say Ni!',\n",
    "    'Ni!',\n",
    "    'Bring us a shrubbery!',\n",
    "    'Ni!',\n",
    "    'Another shrubbery!',\n",
    "    'Ni!'\n",
    "]\n",
    "\n",
    "value_to_find = 'Ni!'\n",
    "count_value = quotes.count(value_to_find)  # Count how many times 'Ni!' appears in the list\n",
    "print(\"count-value is: \",count_value)\n",
    "\n",
    "occurrences = []\n",
    "start = 0  # Start searching from index 0\n",
    "\n",
    "# Loop to find all occurrences\n",
    "for _ in range(count_value):\n",
    "    index = quotes.index(value_to_find, start)  # Find 'Ni!' starting from 'start'\n",
    "    occurrences.append(index)  # Add the found index to the list\n",
    "    start = index + 1  # Move 'start' to the next position\n",
    "    print(start)\n",
    "\n",
    "print(f\"All occurrences of '{value_to_find}': {occurrences}\")\n"
   ]
  },
  {
   "cell_type": "code",
   "execution_count": 10,
   "id": "367d96cc-d9cf-4759-ae0d-de4eeb03de08",
   "metadata": {},
   "outputs": [
    {
     "name": "stdout",
     "output_type": "stream",
     "text": [
      "Enter positive integers. End by giving a negative integer.\n"
     ]
    },
    {
     "name": "stdin",
     "output_type": "stream",
     "text": [
      "Integer 1:  5\n",
      "Integer 2:  7\n",
      "Integer 3:  3\n",
      "Integer 4:  6\n",
      "Integer 5:  -5\n"
     ]
    },
    {
     "name": "stdout",
     "output_type": "stream",
     "text": [
      "\n",
      "Number of positive integers: 4\n",
      "Positive numbers: 5, 7, 3, "
     ]
    }
   ],
   "source": [
    "# Read and print positive numbers\n",
    "\n",
    "print(\"Enter positive integers. End by giving a negative integer.\")\n",
    "\n",
    "lst = []\n",
    "n = 1\n",
    "i = 1\n",
    "\n",
    "while n > 0:\n",
    "    n = int(input(\"Integer \"+str(i)+\": \"))\n",
    "    if n > 0:\n",
    "        lst.append(n)\n",
    "    i += 1\n",
    "\n",
    "print(\"\\nNumber of positive integers:\", len(lst))\n",
    "print(\"Positive numbers: \", end='')\n",
    "\n",
    "for n in range(len(lst) - 1):\n",
    "    print(f'{lst[n]}, ', end='')\n",
    "print(lst[-1])"
   ]
  },
  {
   "cell_type": "code",
   "execution_count": 21,
   "id": "87aa3fa9-2d9f-4a5f-89c3-012f9643aa6b",
   "metadata": {},
   "outputs": [
    {
     "name": "stdout",
     "output_type": "stream",
     "text": [
      "Lyrics (5 lines):\n",
      "How I wish, how I wish you were here\n",
      "We're just two lost souls swimming in a fish bowl\n",
      "Year after year\n",
      "Running over the same old ground, what have we found?\n",
      "The same old fears, wish you were here\n",
      "\n",
      "Tokens in each line:\n",
      "['How', 'I', 'wish,', 'how', 'I', 'wish', 'you', 'were', 'here']\n",
      "[\"We're\", 'just', 'two', 'lost', 'souls', 'swimming', 'in', 'a', 'fish', 'bowl']\n",
      "['Year', 'after', 'year']\n",
      "['Running', 'over', 'the', 'same', 'old', 'ground,', 'what', 'have', 'we', 'found?']\n",
      "['The', 'same', 'old', 'fears,', 'wish', 'you', 'were', 'here']\n"
     ]
    }
   ],
   "source": [
    "lyrics = '''\n",
    "How I wish, how I wish you were here\n",
    "We're just two lost souls swimming in a fish bowl\n",
    "Year after year\n",
    "Running over the same old ground, what have we found?\n",
    "The same old fears, wish you were here\n",
    "'''\n",
    "lines = lyrics.strip().split('\\n')\n",
    "print(f'Lyrics ({len(lines)} lines):')\n",
    "for line in lines:\n",
    "    print(line)\n",
    "    \n",
    "# Split each line further into words/tokens\n",
    "print('\\nTokens in each line:')\n",
    "for line in lines:\n",
    "    tokens = line.split()\n",
    "    print(f'{tokens}')"
   ]
  },
  {
   "cell_type": "code",
   "execution_count": 23,
   "id": "9072e69b-166e-4a56-84ba-036584c792c2",
   "metadata": {},
   "outputs": [
    {
     "name": "stdout",
     "output_type": "stream",
     "text": [
      "All numbers from 1 to 10: [1, 2, 3, 4, 5, 6, 7, 8, 9, 10]\n"
     ]
    }
   ],
   "source": [
    "all_numbers = [x for x in range (1,11)]\n",
    "print(f'All numbers from 1 to 10: {all_numbers}')"
   ]
  },
  {
   "cell_type": "code",
   "execution_count": 24,
   "id": "e97e456a-9a5f-49aa-b1b0-7e98e5458081",
   "metadata": {},
   "outputs": [
    {
     "name": "stdout",
     "output_type": "stream",
     "text": [
      "All even numbers from 1 to 10: [2, 4, 6, 8, 10]\n"
     ]
    }
   ],
   "source": [
    "even_numbers = [x for x in range (1,11) if x%2 == 0]\n",
    "print(f'All even numbers from 1 to 10: {even_numbers}')"
   ]
  },
  {
   "cell_type": "code",
   "execution_count": 25,
   "id": "132c4c1a-ca14-4c3c-9b25-b5a558c78248",
   "metadata": {},
   "outputs": [
    {
     "name": "stdout",
     "output_type": "stream",
     "text": [
      "['A', 'T', 'R', 'T', 'A', 'R']\n"
     ]
    }
   ],
   "source": [
    "star_wars_movies = ['A New Hope', 'The Empire Strikes Back',\n",
    "'Return of the Jedi', 'The Phantom Menace',\n",
    "'Attack of the Clones', 'Revenge of the Sith']\n",
    "\n",
    "first_letters = [movie[0] for movie in star_wars_movies]\n",
    "print(first_letters)"
   ]
  },
  {
   "cell_type": "markdown",
   "id": "ef2754ba-d18f-4cc6-aa75-f14616c292d3",
   "metadata": {},
   "source": [
    "In this example, each of the elements in the supplied list is being\n",
    "multiplied with itself if the number is even"
   ]
  },
  {
   "cell_type": "code",
   "execution_count": 27,
   "id": "eb8b362b-286b-4830-9cea-5a570875f4d3",
   "metadata": {},
   "outputs": [
    {
     "name": "stdout",
     "output_type": "stream",
     "text": [
      "[4, 16]\n"
     ]
    }
   ],
   "source": [
    "numbers = [1, 2, 3, 4, 5]\n",
    "multiplied_list = [element*element for element in numbers if element %2 == 0]\n",
    "print(multiplied_list)"
   ]
  },
  {
   "cell_type": "code",
   "execution_count": null,
   "id": "8d8d3273-5008-4bcf-a61e-4a145fb606ce",
   "metadata": {},
   "outputs": [],
   "source": []
  }
 ],
 "metadata": {
  "kernelspec": {
   "display_name": "Python 3 (ipykernel)",
   "language": "python",
   "name": "python3"
  },
  "language_info": {
   "codemirror_mode": {
    "name": "ipython",
    "version": 3
   },
   "file_extension": ".py",
   "mimetype": "text/x-python",
   "name": "python",
   "nbconvert_exporter": "python",
   "pygments_lexer": "ipython3",
   "version": "3.12.5"
  }
 },
 "nbformat": 4,
 "nbformat_minor": 5
}
