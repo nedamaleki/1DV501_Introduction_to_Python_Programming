{
 "cells": [
  {
   "cell_type": "code",
   "execution_count": 1,
   "id": "845a7456-7bbc-46ce-b1e6-4fdbd4169e47",
   "metadata": {},
   "outputs": [
    {
     "name": "stdin",
     "output_type": "stream",
     "text": [
      "Enter a positive integer:  7\n"
     ]
    },
    {
     "name": "stdout",
     "output_type": "stream",
     "text": [
      "Is it a prime? True\n",
      "Next prime after 7 is 11\n"
     ]
    }
   ],
   "source": [
    "import prime\n",
    "\n",
    "number = int(input(\"Enter a positive integer: \"))\n",
    "\n",
    "#For triggering the autocompletion dropdown, showing you the list of functions and variables available in the (prime) module, After typing module name and dot (prime.), press the Tab key.\n",
    "#print(prime.is_prime(number))\n",
    "\n",
    "print(f'Is it a prime? {prime.is_prime(number)}')\n",
    "print(f'Next prime after {number} is {prime.next_prime(number)}')"
   ]
  },
  {
   "cell_type": "code",
   "execution_count": 2,
   "id": "8d1de272-0fb6-4f39-91f4-2963540c5d79",
   "metadata": {},
   "outputs": [
    {
     "name": "stdout",
     "output_type": "stream",
     "text": [
      "/Users/nemaaa/501/lecture6.ipynb\n"
     ]
    }
   ],
   "source": [
    "import os\n",
    "\n",
    "# Assuming your file is in the current working directory\n",
    "file_name = \"lecture6.ipynb\"\n",
    "file_path = os.path.abspath(file_name)\n",
    "\n",
    "print(file_path)"
   ]
  },
  {
   "cell_type": "code",
   "execution_count": 3,
   "id": "12f73562-bdb9-413c-9d36-6c3bb0bdcafb",
   "metadata": {},
   "outputs": [
    {
     "name": "stdout",
     "output_type": "stream",
     "text": [
      "/Users/nemaaa/501\n"
     ]
    }
   ],
   "source": [
    "import os\n",
    "print(os.getcwd())"
   ]
  },
  {
   "cell_type": "code",
   "execution_count": null,
   "id": "b926d318-e8e4-42eb-909e-e609b3ba19e1",
   "metadata": {},
   "outputs": [],
   "source": []
  }
 ],
 "metadata": {
  "kernelspec": {
   "display_name": "Python 3 (ipykernel)",
   "language": "python",
   "name": "python3"
  },
  "language_info": {
   "codemirror_mode": {
    "name": "ipython",
    "version": 3
   },
   "file_extension": ".py",
   "mimetype": "text/x-python",
   "name": "python",
   "nbconvert_exporter": "python",
   "pygments_lexer": "ipython3",
   "version": "3.12.5"
  }
 },
 "nbformat": 4,
 "nbformat_minor": 5
}
